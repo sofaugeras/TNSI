{
 "cells": [
  {
   "cell_type": "markdown",
   "metadata": {},
   "source": [
    "# DS NSI n°3 : Base de données"
   ]
  },
  {
   "cell_type": "markdown",
   "metadata": {},
   "source": [
    "Dans ce devoir, nous allons analyser une base de données sur le thème du cinema. \n",
    "Vous préparerez quelques requêtes SQL dans un premier temps, puis\n",
    "vous utiliserez Python pour exécuter et exploiter les requêtes SQL. \n",
    "\n",
    "Vous devez récupérer la base [ici](https://github.com/sofaugeras/TNSI/blob/master/2_Base%20de%20donn%C3%A9es/cinema_BD)."
   ]
  },
  {
   "cell_type": "code",
   "execution_count": null,
   "metadata": {},
   "outputs": [],
   "source": [
    "%load_ext sql\n",
    "\n",
    "%sql sqlite:///cinema_BD"
   ]
  },
  {
   "cell_type": "markdown",
   "metadata": {},
   "source": [
    "**Travail à faire :**\n",
    "\n",
    "Rédiger en langage SQL les requêtes suivantes :"
   ]
  },
  {
   "cell_type": "markdown",
   "metadata": {},
   "source": [
    "1)\tSélectionner tous les films dont les recettes sont supérieures à 1000."
   ]
  },
  {
   "cell_type": "code",
   "execution_count": null,
   "metadata": {},
   "outputs": [],
   "source": [
    "%%sql\n",
    "SELECT titre,recettes\n",
    "FROM Film\n",
    "WHERE recettes > 1000 ;\n"
   ]
  },
  {
   "cell_type": "markdown",
   "metadata": {},
   "source": [
    "2)\tSélectionner tous les films de George Lucas"
   ]
  },
  {
   "cell_type": "code",
   "execution_count": null,
   "metadata": {},
   "outputs": [],
   "source": [
    "%%sql\n",
    "SELECT Titre\n",
    "FROM Film\n",
    "WHERE nom_realisateur = 'Lucas' AND prenom_realisateur='George' ;"
   ]
  },
  {
   "cell_type": "markdown",
   "metadata": {},
   "source": [
    "4)\tAfficher les films entre 2000 et 2005"
   ]
  },
  {
   "cell_type": "code",
   "execution_count": null,
   "metadata": {},
   "outputs": [],
   "source": [
    "%%sql\n",
    "SELECT titre,annee\n",
    "FROM Film\n",
    "WHERE annee BETWEEN 2000 AND 2005;"
   ]
  },
  {
   "cell_type": "code",
   "execution_count": null,
   "metadata": {},
   "outputs": [],
   "source": [
    "%%sql\n",
    "SELECT titre,annee\n",
    "FROM Film\n",
    "WHERE annee >= 2000 AND annee <= 2005;"
   ]
  },
  {
   "cell_type": "markdown",
   "metadata": {},
   "source": [
    "5)\tAfficher tous les films dont le titre commence par « T »."
   ]
  },
  {
   "cell_type": "code",
   "execution_count": null,
   "metadata": {},
   "outputs": [],
   "source": [
    "%%sql\n",
    "SELECT Titre\n",
    "FROM Film\n",
    "WHERE titre LIKE 'T%';"
   ]
  },
  {
   "cell_type": "markdown",
   "metadata": {},
   "source": [
    "6)\tAffichez pour chaque réalisateur le nombre de ses films présents dans la base"
   ]
  },
  {
   "cell_type": "code",
   "execution_count": null,
   "metadata": {},
   "outputs": [],
   "source": [
    "%%sql\n",
    "SELECT COUNT(*), nom_realisateur\n",
    "FROM Film\n",
    "GROUP BY nom_realisateur;"
   ]
  },
  {
   "cell_type": "markdown",
   "metadata": {},
   "source": [
    "7)\tAfficher le nombre de film fantastique pour chaque année."
   ]
  },
  {
   "cell_type": "code",
   "execution_count": null,
   "metadata": {},
   "outputs": [],
   "source": [
    "%%sql\n",
    "SELECT COUNT(*), nomGenre\n",
    "FROM Film INNER JOIN GENRE\n",
    "ON film.idgenre = genre.id\n",
    "GROUP BY nomGenre"
   ]
  },
  {
   "cell_type": "markdown",
   "metadata": {},
   "source": [
    "8)\tAfficher la somme des recettes, le nombre et la moyenne des recettes des films Harry Potter"
   ]
  },
  {
   "cell_type": "code",
   "execution_count": null,
   "metadata": {},
   "outputs": [],
   "source": [
    "result = %sql SELECT SUM(recettes) AS 'somme des recettes', COUNT(*) AS 'nb de film', AVG(recettes) AS 'moy des recettes' FROM Film WHERE titre LIKE 'Harry Potter%';\n",
    "result"
   ]
  },
  {
   "cell_type": "markdown",
   "metadata": {},
   "source": [
    "9) Ecrire l'assert qui permet de valider la réponse ci dessus"
   ]
  },
  {
   "cell_type": "code",
   "execution_count": null,
   "metadata": {},
   "outputs": [],
   "source": [
    "assert result[0][0] == 7668"
   ]
  },
  {
   "cell_type": "markdown",
   "metadata": {},
   "source": [
    "## Partie Base de Données et Python"
   ]
  },
  {
   "cell_type": "markdown",
   "metadata": {},
   "source": [
    "Pour rappel, on ouvre un curseur en indiquant les instructions suivantes."
   ]
  },
  {
   "cell_type": "code",
   "execution_count": null,
   "metadata": {},
   "outputs": [],
   "source": [
    "import sqlite3\n",
    "bdd = sqlite3.connect(\"cinema_BD\")\n",
    "curseur = bdd.cursor()"
   ]
  },
  {
   "cell_type": "markdown",
   "metadata": {},
   "source": [
    "et pour l'executer "
   ]
  },
  {
   "cell_type": "code",
   "execution_count": null,
   "metadata": {},
   "outputs": [],
   "source": [
    "curseur.execute(requete)\n",
    "resultats = curseur.fetchall()\n",
    "#ou \n",
    "#resultats = curseur.fetchone()\n",
    "#resultats"
   ]
  },
  {
   "cell_type": "markdown",
   "metadata": {},
   "source": [
    "et un exemple de fonction"
   ]
  },
  {
   "cell_type": "code",
   "execution_count": null,
   "metadata": {},
   "outputs": [],
   "source": [
    "def recupDonnees(c):\n",
    "    requete = \"SELECT nom_realisateur, annee, titre FROM FILM\"\n",
    "    c.execute(requete)\n",
    "    r = c.fetchall()\n",
    "    if len(r) == 0:\n",
    "        return None\n",
    "    elif len(r) >= 1:\n",
    "        liste = []\n",
    "        for i in range(len(r)) :\n",
    "            liste.append(r[i][0])\n",
    "        return liste"
   ]
  },
  {
   "cell_type": "code",
   "execution_count": null,
   "metadata": {},
   "outputs": [],
   "source": [
    "recup = recupDonnees(curseur)\n",
    "recup"
   ]
  },
  {
   "cell_type": "markdown",
   "metadata": {},
   "source": [
    "**Travail à faire :**\n",
    "\n",
    "A l'aide de la base de données Cinéma, créer une fonction de création d'unDictionnaire Python ayant pour clé le nom du réalisateur concaténé à l'année de sortie du film et ayant pour valeur le nom du film.\n",
    "\n",
    "\n",
    "exemple : "
   ]
  },
  {
   "cell_type": "code",
   "execution_count": null,
   "metadata": {},
   "outputs": [],
   "source": [
    "liste_film = [{\"cle\" : \"scott1982\", \"titre\" : \"1492\"}, \n",
    "              {\"cle\" : \"Lynch1985\", \"titre\" : \"Dune\"}    \n",
    "            ] "
   ]
  },
  {
   "cell_type": "code",
   "execution_count": null,
   "metadata": {},
   "outputs": [],
   "source": [
    "def recupDonnees(c):\n",
    "    requete = \"SELECT nom_realisateur, annee, titre FROM FILM\"\n",
    "    c.execute(requete)\n",
    "    r = c.fetchall()\n",
    "    if len(r) == 0:\n",
    "        return None\n",
    "    elif len(r) >= 1:\n",
    "        liste = []\n",
    "        for i in range(len(r)) :\n",
    "            dict ={\"cle\" : str(r[i][0])+str(r[i][1]), \"titre\" : r[i][2]}\n",
    "            liste.append(dict)\n",
    "        return liste"
   ]
  },
  {
   "cell_type": "code",
   "execution_count": null,
   "metadata": {},
   "outputs": [],
   "source": [
    "liste_film = recupDonnees(curseur)\n",
    "liste_film"
   ]
  },
  {
   "cell_type": "code",
   "execution_count": null,
   "metadata": {},
   "outputs": [],
   "source": [
    "bdd.close()"
   ]
  }
 ],
 "metadata": {
  "kernelspec": {
   "display_name": "Python 3",
   "language": "python",
   "name": "python3"
  },
  "language_info": {
   "codemirror_mode": {
    "name": "ipython",
    "version": 3
   },
   "file_extension": ".py",
   "mimetype": "text/x-python",
   "name": "python",
   "nbconvert_exporter": "python",
   "pygments_lexer": "ipython3",
   "version": "3.8.3"
  }
 },
 "nbformat": 4,
 "nbformat_minor": 4
}
