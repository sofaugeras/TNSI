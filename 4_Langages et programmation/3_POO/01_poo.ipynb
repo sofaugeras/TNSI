{
 "cells": [
  {
   "cell_type": "markdown",
   "metadata": {},
   "source": [
    "#  Introduction à la programmation objet\n",
    "\n",
    "La programmation objet correspond à une manière peut-être plus naturelle pour les humains, de concevoir le fonctionnement d'un programme. En ce moment où vous lisez le notebook, plusieurs \"objets\" sont en action. Un écran qui affiche le notebook ; des yeux qui reçoivent la lumière ; une première partie du cerveau, le cortex visuel, qui transforme cette lumière en images ; et enfin une deuxième partie du cerveau, le cortex cérébral, qui transforme cette image en pensée. La communication se fait ici à sens unique, de l'écran vers la pensée.  \n",
    "Dans un deuxième temps, vous allez répondre aux questions posées plus loin. Il y aura interaction dans les deux sens, en rajoutant un autre objet, le clavier.  \n",
    "On est donc en présence d'objets ayant à la fois des caractéritiques, et des actions, qui leurs sont propres. Le clavier a comme caractéristiques ses touches, la manière dont il est connecté à l'ordinateur. Et ses actions peuvent être de communication vers l'ordinateur : envoyer le code d'une touche ; ou bien en provenance de l'ordinateur : configuration en azerty ou qwerty. Remarquez que l'objet clavier est ici défini de manière générale, on ne précise pas sa marque, son agencement de touches etc. De la même manière que l'on dit \"j'ai pris la voiture\" et non pas \"j'ai pris la 2CV orange de 1964\".  \n",
    "\n",
    "## Retour sur des usages masqués de la classe de 1ère :\n",
    "\n",
    "Comme M.Jourdain faisait de la prose sans le savoir, vous avez déjà utilisé l'an passé la programmation objet.\n",
    "\n",
    "Regardons par exemple comment est programmée la fonction randint de la bibliothèque random :\n",
    "\n"
   ]
  },
  {
   "cell_type": "code",
   "execution_count": null,
   "metadata": {},
   "outputs": [],
   "source": [
    "import random\n",
    "import inspect\n",
    "\n",
    "print(inspect.getsource(random.randint)) "
   ]
  },
  {
   "cell_type": "markdown",
   "metadata": {},
   "source": [
    "Excepté la présence d'un *self* surprenant (randint n'ayant besoin que de 2 paramètres a et b), rien de nouveau, on voit la définition d'une fonction très courte...\n",
    "\n",
    "Inspectons maintenant tout le code de la bibliothèque random, on constate la présence de mots-clés comme class, une fonction __init__ et si vous chercher bien on y retrouve la fonction randint... mais inclue dans la définition de la classe"
   ]
  },
  {
   "cell_type": "code",
   "execution_count": null,
   "metadata": {},
   "outputs": [],
   "source": [
    "print(inspect.getsource(random))"
   ]
  },
  {
   "cell_type": "markdown",
   "metadata": {},
   "source": [
    "La fonction __init__ présente en Python dans toute classe est appélée **constructeur** et la fonction randint est ce qu'on appelle une **méthode** de la classe. Ce vocabulaire est précisé dans la partie suivante, avec un exemple de création d'une nouvelle classe (car c'est tout l'intérêt de la programmation orientée objet, le programmeur définissant lui même ses propres classes avec ses méthodes et ses attributs)"
   ]
  },
  {
   "cell_type": "markdown",
   "metadata": {},
   "source": [
    "\n",
    "## Objectif belote ?\n",
    "Nous allons utiliser ce principe d'\"objets\" pour jouer à la belote, ou à d'autres jeux de cartes. La belote est un jeu, qui utilise un paquet de cartes, constitué de... cartes. Le premier objet que l'on va créer est donc une carte \"générique\", comme une \"voiture\" générique. \n",
    "La __classe__ Carte a :\n",
    "* des __attributs/composants__ (les caractérisques):\n",
    "    - sa couleur (coeur, pique, carreau, trèfle)\n",
    "    - sa hauteur (as ou 1, 2, ... jusqu'à roi)\n",
    "    - sa valeur, qui n'est pas forcément la même que sa hauteur\n",
    "    - _Remarque_ : les attributs sont __privés__, c'est-à-dire qu'un objet extérieur qui veut y accéder ne peut pas les modifier directement. Il est obligé de passer par les méthodes de la classe. C'est le principe d'__encapsulation__ des données. les attributs sont protégés d'une modification directe par un objet extérieur.\n",
    "* des __méthodes__ (les actions):\n",
    "    - création/construction de la carte avec couleur, hauteur et valeur. Cette méthode particulière est le __constructeur__\n",
    "    - commmuniquer ses attributs (méthodes __get__). Ces méthodes sont des __accesseurs__\n",
    "    - changer sa valeur (méthode __set__). Cette méthode est un __modifieur__\n",
    "    - _Remarque_ : on ne change pas la couleur ni la hauteur (sauf si on triche)\n",
    "    - _Remarque_ : les méthodes get et set sont publiques. Ce sont celles qui seront utilisées par les objets extérieurs pour interagir avec la carte.\n",
    "\n",
    "Les méthodes permettent d'utiliser les objets à travers l'envoi de __messages__, le message étant l'utilisation de la méthode avec les paramètres associés dans la __signature__ de la méthode.  \n",
    "Quand on crée une carte, on crée une __instance__ de la classe carte. Pour cela, on utilise une méthode spéciale, le __constructeur__ de la classe. Le constructeur crée l'objet en mémoire, et renvoie la référence sur l'objet (son adresse). En Python cette méthode est `__init__`. Dans certains meuporgs, ce vocabulaire d'instance est utilisé pour désigner une zone créée individuellement pour chaque groupe de joueurs. Les différents groupes explorent la même zone mais ne s'y croisent pas : ils ne sont pas dans la même instance. Une instance d'une calsse partage avec les autres instances les mêmes méthodes et la même structure, mais pas les mêmes valeurs des attributs.  \n",
    "\n",
    "_Remarques_ : \n",
    "* Une classe est une nouvelle structure de données, que l'on a construit. Cette structure a un comportement défini par ses méthodes. Une classe peut être vue comme un nouveau type.\n",
    "* La programmation objet permet de découper plus facilement le travail à l'intérieur d'une équipe, chaque collaborateur pouvant programmer une classe indépendamment des autres. Un programmeur utilisant une classe créee par un de ses collègues n'a pas besoin de savoir \"comment\" ça marche, juste \"ce qu'il peut faire\" avec les objets de cette classe.\n",
    "\n",
    "### Première ébauche\n",
    "Cette première version donne une classe dans laquelle les attributs sont publics. Comme on va le voir ci-après, les attributs publis sont accessibles à tout le monde. Et comme on l'a dit ci-dessus, on souhaite des attributs privés et non publics ; il est néanmoins intéressant de voir comment cela fonctionne."
   ]
  },
  {
   "cell_type": "code",
   "execution_count": null,
   "metadata": {},
   "outputs": [],
   "source": [
    "class Carte:\n",
    "    \"\"\"\n",
    "    Carte d'un jeu\n",
    "    \"\"\"\n",
    "    def __init__(self,couleur,hauteur,valeur = 0):        #par défaut la valeur est à 0, on peut passer une\n",
    "                                                          #valeur précise en paramètre ou pas\n",
    "        self.couleur = couleur\n",
    "        self.hauteur = hauteur\n",
    "        self.valeur = valeur\n",
    "        "
   ]
  },
  {
   "cell_type": "markdown",
   "metadata": {},
   "source": [
    "Les instructions suivantes permettent de :\n",
    "* lire les spécifications de la classe\n",
    "* créer une carte\n",
    "* récupérer un attribut\n",
    "* modifier un attribut   \n",
    "\n",
    "_Remarque_ : le script suivant montre comment un individu louche peut modifier un attribut public, pour en faire n'importe quoi."
   ]
  },
  {
   "cell_type": "code",
   "execution_count": null,
   "metadata": {},
   "outputs": [],
   "source": [
    "Carte.__doc__     # lecture des spécifications\n",
    "roiCarreau = Carte('carreau','roi',13)    # création d'une carte\n",
    "print(roiCarreau.hauteur, roiCarreau.couleur)     # lecture de la hauteur et de la couleur de l'objet roiCarreau\n",
    "print()\n",
    "roiCarreau.couleur = 'fenetre'   # modification de la hauteur par un individu mal intentionné \n",
    "print(roiCarreau.hauteur, roiCarreau.couleur)     # et voilà le résultat !"
   ]
  },
  {
   "cell_type": "markdown",
   "metadata": {},
   "source": [
    "### Deuxième ébauche\n",
    "Rendons les attributs privés. Les attributs privés ne sont plus accessible de l'extérieur de la classe. Il suffit de les écrire avec `_` devant. Une remarque importante : en Python, c'est juste une convention, qui signale que l'accès (respectivement la modification) à/de cet attribut doit se faire par des getters/accesseurs (respectivement setters/mutateurs). D'une part, on peut quand même accéder à l'attribut malgré la présence du `_`, d'autre part, d'autres méthodes existent en Python pour éviter les manipulations délictueuses (on ne les verra pas)."
   ]
  },
  {
   "cell_type": "code",
   "execution_count": null,
   "metadata": {},
   "outputs": [],
   "source": [
    "class Carte:\n",
    "    \"\"\"\n",
    "    Carte d'un jeu\n",
    "    \"\"\"\n",
    "    def __init__(self,couleur,hauteur,valeur = 0):\n",
    "        self._couleur = couleur\n",
    "        self._hauteur = hauteur\n",
    "        self._valeur = valeur"
   ]
  },
  {
   "cell_type": "markdown",
   "metadata": {},
   "source": [
    "Puis récupérons la hauteur :"
   ]
  },
  {
   "cell_type": "code",
   "execution_count": null,
   "metadata": {},
   "outputs": [],
   "source": [
    "roiCarreau = Carte('carreau','roi',13)    # création d'une carte\n",
    "print(roiCarreau._hauteur)     # lecture de l'objet roiCarreau"
   ]
  },
  {
   "cell_type": "markdown",
   "metadata": {},
   "source": [
    "### troisième ébauche : getters et setters\n",
    "L'avantage des attributs privés, c'est qu'ils ne sont modifiables que par l'utilisation de méthodes publiques. Ces méthodes, puisqu'elles sont publiques, sont accessibles par n'importe quel objet. Mais leur définition étant interne à la classe, elles sont cohérentes avec celle-ci. Lorsqu'un attribut est signalé comme privé avec le tiret bas `_`, on evite donc d'y accéder comme précédememnt (`roiCarreau._hauteur`). On utilise à la place des accesseurs (getters en anglais) et des mutateurs (setters en anglais), comme ci-dessous :"
   ]
  },
  {
   "cell_type": "code",
   "execution_count": null,
   "metadata": {},
   "outputs": [],
   "source": [
    "class Carte:\n",
    "    \"\"\"\n",
    "    Carte d'un jeu\n",
    "    \"\"\"\n",
    "    def __init__(self,couleur,hauteur,valeur = 0):\n",
    "        self._couleur = couleur\n",
    "        self._hauteur = hauteur\n",
    "        self._valeur = valeur\n",
    "    \n",
    "    # méthodes getters/setters\n",
    "    def getCouleur(self):\n",
    "        return self._couleur\n",
    "    def getHauteur(self):\n",
    "        return self._hauteur\n",
    "    def getValeur(self):\n",
    "        return self._valeur\n",
    "    \n",
    "    def setCouleur(self,nouvCouleur):\n",
    "        self._couleur = nouvCouleur\n",
    "    def setHauteur(self,nouvHauteur):\n",
    "        self._hauteur = nouvHauteur\n",
    "    def setValeur(self,nouvValeur):\n",
    "        if type(nouvValeur) == int :\n",
    "            self._valeur = nouvValeur\n",
    "        else:\n",
    "            raise TypeError('la valeur doit être un entier')\n",
    "       \n",
    "    \n",
    "roiCarreau = Carte('carreau','roi',13)\n",
    "print(roiCarreau.getCouleur())      # l'appel d'une méthode doit vous rappeler \"liste.sort()\"\n",
    "roiCarreau.setCouleur('fenetre')\n",
    "print(roiCarreau.getCouleur())\n",
    "roiCarreau.setValeur(-1.5)         # faire différents tests\n",
    "print(roiCarreau.getValeur())"
   ]
  },
  {
   "cell_type": "markdown",
   "metadata": {},
   "source": [
    "_Remarque_ : si vous faites du Python plus avancé dans le supérieur, vous verrez qu'il y a des méthodes plus pythonesques que les getters et setters ; ce sont les propriétés et les décorateurs. Nous n'en ferons pas usage en terminale (l'objectif n'étant pas l'apprentissage de Python mais de la programmation).\n",
    "\n",
    "### La classe Carte \"propre\"\n",
    "> Reprendre la classe précédente. Le nettoyer et le compléter en tenant compte des remarques suivantes/précédentes :\n",
    "* on ne change pas la couleur ni la hauteur (sauf si on triche)\n",
    "* le but est de jouer à la belote ; la valeur d'une carte est comprise entre 0 et 20 points."
   ]
  },
  {
   "cell_type": "code",
   "execution_count": null,
   "metadata": {},
   "outputs": [],
   "source": []
  },
  {
   "cell_type": "markdown",
   "metadata": {},
   "source": [
    "#### Objets et référence mémoire\n",
    "\n",
    "Une variable à laquelle on affecte un objet ne comprend pas l'objet, mais l'adresse mémoire de l'objet. On peut donc avoir plusieurs variables qui référencent le même objet, et ainsi modifier l'objet à l'aide de ces différentes variables. C'est une source d'erreurs potentielles.   \n",
    "Exemple :"
   ]
  },
  {
   "cell_type": "code",
   "execution_count": null,
   "metadata": {},
   "outputs": [],
   "source": [
    "roiCarreau = Carte('carreau','roi',13)\n",
    "roiCarreauBis = Carte('carreau','roi',13)\n",
    "roiCarreauTer = roiCarreau\n",
    "print(type(roiCarreau))\n",
    "print(roiCarreau)\n",
    "print(roiCarreauBis)\n",
    "print(roiCarreauTer)\n",
    "print(\"Classe Carte à l'adresse :\",hex(id(Carte)))\n",
    "print(\"roiCarreau à l'adresse :\",hex(id(roiCarreau)))\n",
    "print(\"roiCarreauBis à l'adresse :\",hex(id(roiCarreauBis)))\n",
    "print(\"roiCarreauTer à l'adresse :\",hex(id(roiCarreauTer)))"
   ]
  },
  {
   "cell_type": "markdown",
   "metadata": {},
   "source": [
    "## Résumé graphique\n",
    "\n",
    "### En mémoire\n",
    "On a en mémoire la situation suivante, pour l'exemple précédent :\n",
    "[<img src=\"http://www.maths-info-lycee.fr/images/objets_memoire.png\">]()\n",
    "\n",
    "### Représentation graphique d'une classe\n",
    "En général représente une classe sous cette forme :\n",
    "[<img src=\"http://www.maths-info-lycee.fr/images/exemple_classe.png\">]()\n",
    "\n",
    "### Ce qui se passe lorsque l'on crée et accède à un objet\n",
    "Le schéma ci-dessous montre :\n",
    "* l'encapsulation à l'intérieur de la classe ;\n",
    "* la création d'un objet ;\n",
    "* la modification des attributs.  \n",
    "\n",
    "[<img src=\"http://www.maths-info-lycee.fr/images/fonctionnement_classe.jpg\">]()\n",
    "\n",
    "On retrouve la situation des listes et autres types mutables.\n",
    "\n",
    "## La \"bataille\"\n",
    "\n",
    "Avant de créer un jeu de belote, on va commencer par un jeu plus simple : la bataille. Pour jouer à la bataille, ou à tout autre jeu de cartes, il est nécessaire de pouvoir comparer des cartes entre elles. On crée deux méthodes, l'une pour \"valeur strictement supérieure\", l'autre pour \"valeur égale\". Créer la méthode estEgale sur le même principe que \"estSupérieure\".  \n",
    "On va également spécifier correctement notre classe. Dans la suite du notebook, pour des raisons de compacité/lisibilité, on ne spécifiera pas de manière aussi détaillée. Mais n'oubliez pas que les spécifications sont présentes à des fins de compréhension rapide, doivent être présentes, et complètes."
   ]
  },
  {
   "cell_type": "code",
   "execution_count": 2,
   "metadata": {},
   "outputs": [
    {
     "name": "stdout",
     "output_type": "stream",
     "text": [
      "True\n",
      "False\n",
      "<__main__.Carte object at 0x0000018D9D499CD0>\n"
     ]
    }
   ],
   "source": [
    "class Carte:\n",
    "    \"\"\"Carte d'un paquet de cartes, pour jouer à différents jeux. On reste dans les paquets 32/52/54 cartes ou tarot\n",
    "    \n",
    "    Attributs : \n",
    "        - couleur : chaine de caractères, en général coeur/carreau/pique/trèfle, mais peut\n",
    "            aussi être plus exotique batons/coupes/deniers/épées. On peut aussi avoir \"atout\" ou \"joker\"\n",
    "        - hauteur : chaine de caractères, en général de \"as\" à \"roi\", \n",
    "            variantes \"un\" à \"vingt et un\" popur les atouts, \"aucune\" pour les jokers\n",
    "        - valeur : entier (en général), dépend du jeu. \n",
    "            Dans un langage fortement typé c'est un flottant (valeurs 0.5 au tarot)\n",
    "\n",
    "    Méthodes :\n",
    "        init()\n",
    "        getCouleur()\n",
    "        getHauteur()\n",
    "        getValeur()\n",
    "        setValeur()\n",
    "        estSuperieure(autre)  : renvoie un booléen vrai si l'objet Carte est de valeur supérieure à celle\n",
    "            d'un autre objet Carte\n",
    "        estEgale(autre)\n",
    "    \"\"\"\n",
    "    \n",
    "    def __init__(self,couleur,hauteur,valeur = 0):\n",
    "        \"\"\"\n",
    "        Constructeur de la classe Carte\n",
    "        @param:   \n",
    "            - couleur : chaine de caractères, en général coeur/carreau/pique/trèfle, mais peut\n",
    "            aussi être plus exotique batons/coupes/deniers/épées. On peut aussi avoir \"atout\" ou \"joker\"\n",
    "            - hauteur : chaine de caractères, en général de \"as\" à \"roi\", \n",
    "            variantes \"un\" à \"vingt et un\" popur les atouts, \"aucune\" pour les jokers\n",
    "            - valeur : entier (en général), dépend du jeu. \n",
    "            Dans un langage fortement typé c'est un flottant (valeurs 0.5 au tarot)\n",
    "        Résultat : \n",
    "            ne retourne rien, crée une nouvelle Carte\n",
    "        \"\"\"\n",
    "        self._couleur = couleur\n",
    "        self._hauteur = hauteur\n",
    "        self._valeur = valeur\n",
    "        \n",
    "    # méthodes\n",
    "    def estSuperieure(self,autre):\n",
    "        \"\"\"\n",
    "        Compare les valeurs de deux objets Carte\n",
    "        @param : autre, objet de classe Carte\n",
    "        @result : booléen Vrai si la valeur de la Carte self est supérieure à la valeur de la Carte autre\n",
    "        \"\"\"\n",
    "        return self._valeur > autre.getValeur()\n",
    "    #Correction\n",
    "    def estEgale(self,autre):\n",
    "        return\n",
    "    \n",
    "    # méthodes getters/setters\n",
    "    def getCouleur(self):\n",
    "        \"\"\"\n",
    "        @param : pas de parametre dans cette méthode\n",
    "        @result : renvoie la couleur de l'objet carte\n",
    "        \"\"\"\n",
    "        return self._couleur\n",
    "    def getHauteur(self):\n",
    "        \"\"\"\n",
    "        D@param : pas de parametre dans cette méthode\n",
    "        @result : renvoie la hauteur de l'objet carte\n",
    "        \"\"\"\n",
    "        return self._hauteur\n",
    "    def getValeur(self):\n",
    "        \"\"\"\n",
    "        @param : pas de parametre dans cette méthode\n",
    "        @result : revoie la valeur de l'objet carte\n",
    "        \"\"\"\n",
    "        return self._valeur   \n",
    "    def setValeur(self,nouvValeur):\n",
    "        \"\"\"\n",
    "        @param : entier (en général) ou flottant, nouvelle valeur de la carte\n",
    "        @result : ne renvoie rien, mais modifie la valeur de l'objet Carte\n",
    "        \"\"\"\n",
    "        self._valeur = nouvValeur\n",
    "    \n",
    "    #def __repr__(self):\n",
    "        #return f'{self._hauteur} de {self._couleur}, valeur {self._valeur}'\n",
    "        \n",
    "roiCarreau = Carte('carreau','roi',13)\n",
    "septPique =  Carte('pique','sept',7)\n",
    "print(roiCarreau.estSuperieure(septPique))\n",
    "print(septPique.estSuperieure(roiCarreau))\n",
    "print(roiCarreau)"
   ]
  },
  {
   "cell_type": "markdown",
   "metadata": {},
   "source": [
    "> Dans la cellule précédente, quel est l'effet de l'instruction `print(roiCarreau)`?\n",
    "   \n",
    "> Décommentez les lignes de la méthode `__repr__`, et exécutez à nouveau la cellule. Quel est le changement ? Que fait la méthode `__repr__` ?\n",
    "\n",
    "### Objet composé d'objets\n",
    "\n",
    "Dans un paquet de cartes, il y a plusieurs cartes. On va créer donc la classe Paquet.  \n",
    "On remarque que les listes des valeurs et des hauteurs possibles sont définies avant le constructeur. Ces variables sont partagées par toutes les instances de la classe : il n'y a qu'une seule copie de ces variables, créee lors du chargement de la classe."
   ]
  },
  {
   "cell_type": "code",
   "execution_count": 9,
   "metadata": {},
   "outputs": [],
   "source": [
    "class PaquetCartes:\n",
    "    \"\"\"\n",
    "    Paquet de cartes\n",
    "    Attributs:\n",
    "        - nom : nom du paquet, de préférence correspondant au nom du jeu pour\n",
    "            lequel il va être utilisé\n",
    "        - paquet : liste des cartes\n",
    "    \"\"\"\n",
    "    _hauteurs = [\"as\",\"deux\",\"trois\",\"quatre\",\"cinq\",\"six\",\"sept\",\"huit\",\"neuf\",\"dix\",\n",
    "              \"valet\",\"dame\",\"roi\"]\n",
    "    _couleurs = [\"coeur\",\"pique\",\"carreau\",\"trèfle\"]\n",
    "    \n",
    "    def __init__(self,nom,nbCartes = 32):\n",
    "        \"\"\"Constructeur du paquet de cartes\"\"\"\n",
    "        self._nom = nom\n",
    "        self._nbCartes = nbCartes\n",
    "        self._paquet = []\n",
    "        if nbCartes == 32:\n",
    "            for i in range(6,len(hauteurs)):\n",
    "                for j in range(len(self._couleurs)):\n",
    "                    self._paquet.append(Carte(self.couleurs[j],hauteurs[i],i + 1)) \n",
    "            for j in range(len(self._couleurs)):\n",
    "                self._paquet.append(Carte(self._couleurs[j],self._hauteurs[0],14))\n",
    "        else:\n",
    "            for i in range(1,len(self._hauteurs)):\n",
    "                for j in range(len(self._couleurs)):\n",
    "                    self._paquet.append(Carte(self._couleurs[j],self._hauteurs[i],i+1))\n",
    "            for j in range(len(self._couleurs)):\n",
    "                self._paquet.append(Carte(self._couleurs[j],self._hauteurs[0],14))\n",
    "    \n",
    "    def getPaquet(self):\n",
    "        return self._paquet\n",
    "    \n",
    "paquetBataille = PaquetCartes('bataille', 52)"
   ]
  },
  {
   "cell_type": "markdown",
   "metadata": {},
   "source": [
    "> Testez le code précédent avec 32 cartes, et corrigez les erreurs.  \n",
    "_Remarque_ : le paramètre `nbCartes`est renseigné par défaut à 32, il n'est pas focément nécessaire de le préciser lors de l'appel du constructeur. S'il est absent, il y aura 32 cartes dans le paquet, sinon il y aura le nombre de cartes précisé lors de l'appel.\n",
    "\n",
    "#### Afficher les cartes\n",
    "Quand on joue aux cartes, c'est assez important de savoir ce que l'on a en main, ou au moins de savoir quelle est la valeur de la carte jouée ! Affichons donc les 10 premières cartes avec le code suivant."
   ]
  },
  {
   "cell_type": "code",
   "execution_count": null,
   "metadata": {},
   "outputs": [],
   "source": [
    "print(paquetBataille)\n",
    "for i in range(10):\n",
    "    print(paquetBataille.getPaquet()[i])"
   ]
  },
  {
   "cell_type": "markdown",
   "metadata": {},
   "source": [
    "Suivant que vous avez ou non défini la méthode `__repr__` dans la classe `Carte`, que constatez-vous ?  \n",
    "  \n",
    "  \n",
    "Si nécessaire, modifiez le le code des classes `Carte`et `PaquetCartes`, pour afficher les attributs de chaque carte et du paquet (utilisez `__repr__(self)`). Il peut être nécessaire de relancer les cellules avec les classes `Carte`et `PaquetCartes`. Vous pouvez aussi recopier les deux classes dans la cellule suivante, pour ne pas avoir à relancer plusieurs cellules à chaque fois.   \n",
    "Vérifiez également que la valeur des as est correcte  \n"
   ]
  },
  {
   "cell_type": "code",
   "execution_count": null,
   "metadata": {},
   "outputs": [],
   "source": [
    "class Carte:\n",
    "\n",
    "class PaquetCartes:\n",
    "\n",
    "\n",
    "paquetBataille = PaquetCartes('bataille', 52)"
   ]
  },
  {
   "cell_type": "markdown",
   "metadata": {},
   "source": [
    "#### Avec les objets composés d'objets, les méthodes \"enchainées\"\n",
    "On peut écrire des instructions appliquant une méthode sur le résultat d'une autre méthode :"
   ]
  },
  {
   "cell_type": "code",
   "execution_count": null,
   "metadata": {},
   "outputs": [],
   "source": [
    "paquetBataille.getPaquet()[-3].getValeur()"
   ]
  },
  {
   "cell_type": "markdown",
   "metadata": {},
   "source": [
    "Pour pouvoir jouer, il nous manque encore quelques méthodes dans notre classe PaquetCartes. Créer :\n",
    "- la méthode `melange(self)`qui mélange le paquet comme son nom l'indique. Cette méthode renvoie `self`, elle modifie l'attribut `__paquet`. On utilisera la méthode `shuffle(tableau_à_mélanger)`de la bibliothèque `random`\n",
    "- la méthode `distribution(nbJoueurs,nbADistribuer = 0)`qui renvoie une `donne`, une liste de listes de Cartes. Il y a autant de listes que de joueurs. Si nbADistribuer = 0, on distribue tout le paquet de manière équitable. Sinon, on donne le nombre de cartes indiquées à chaque joueur. Le nombre de cartes à distribuer et le nombre de joueurs doivent être compatibles avec la taille du paquet de cartes. S'il reste des cartes après distribution, une dernière liste sera ajoutée avec celles-ci\n",
    "- Si vous le souhaitez, vous pouvez faire une méthode `distribution(nbJoueurs)` beaucoup plus simple, où le paquet est divisé en deux (`donne` contient alors 2 listes). Pour l'instant l'objectif est de jouer à la bataille et rien de plus complexe.\n",
    "\n",
    "_Remarque_ : l'affichage des donnes de chaque joueur relève plutôt de la classe gérant le jeu. En effet dans certains jeux les cartes sont inconnues du joueur.  \n",
    "  \n",
    "Vous pouvez modifier votre code dans la cellule précédente, ou bien recopier et mdoifier dans la cellule suivante."
   ]
  },
  {
   "cell_type": "code",
   "execution_count": null,
   "metadata": {},
   "outputs": [],
   "source": []
  },
  {
   "cell_type": "markdown",
   "metadata": {},
   "source": [
    "#### La classe \"jeu de la bataille\"\n",
    "\n",
    "A vous de jouer, puisque vous allez créer la classe JeuBataille, dont les spécifications sont données ci-dessous. L'ordinateur joue contre lui-même.  \n",
    "Rappel des règles:\n",
    "- deux joueurs se partagent le paquet\n",
    "- la donne de chaque joueur est posée face cachée devant lui\n",
    "- chaque joueur tire en même temps une carte. Le \"en même temps\" est en fait un tirage successif, d'abord le joueur numéro 1 puis le 2. Ceci pour des raisons d'ordre dans lequel on va ranger les cartes par la suite\n",
    "- En cas d'inégalité des cartes, le joueur ayant la carte la plus forte l'emporte. Il met les deux cartes sous son paquet, face retournée.\n",
    "- En cas d'égalité, on itère le processus. Lorsqu'un joueur retourne une carte plus forte que celle de son adversaire, il remporte tout le tas, qu'il retourne et place en dessous de son paquet\n",
    "- Un joueur a perud lorsqu'il n'a plus de cartes à retourner.\n",
    "- Il est théoriquement possible d'avoir un match nul  \n",
    "\n",
    "Une notion importante fait son apparition dans ce jeu. Il s'agit de la __file__ de cartes (et non pile comme on aurait tendance à le dire dans le langage courant). Une file est une structure linéaire de données dans laquelle on ajoute des éléments d'un côté, et on les supprime de l'autre : c'est la file d'attente à la boulangerie. Ou : __FIFO__ (first in first out), également __queue__ en anglais. Les opérations sur les files ont des noms spécifiques :  \n",
    "- `fileVide()` : crée une file vide\n",
    "- `tete(file)` : renvoie l'élément en tête de la file, la file étant non vide\n",
    "- `enfiler(element, file)` : insère `element`en fin de file \n",
    "- `defiler(file)`: supprime l'élément en tête de la file. On peut le renvoyer éventuellement\n",
    "- `estFileVide(file)`: teste si la file est vide\n",
    "- On peut éventuellement fixer une taille maximale à une file  \n",
    "\n",
    "Cette structure mérite amplement sa classe. Créez-là en suivant les spécifications ci-dessous, vous l'utiliserez dans \"JeuBataille\". Quelques tests sont proposés, vous pouvez en rajouter (essayez d'utiliser des `assert`)."
   ]
  },
  {
   "cell_type": "code",
   "execution_count": null,
   "metadata": {},
   "outputs": [],
   "source": [
    "class File:\n",
    "    \"\"\"\n",
    "    Gère les files FIFO\n",
    "    Attributs :\n",
    "        - file : liste d'éléments à priori du même type\n",
    "        - nb_elements : taille de la file\n",
    "        - premier : premier élément de la file\n",
    "        - dernier : dernier élément de la file\n",
    "    Méthodes :\n",
    "        - __init__(liste = []) : constructeur, renvoie une file vide si liste n'est pas renseigné.\n",
    "            Sinon renvoie une file constituée des éléments de la liste\n",
    "        - tete : renvoie l'élément en tête de la file, la file étant non vide\n",
    "        - enfiler(element) : insère element en fin de file \n",
    "        - defiler : supprime l'élément en tête de la file. On peut le renvoyer éventuellement.\n",
    "            Si la file est vide, renvoie None\n",
    "        - estFileVide : teste si la file est vide\n",
    "        - getters pour nb_elements, premier et dernier\n",
    "    \"\"\"\n",
    "    def __init__(self,liste = None):\n",
    "        \"\"\"Constructeur de la file\n",
    "        Remarque : écrire self._file = liste copie l'adresse de liste dans self._file. Ceci peut poser\n",
    "        des problèmes. En effet, si par la suite on modifie liste, alors on modifiera aussi self._file\"\"\"\n",
    "        self._file = []\n",
    "        if liste == None:\n",
    "            \n",
    "        else:\n",
    "            \n",
    "  \n",
    "    def estFileVide(self):\n",
    "\n",
    "        \n",
    "    def enfiler(self,element):\n",
    "\n",
    "        \n",
    "    def defiler(self): \n",
    "\n",
    "    \n",
    "    # getters\n",
    "    def premier(self):\n",
    "        return self._premier\n",
    "    def dernier(self):\n",
    "        return self._dernier\n",
    "    def getNb_elements(self):\n",
    "        return self._nb_elements\n",
    "    \n",
    "    # une petite méthode d'instrumentation ça peut parfois aider :-)\n",
    "    def printFile(self):\n",
    "        print(\"Contenu de la file : \")\n",
    "        for element in self._file:\n",
    "            if isinstance(element,Carte):   # on teste si \"element\" est une instance de la classe Carte...\n",
    "                print(element)        # ...dans le cadre particulier de ce notebook uniquement\n",
    "            else:\n",
    "                print(element, \"n'est pas une carte\")\n",
    "\n",
    "ma_file = File([11,22,33,44,55])\n",
    "ma_file.printFile()\n",
    "ma_file.enfiler(66)\n",
    "print(ma_file.premier(),ma_file.dernier(),ma_file.getNb_elements())\n",
    "long_ma_file = ma_file.getNb_elements()\n",
    "for i in range(long_ma_file):\n",
    "    print(ma_file.defiler())\n",
    "print(ma_file.defiler())\n",
    "ma_file2 = File()\n",
    "print(ma_file2.premier(),ma_file2.dernier(),ma_file2.getNb_elements())"
   ]
  },
  {
   "cell_type": "code",
   "execution_count": null,
   "metadata": {},
   "outputs": [],
   "source": [
    "\n",
    "class JeuBataille:\n",
    "    \"\"\"\n",
    "    Jeu de bataille\n",
    "    Attributs:\n",
    "        - nom_joueur1 : chaine\n",
    "        - nom_joueur2 : chaine\n",
    "        - paquetBataille : liste des cartes\n",
    "        - cartes_j1 : pile des cartes du joueur 1\n",
    "        - cartes_j2 : pile des cartes du joueur 2\n",
    "        - defausse : pile des cartes de la défausse\n",
    "        - nb_tours : entier, nombre de tours de jeu\n",
    "        - nb_batailles : entier, nombre de cas d'égalité lors des tirages simultanés\n",
    "        \n",
    "        Remarque : certains de ces attributs auraient peut-être plutôt leur place en tant que variable \n",
    "        dans la méthode jouer, et vice-versa (?).\n",
    "        Dans la version proposée ici, le jeu étant automatique, c'est même certain. Mais si on veut\n",
    "        plus visualiser/intervenir lors du jeu, il vaut mieux avoir les attributs ci-dessus.\n",
    "        \n",
    "    Méthodes :\n",
    "        - __init__\n",
    "        - jouer : jeu de l'oridnateur contre lui-même. Il est conseillé:\n",
    "            soit de mettre très peu de cartes (8 au total max)\n",
    "            soit de préciser un nombre maximal de tours de jeu\n",
    "            Renvoie :\n",
    "                match_nul : booléen au nom explicite\n",
    "                gagnant : chaîne de caractères\n",
    "                self.nb_batailles\n",
    "                self.nb_tours\n",
    "    \"\"\"\n",
    "    \n",
    "    def __init__(self, nom_joueur1 = 'ordi1', nom_joueur2 = 'ordi2'):\n",
    "        \"\"\"Constructeur du jeu\"\"\"\n",
    "        self._nomjoueur1 = nom_joueur1\n",
    "        self._nomjoueur2 = nom_joueur2\n",
    "        self._paquetBataille = PaquetCartes('bataille',6)\n",
    "        donne = self._paquetBataille.melange().distribution(2)\n",
    "        self._cartesj1 = File(donne[0])\n",
    "        self._cartesj2 = File(donne[1])\n",
    "        self._defausse = File()\n",
    "        self._nb_tours = 0\n",
    "        self._nb_batailles = 0\n",
    "        print(\"Cartes j1\")\n",
    "        self._cartesj1.printFile()\n",
    "        print(\"Cartes j2\")\n",
    "        self._cartesj2.printFile()\n",
    "    \n",
    "    def jouer(self):\n",
    "        # jouez avec très peu de cartes (4 à 10). Fixez un maximum de nombre de tours de jeu\n",
    "                    \n",
    "        return (match_nul,gagnant,self._nb_batailles,self._nb_tours)\n",
    "        \n",
    "        \n",
    "baston = JeuBataille()\n",
    "(mat,gagnant,nb_batailles,tours) = baston.jouer()\n",
    "if mat:\n",
    "    print(\"match nul, ce n'est pas fréquent. En récompense, calculer la probabilité de cet évènement.\")\n",
    "else:\n",
    "    if gagnant == None:\n",
    "        print(\"trop de tours de jeu. Il y a eu \",nb_batailles,\" batailles\")\n",
    "    else:\n",
    "        print(gagnant,\" a gagné en \",tours,\" tours de jeu, et \",nb_batailles,\" batailles.\")"
   ]
  },
  {
   "cell_type": "markdown",
   "metadata": {},
   "source": [
    "<hr style=\"color:black; height:1px\" /> \n",
    "<div style=\"float:left;margin:0 10px 10px 0\" markdown=\"1\">\n",
    "[![Licence CC BY NC SA](https://licensebuttons.net/l/by-nc-sa/3.0/88x31.png \"licence Creative Commons CC BY SA\")](http://creativecommons.org/licenses/by-nc-sa/3.0/fr/)</div>Groupe de travail NSI (Chatel P., Chouteau J., Teilhaud F., Gambazza W., Buonocore E., Connan G., \n",
    "[Mandon F.](mailto:frederic.mandon@ac-montpellier.fr), Lecomte A., Bignin S., Sarnette F.)  \n",
    "Lycée Jean Jaurès - Saint Clément de Rivière - France (2015-2020)"
   ]
  }
 ],
 "metadata": {
  "kernelspec": {
   "display_name": "Python 3",
   "language": "python",
   "name": "python3"
  },
  "language_info": {
   "codemirror_mode": {
    "name": "ipython",
    "version": 3
   },
   "file_extension": ".py",
   "mimetype": "text/x-python",
   "name": "python",
   "nbconvert_exporter": "python",
   "pygments_lexer": "ipython3",
   "version": "3.8.3"
  }
 },
 "nbformat": 4,
 "nbformat_minor": 4
}
