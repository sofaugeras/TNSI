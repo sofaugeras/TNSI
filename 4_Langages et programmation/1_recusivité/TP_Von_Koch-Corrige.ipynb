{
 "cells": [
  {
   "cell_type": "markdown",
   "metadata": {},
   "source": [
    "# Le flocon de Von Koch - Correction"
   ]
  },
  {
   "cell_type": "markdown",
   "metadata": {},
   "source": [
    "**DM A rendre pour le :** Lundi 14 septembre, Sous forme de notebook\n",
    "\n",
    "![](data/flocon.png)"
   ]
  },
  {
   "cell_type": "markdown",
   "metadata": {},
   "source": [
    "## 1. Prise en main de Turtle\n",
    "```turtle``` est un module permettant de dessiner en passant de simples instructions de mouvements à une «tortue»."
   ]
  },
  {
   "cell_type": "code",
   "execution_count": 2,
   "metadata": {},
   "outputs": [],
   "source": [
    "from turtle import *\n",
    "forward(100)\n",
    "left(45)\n",
    "forward(200)\n",
    "right(100)\n",
    "forward(50)"
   ]
  },
  {
   "cell_type": "markdown",
   "metadata": {},
   "source": [
    "![](data/ex1.png)"
   ]
  },
  {
   "cell_type": "markdown",
   "metadata": {},
   "source": [
    "```turtle``` est un hommage au langage [LOGO](https://fr.wikipedia.org/wiki/Logo_(langage)) inventé par [Seymour Papert](https://fr.wikipedia.org/wiki/Seymour_Papert) au MIT à la fin des années 60."
   ]
  },
  {
   "cell_type": "markdown",
   "metadata": {},
   "source": [
    "### Question 1 \n",
    "Créer une fonction ```polygone(n,l)``` qui trace un polygone régulier à ```n``` côtés mesurant chacun la longueur ```l```."
   ]
  },
  {
   "cell_type": "code",
   "execution_count": null,
   "metadata": {},
   "outputs": [],
   "source": [
    "from turtle import *\n",
    "\n",
    "def polygone(n,l):\n",
    "  for i in range(l):\n",
    "    forward(n)\n",
    "    left(360/l)\n",
    "polygone(100,4)"
   ]
  },
  {
   "cell_type": "markdown",
   "metadata": {},
   "source": [
    "## 2. Le flocon de Von Koch\n",
    "![](data/ex2.png)\n",
    "L'idée est de répéter de manière récursive la transformation ci-dessus : chaque segment de longueur ```l``` donne naissance à 4 segments de longueur ```l/3```, en construisant une pointe de triangle équilatéral sur le deuxième tiers du segment."
   ]
  },
  {
   "cell_type": "markdown",
   "metadata": {},
   "source": [
    "### Question 2\n",
    "Créer une fonction récursive ```floc(n,l)``` qui trace à une «profondeur» ```n``` un segment de longueur ```l```.\n",
    "![](data/ex3b.png)"
   ]
  },
  {
   "cell_type": "markdown",
   "metadata": {},
   "source": [
    "**Indications**\n",
    "- l'instruction de tracé n'a lieu que quand ```n``` vaut 0.\n",
    "- l'étape ```n``` fait 4 appels sucessifs à l'étape ```n-1```."
   ]
  },
  {
   "cell_type": "code",
   "execution_count": null,
   "metadata": {},
   "outputs": [],
   "source": [
    "from turtle import *\n",
    "def floc(n,l):\n",
    "    if n == 0 :\n",
    "        forward(1)\n",
    "    else :\n",
    "        floc(n-1,l/3)\n",
    "        left(60)\n",
    "        floc(n-1,l/3)\n",
    "        right(120)\n",
    "        floc(n-1,l/3)\n",
    "        left(60)\n",
    "        floc(n-1,l/3)"
   ]
  },
  {
   "cell_type": "code",
   "execution_count": null,
   "metadata": {},
   "outputs": [],
   "source": [
    "floc(0,100)"
   ]
  },
  {
   "cell_type": "markdown",
   "metadata": {},
   "source": [
    "### Question 3\n",
    "Créer une fonction ```triangle(n,l)``` qui trace le flocon complet."
   ]
  },
  {
   "cell_type": "code",
   "execution_count": null,
   "metadata": {},
   "outputs": [],
   "source": [
    "def triangle(n,l):\n",
    "    floc(n,l)\n",
    "    right(120)\n",
    "    floc(n,l)\n",
    "    right(120)\n",
    "    floc(n,l)"
   ]
  },
  {
   "cell_type": "code",
   "execution_count": null,
   "metadata": {},
   "outputs": [],
   "source": [
    "speed(0)\n",
    "triangle(5,100)"
   ]
  }
 ],
 "metadata": {
  "kernelspec": {
   "display_name": "Python 3",
   "language": "python",
   "name": "python3"
  },
  "language_info": {
   "codemirror_mode": {
    "name": "ipython",
    "version": 3
   },
   "file_extension": ".py",
   "mimetype": "text/x-python",
   "name": "python",
   "nbconvert_exporter": "python",
   "pygments_lexer": "ipython3",
   "version": "3.8.3"
  }
 },
 "nbformat": 4,
 "nbformat_minor": 4
}
