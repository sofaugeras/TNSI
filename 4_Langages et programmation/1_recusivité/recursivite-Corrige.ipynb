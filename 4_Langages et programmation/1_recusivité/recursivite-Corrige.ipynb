{
 "cells": [
  {
   "cell_type": "markdown",
   "metadata": {},
   "source": [
    "# La récursivité\n",
    "\n",
    "![](data/infini.jpeg)"
   ]
  },
  {
   "cell_type": "markdown",
   "metadata": {},
   "source": [
    "## 1. Première approche\n",
    "\n",
    "### Approche mathématique \n",
    "\n",
    "En mathématiques, vous êtes nombreux à avoir vu les suites en spécialité de 1ère. Une suite définie par récurrence simple  s'écrit sous la forme $ u_{n + 1} = f(u_n) $.  \n",
    "Si on \"descend\" d'un rang, on obtient $ u_{n + 1} = f(f(u_{n-1})) $ , et plus généralement \n",
    "$u_{n + 1} = \\underbrace{f(f(f(\\dots f(u_0))))}_{\\text{$n$ fois.}}$.  \n",
    "\n",
    "### 1.1. Définition informatique\n",
    "> Une méthode est dite récursive lorsqu'elle fait appel à elle-même dans sa propre définition. "
   ]
  },
  {
   "cell_type": "markdown",
   "metadata": {},
   "source": [
    "### 1.2 Un très très mauvais exemple"
   ]
  },
  {
   "cell_type": "code",
   "execution_count": null,
   "metadata": {},
   "outputs": [],
   "source": [
    "def prems():\n",
    "    print(\"un très mauvais exemple\")\n",
    "    prems()"
   ]
  },
  {
   "cell_type": "code",
   "execution_count": null,
   "metadata": {},
   "outputs": [],
   "source": [
    "prems()"
   ]
  },
  {
   "cell_type": "markdown",
   "metadata": {},
   "source": [
    "```un très mauvais exemple\n",
    "un très mauvais exemple\n",
    "un très mauvais exemple\n",
    "un très mauvais exemple\n",
    "un très mauvais exemple\n",
    "un très mauvais exemple\n",
    "un très mauvais exemple\n",
    "un très mauvais exemple\n",
    "un très mauvais exemple\n",
    "un très mauvais exemple\n",
    "un très mauvais exemple\n",
    "un très mauvais exemple\n",
    "un très mauvais exemple\n",
    "un très mauvais exemple```"
   ]
  },
  {
   "cell_type": "markdown",
   "metadata": {},
   "source": [
    "Évidemment, comme prévu, ce programme ne s'arrête pas. Nous sommes obligés de l'arrêter manuellement. Nous sommes (volontairement) tombés dans un piège qui sera systématiquement présent lors d'une programmation récursive : [le piège de la boucle infinie](data/meme2.gif).  \n",
    "Mais ne nous y trompons pas : les méthodes récursives peuvent être **très efficaces !**  \n",
    "Elles nécessitent pour cela une condition cruciale : **la condition d'arrêt**."
   ]
  },
  {
   "cell_type": "markdown",
   "metadata": {},
   "source": [
    "\n",
    "Lorsque nous allons programmer une fonction récursive, nous allons donc commencer par la fin, c'est-à-dire par le moment où elle renvoie effectivement un résultat.\n",
    "\n",
    "Imaginez que vous devez cacher une clé dans une maison : \n",
    "- vous commencez par la cacher sous le lavabo de la salle de bain. \n",
    "- puis vous laissez un mot sur la table de la cuisine : «allez voir sur la première marche de l'escalier».\n",
    "- puis vous laissez un mot sur la première marche de l'escalier : «allez voir sur le canapé du salon».\n",
    "- etc, jusqu'à l'indice final «allez voir sous le lavabo de la salle de bain».\n",
    "\n",
    "La personne qui va subir cette chasse au trésor va rentrer dans un processus où chaque indice va en appeler un autre, mais elle sait très bien que ces indices emboîtés vont s'arrêter un jour.\n",
    "\n",
    "Lorsque vous allez programmer un algorithme récursif, vous allez donc commencer par la situation finale.\n",
    "\n",
    "De plus, chaque appel récursif se fera en décrémentant un paramètre, de sorte d'arriver progressivement vers la situation finale : cela assurera l'arrêt du programme.\n",
    "\n",
    "Observons ceci dans l'exemple suivant :"
   ]
  },
  {
   "cell_type": "markdown",
   "metadata": {},
   "source": [
    "### 1.3 Enfin un bon exemple"
   ]
  },
  {
   "cell_type": "code",
   "execution_count": null,
   "metadata": {},
   "outputs": [],
   "source": [
    "def mystere(n):\n",
    "    if n == 0 :\n",
    "        return 0\n",
    "    else : \n",
    "        return n + mystere(n-1)"
   ]
  },
  {
   "cell_type": "markdown",
   "metadata": {},
   "source": [
    "Observer :\n",
    "- la condition d'arrêt (par le ```return```)\n",
    "- l'appel récursif\n",
    "- la décrémentation du paramètre d'appel"
   ]
  },
  {
   "cell_type": "code",
   "execution_count": null,
   "metadata": {},
   "outputs": [],
   "source": [
    "mystere(0)"
   ]
  },
  {
   "cell_type": "code",
   "execution_count": null,
   "metadata": {},
   "outputs": [],
   "source": [
    "mystere(4)"
   ]
  },
  {
   "cell_type": "markdown",
   "metadata": {},
   "source": [
    "Et donc cette fonction fait la **somme des n premiers entiers**"
   ]
  },
  {
   "cell_type": "markdown",
   "metadata": {},
   "source": [
    "## Un deuxième exemple\n",
    "La fonction factorielle est la fonction notée $!$. Vous avez peut-être déjà vu cette fonction en mathématiques. Elle s'applique sur les entiers naturels et vaut :  \n",
    "&emsp;\n",
    "$\n",
    "\\left\\{\n",
    "          \\begin{array}{ll}\n",
    "            0! = 1 \\\\\n",
    "            n! = n\\times n - 1 \\times n - 2 \\times \\dots \\times 1\\\\\n",
    "          \\end{array}\n",
    "\\right.\n",
    "$   \n",
    "On lit \"factorielle n\" de préférence.\n",
    "  \n",
    "Voici un des multiples algorithme de calcul de la factorielle en itératif, programmez-le. \n",
    "  \n",
    "  \n",
    "**Algorihtme : factorielle itérative**  \n",
    "Donnée : un entier naturel $n$  \n",
    "Renvoie : $n!$  "
   ]
  },
  {
   "cell_type": "code",
   "execution_count": null,
   "metadata": {},
   "outputs": [],
   "source": [
    "def factorielle(n) :\n",
    "    u = 1\n",
    "    for i in range(2,n+1):\n",
    "        u = i * u\n",
    "    return u"
   ]
  },
  {
   "cell_type": "code",
   "execution_count": null,
   "metadata": {},
   "outputs": [],
   "source": [
    "Print(factorielle(6))\n",
    "%timeit (factorielle(6))"
   ]
  },
  {
   "cell_type": "markdown",
   "metadata": {},
   "source": [
    "Ci-dessus le code correspondant. On a rajouté une ligne de code permettant de mesurer le temps d'exécution de la fonction, calculé en moyenne sur un grand nombre de fois (attention cela prend quelques secondes supplémentaires)\n",
    "```Python\n",
    "%timeit (fact(6))\n",
    "```\n",
    "Dans l'affiche du temps, \"mean\" signifie moyenne et std. dev. signifie \"écart-type\""
   ]
  },
  {
   "cell_type": "markdown",
   "metadata": {},
   "source": [
    "Comme vous pouvez le constater avec quelques tests, c'est une fonction qui croît très rapidement, plus encore que l'exponentielle. Pour l'exemple, si un programme de complexité $O(n!)$ met un temps de $1,2 \\mu s$ pour $n = 5$ alors il mettra un temps $10^{48}$ ans pour $n = 50$, contre une centaine de jours pour un programme de complexité exponentielle.  \n",
    "   \n",
    "**Algorihtme : factorielle récursive**  \n",
    "Donnée : un entier naturel $n$  \n",
    "Renvoie : $n!$  "
   ]
  },
  {
   "cell_type": "code",
   "execution_count": null,
   "metadata": {},
   "outputs": [],
   "source": [
    "def fact(n) :\n",
    "    if n == 0:\n",
    "        return 1\n",
    "    else :\n",
    "        return n * fact(n - 1)\n",
    "\n",
    "assert( fact(6) == 720)\n",
    "assert(fact(10) == 3628800)\n",
    "assert(fact(0) == 1)\n",
    "assert(fact(1) == 1)\n",
    "print(fact(6))\n",
    "\n",
    "%timeit (fact(6))"
   ]
  },
  {
   "cell_type": "markdown",
   "metadata": {},
   "source": [
    "Copiez ce code (sans les `assert`), et visualisez-en l'exécution sur [Python Tutor](http://pythontutor.com/visualize.html#mode=edit). Vous y verrez notamment l'évolution de la \"pile d'appels\"."
   ]
  },
  {
   "cell_type": "markdown",
   "metadata": {},
   "source": [
    "# Les exercices"
   ]
  },
  {
   "cell_type": "markdown",
   "metadata": {},
   "source": [
    "  \n",
    "## Exercice 1 :\n",
    "Quelles réflexions vous inspirent les fonctions récursives suivantes ? Je vous conseille d'éditer la cellule (par un double clic) afin de noter vos réponses précises, pour pourvoir réviser.\n",
    "1. &emsp;$\n",
    "f(n) = \n",
    "\\left\\{\n",
    "          \\begin{array}{c c}\n",
    "            1 & \\textrm{si } n = 0 \\\\\n",
    "            n \\times f(n + 1) & \\textrm{sinon }\\\\\n",
    "          \\end{array}\n",
    "\\right.  \n",
    "$  \n",
    "  _Réponse_ :  Ne se termine pas. $ n $  ne tend pas vers 0.\n",
    "  \n",
    "2. &emsp;$\n",
    "f(n) = \n",
    "\\left\\{\n",
    "          \\begin{array}{c c}\n",
    "            1 & \\textrm{si } n = 0 \\\\\n",
    "            n \\times f(n - 2) & \\textrm{sinon }\\\\\n",
    "          \\end{array}\n",
    "\\right.  \n",
    "$    \n",
    "_Réponse_ :  Ne se termine pas dans le cas ou n est impair.\n",
    "  \n",
    "3.  &emsp;$\n",
    "f(n) = \n",
    "\\left\\{\n",
    "          \\begin{array}{c c}\n",
    "            1 & \\textrm{si } n = 0 \\\\\n",
    "            n \\times f(n - 1) & \\textrm{si } n \\gt 1\\\\\n",
    "          \\end{array}\n",
    "\\right.  \n",
    "$    \n",
    "_Réponse_ : La définition est incomplète. Il manque le cas ou n=1. "
   ]
  },
  {
   "cell_type": "markdown",
   "metadata": {},
   "source": [
    "## Exercice 2 : Conjecture de Syracuse\n",
    "\n",
    "Soit $ C_{n}$ la suite d'entiers définie par\n",
    "![suite de syracuse](data/suite_syracuse.png)\n",
    "\n",
    "avec $ n$ un entier quelconque plus grand que 1.\n",
    "\n",
    "Ecrire une fonction récursive *syracuse(n)* qui affiche les valeurs successives de la suite $C_{n}$ tant que $n$ est plus grand que 1.\n",
    "\n",
    "La conjecture de syracuse affirme que, quelle que soit la valeur du premier terme choisi, il existe un rang dans la suite tel que $n = 1 $. Cette conjecture défie toujours les mathématiciens."
   ]
  },
  {
   "cell_type": "code",
   "execution_count": null,
   "metadata": {},
   "outputs": [],
   "source": [
    "def syracuse(n):\n",
    "    print(n)\n",
    "    if n > 1 :\n",
    "        if n%2==0:\n",
    "            syracuse(n//2)\n",
    "        else : \n",
    "            syracuse(3*n+1)\n",
    "print(syracuse(5))"
   ]
  },
  {
   "cell_type": "markdown",
   "metadata": {},
   "source": [
    "## Exercice 3 :\n",
    "Ecrire une fonction récursive `nombreDeChiffre(n)` qui prend un entier positif ou nul n en argument et renvoie son nombre de chiffre. Par exemple, `nombreDeChiffre(34126)` doit renvoyer 5."
   ]
  },
  {
   "cell_type": "code",
   "execution_count": null,
   "metadata": {},
   "outputs": [],
   "source": [
    "def nombreDeChiffre(n):\n",
    "    if n<=9 : \n",
    "        return 1\n",
    "    else : \n",
    "        return 1 + nombreDeChiffre(n//10)\n",
    "print(nombreDeChiffre(34126))"
   ]
  },
  {
   "cell_type": "markdown",
   "metadata": {},
   "source": [
    "## Exercice 4 : PGCD\n",
    "calculer le pgcd de deux entiers positifs grâce à l'algorithme d'Euclide (dite également méthode des divisions euclidiennes successives).  \n",
    "Pour cela : on utilisera le résultat mathématique suivant :\n",
    "pgcd(a,b)=pgcd(b,r) où a=bq+r (r est alors le reste de la division euclidienne de a par b\n",
    "\n",
    "_Exemple_ : pgcd de 221 et 782  \n",
    "&emsp; $221 = 782 \\times 0 + 221$  \n",
    "_on décale le 782 avant le égal et on divise par 221_  \n",
    "&emsp; $782 = 221 \\times 3 + 119$  \n",
    "_on décale le 221 avant le égal et on divise par 119_  \n",
    "&emsp; $221 = 119 \\times 1 + 102$  \n",
    "_on décale le 119 avant le égal et on divise par 112_  \n",
    "&emsp; $119 = 102 \\times 1 + 17$  \n",
    "_on décale le 102 avant le égal et on divise par 17_  \n",
    "&emsp; $102 = 17 \\times 6 + 0$  \n",
    "Le pgcd de 221 et 783 est égal au dernier reste non nul, soit 17.  "
   ]
  },
  {
   "cell_type": "code",
   "execution_count": null,
   "metadata": {},
   "outputs": [],
   "source": [
    "def pgcd(a,b):\n",
    "    if a==0 :\n",
    "        return b\n",
    "    else :\n",
    "        return pgcd(b%a,a)\n",
    "print(pgcd(221,782))"
   ]
  },
  {
   "cell_type": "markdown",
   "metadata": {},
   "source": [
    "## Exercice 5 : Palindrome\n",
    "1. Définir une fonction récursive qui détermine l'inverse d'une chaîne de caractères `inverse(s)`.\n",
    "\n",
    "2. En utilisant la fonction récursive précédente, définir une fonction qui teste si une chaîne de caractères est un palindrome.\n",
    "\n",
    "Exemples de palindromes : \"kayak\", \"laval\", \"mon nom\", \"non\", \"ressasser\", \"serres\""
   ]
  },
  {
   "cell_type": "code",
   "execution_count": null,
   "metadata": {},
   "outputs": [],
   "source": [
    "'''\n",
    "La première étape est de définir notre scénario de base, qui vérifiera si la chaîne est égale à 0 et, \n",
    "si oui, retourne la chaîne elle-même.\n",
    "\n",
    "La deuxième étape est d'appeler de manière récursif la fonction d'inversion \n",
    "afin d'extraire le premier caractère et ensuite l'ajouter à la fin de la chaîne.\n",
    "'''\n",
    "\n",
    "\n",
    "def inverse(s):\n",
    "    if len(s)==1 :\n",
    "        return s\n",
    "    else :\n",
    "        return inverse(s[1:]) + s[0]\n",
    "        \n",
    "print(inverse('toto'))\n",
    "\n",
    "def isPalin(s) :\n",
    "    return (s == inverse(s))\n",
    "\n",
    "print(isPalin('kayak'))\n",
    "\n",
    "def palindrome(s) : \n",
    "    if len(s) < 2 :\n",
    "        return True\n",
    "    return (s[0] == s[len(s)-1]) and palindrome(s[1:-1])\n",
    "            \n",
    "print(palindrome('kayak'))"
   ]
  },
  {
   "cell_type": "markdown",
   "metadata": {},
   "source": [
    "## Des limites de la récursivité\n",
    "\n",
    "On veut calculer un terme de rang donné de la suite de Fibonacci, dont la définition par récurrence sur $\\mathbb{N}$ est :  \n",
    " \n",
    "&emsp; &emsp; $\n",
    "\\left\\{\n",
    "          \\begin{array}{lll}\n",
    "            u_0 = 0 \\\\\n",
    "            u_1 = 1 \\\\\n",
    "            u_n = u_{n - 1} + u_{n - 2} \\\\\n",
    "          \\end{array}\n",
    "\\right.\n",
    "$   \n",
    "  \n",
    "Ecrire le programme récursif donnant la valeur de rang donné d'un élément de la suite de Fibonacci.  \n",
    "Testez-le en calculant quelques valeurs, de plus en plus grandes.  "
   ]
  },
  {
   "cell_type": "code",
   "execution_count": null,
   "metadata": {},
   "outputs": [],
   "source": [
    "def fiboRec(n):\n",
    "    if(n == 0):\n",
    "        return 0\n",
    "    elif(n == 1):\n",
    "        return 1\n",
    "    else:\n",
    "        return fiboRec(n-1) + fiboRec(n-2)\n",
    "    \n",
    "def fiboRecC(rang , compteur = 0):\n",
    "    compteur += 1\n",
    "    if rang < 2 :\n",
    "        return (rang,compteur)\n",
    "    return fiboRec(rang-1)+fiboRec(rang-2)\n",
    "\n",
    "n = 30\n",
    "print(fiboRecC(n,c))"
   ]
  },
  {
   "cell_type": "markdown",
   "metadata": {},
   "source": [
    "Comme vous le constatez peut-être, ce programme est lent... Vous pouvez visulaiser la pile d'appels avec [Python Tutor](http://pythontutor.com/visualize.html#mode=edit). \n",
    "  \n",
    "Dans la version récursive, pour calculer fibonacci(5), on calcule d'abord fibonacci(4) et fibonacci(3). Pour calculer fibonacci(4), on calcule fibonacci(3) et fibonacci(2). Pour calculer fibonacci(3), on calcule fibonacci(2) et fibonacci(1)... Le déroulement du processus est arborescent comme le montre la figure ci-dessous.\n",
    "![pile d'appel](data/recursivite-fibonacci.png)\n",
    "\n",
    "\n",
    "On remarque que les branches de l'arbre se divise en deux à chaque niveau (sauf en bas de l'arbre, ie. à droite sur la figure), ce qui traduit le fait que la fonction `fibonacci` s'appelle elle-même deux fois à chaque fois qu'elle est invoquée avec $ n > 1 $. Dans cet arbre, on constate par exemple que le calcul de `fibonacci(3)` est développé intégralement 2 fois : une fois pour le calul de `fibonacci(4)` et une fois pour lui-même. En fait, il n'est pas très difficile de montrer que le nombre de fois où la fonction calcule `fibonacci(1)` ou `fibonacci(0)` (ie. le nombre de feuilles dans l'arbre) est précisément $u_{n}$ (`fibonacci(n)`). Or la valeur de $u_{n}$ croît de manière exponentielle avec $ n $; ainsi, avec cette version récursive, le processus de calcul de `fibonacci(n)` prend un temps qui croît de façon exponentielle avec $ n $.\n",
    "\n",
    "Dans la version itérative, on ne passe que $(n−1)$ fois dans la boucle. Ainsi, le processus de calcul itératif de `fibonacci(n)` prend un temps qui croît de manière linéaire avec $ n $. La différence entre les temps de calcul requis par les 2 méthodes, l'une linéaire en $ n $ et l'autre augmentant aussi vite que $u_{n}$ lui-même, est donc énorme même pour de petites valeurs de $n$. Par exemple, pour $n = 50 $, il faudra 50 unités de temps pour la méthode itérative contre 20365011074 (plus de 20 milliards unités de temps !) pour la méthode récursive. La version itérative sera donc préférée à la version récursive dans ce cas là : « il n'y a pas photo » !\n",
    "\n",
    "Il ne faudrait pas conclure à l'inutilité des processus récursifs en arbre. Pour les processus opérant sur des structures de données hiérarchiques et non plus sur des nombres, la récursivité en arbre est un outil naturel et puissant. Même pour les calculs numériques, les processus récursifs en arbre peuvent être utiles à la compréhension et à la conception d'algorithmes. Par exemple, bien que la version récursive de `fibonacci` soit beaucoup moins efficace que la version itérative, elle s'obtient presque directement, étant à peine plus qu'une traduction en Python de la définition mathématiques des nombres de Fibonacci. En revanche, pour formuler la version itérative, il fallait avoir remarqué que le calcul pouvait être revu sous la forme d'une itération avec 3 variables; ce qui est bien moins direct et moins intuitif que la version récursive."
   ]
  },
  {
   "cell_type": "markdown",
   "metadata": {},
   "source": [
    "# La suite : \n",
    "TP sur le flocon de Koch ..."
   ]
  },
  {
   "cell_type": "markdown",
   "metadata": {},
   "source": [
    "# Pour aller plus loin\n",
    "La récursivité peut s'appliquer au technique de tri, et notamment le tri fusion.\n",
    "\n",
    "A lire : [Cours récursivité Term NSI Alain Busser, La réunion](https://alainbusser.frama.io/NSI-IREMI-974/chap10_r%C3%A9cursivit%C3%A9.html)\n",
    "\n",
    "**Attention :** le lien mène vers un cours de NSI de niveau terminale mais aborde également des notion que nous verrons bien plus tard dans l'année. "
   ]
  },
  {
   "cell_type": "markdown",
   "metadata": {},
   "source": [
    "# Source : \n",
    "- \"NSI : 24 leçons avec exercices corrigés\" Edition Ellipses - licence Creative Commons NC BY SA\n",
    "- Frederic Mandon, Lycée Jean Jaurès - Saint Clément de Rivière\n",
    "- Frédéric Mandon (http://www.maths-info-lycee.fr/index.html) - licence Creative Commons BY NC SA \n",
    "- David Roche (https://pixees.fr/informatiquelycee/n_site/nsi_term_fctRec.html)\n",
    "- Cours très bien fait : https://www.enib.fr/enibook/algorithmic/learning/site/html/recursivite-0-index.html"
   ]
  },
  {
   "cell_type": "code",
   "execution_count": null,
   "metadata": {},
   "outputs": [],
   "source": []
  }
 ],
 "metadata": {
  "kernelspec": {
   "display_name": "Python 3",
   "language": "python",
   "name": "python3"
  },
  "language_info": {
   "codemirror_mode": {
    "name": "ipython",
    "version": 3
   },
   "file_extension": ".py",
   "mimetype": "text/x-python",
   "name": "python",
   "nbconvert_exporter": "python",
   "pygments_lexer": "ipython3",
   "version": "3.8.3"
  }
 },
 "nbformat": 4,
 "nbformat_minor": 4
}
