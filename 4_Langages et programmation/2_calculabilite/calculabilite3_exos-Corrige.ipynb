{
 "cells": [
  {
   "cell_type": "markdown",
   "metadata": {},
   "source": [
    "# Calculabilité - Exercices (3)"
   ]
  },
  {
   "cell_type": "markdown",
   "metadata": {},
   "source": [
    "Revoir la vidéo ci dessus sur les machines de turing en complément du PDF [computerpaper](http://www.espace-turing.fr/IMG/pdf/computerpaper.pdf)"
   ]
  },
  {
   "cell_type": "code",
   "execution_count": null,
   "metadata": {},
   "outputs": [],
   "source": [
    "from IPython.display import YouTubeVideo\n",
    "YouTubeVideo('https://youtu.be/P66h8D5Lkwk')"
   ]
  },
  {
   "cell_type": "markdown",
   "metadata": {},
   "source": [
    "## Exercice 1 :"
   ]
  },
  {
   "cell_type": "markdown",
   "metadata": {},
   "source": [
    "Voici un ensemble de règles de transition pour une machine de Turing. Son état initial est `P` et son état final est `F`.\n",
    "\n",
    "Note : la puce pleine (ou rond noir) dans la table de transition ci dessous correspond au symbole blanc."
   ]
  },
  {
   "cell_type": "markdown",
   "metadata": {},
   "source": [
    "\n",
    "<img src=\"data/ex1.jpg\" alt=\"table de transition\" style=\"width:25%;\"/>"
   ]
  },
  {
   "cell_type": "markdown",
   "metadata": {},
   "source": [
    "**Avec quel alphabet travaille cette machine ?** La machine travaille avec l'alphabet {0,1,blanc}\n",
    "\n",
    "**Quels sont les états de la machine ?** Les états de la machine sont $ P, D_0, D_1, V_0, V_1, R, E, F $\n",
    "\n",
    "Exécuter cette machine avec l'entrée ['1','0','0','1'] puis sur l'entrée ['1','1','1','0'], en considérant à chaque fois qu'en dehors de cette entrée, le ruban est intégralement rempli par le symbole blanc.\n",
    "\n",
    "**Comment se comporte cette machine pour chacun des états ? Que fait-elle ?**\n",
    "Vous pouvez également la tester sur d'autres entrées comme ['0','1','0']\n",
    "\n",
    "\n",
    "Les deux exécutions peuvent être résumées ainsi, en indiquant l'état de la machine dans la cas correspondant à sa position.\n",
    "<img src=\"data/ex1_corr.jpg\" alt=\"table de transition\" style=\"width:25%;\"/>\n",
    "Dans l'état $P$, la machine efface une case et retient son contenu. Dans les états $D_0$ et $D_1$ elle se déplace jusqu'au bout de l'entrée. Dans les états $V_0$ et $V_1$ elle vérifie que le contenu de la case correspond à la valeur mémorisée (et efface la case). Dans l'état $R$ elle revient au début de l'entrée pour reprendre à $P$. Dans l'état $E$ elle efface le ruban puis s'arrête.\n",
    "\n",
    "Cette machine vérifie si l'entrée est un palindrome. A la fin de l'exécution elle a vidé le ruban et simplement laissé écrit 1 si l'entrée est un palindrome, un 0 sinon. Le retour à l'état $P$ peut être vu comme un appel récursif à notre algorithme de vérification de palindrome, sur une entrée dont le premier et le dernier symbole ont été effacés.\n"
   ]
  },
  {
   "cell_type": "markdown",
   "metadata": {},
   "source": [
    "## Exercice 2 :"
   ]
  },
  {
   "cell_type": "markdown",
   "metadata": {},
   "source": [
    "Définir une machine de Turing qui décale son entrée d'une case vers la droite.\n",
    "\n",
    "On supposera que l'entrée est composée des symboles 0 et 1 et bordée de symboles blancs. \n",
    "On supposera également que la position de départ de la machine est l'extrémité gauche de l'entrée."
   ]
  },
  {
   "cell_type": "markdown",
   "metadata": {},
   "source": [
    "On utilise 3 états $C, P et A$ en plus de l'état final $F$. Dans l'état $C$ (qui est l'état initial), la machine cherche une occurrence de 0. Dans les états $P et A$, la machine revient écrire son verdict. La machine passe dans l'état $P$ (présent) dès qu'elle observ un symbole 0. Elle passe dans l'état $A$ si elle atteint le blanc suivant l'entrée sans avoir rencontré de 0.\n",
    "\n",
    "<img src=\"data/ex2.jpg\" alt=\"table de transition\" style=\"width:25%;\"/>\n",
    "\n",
    "La stratégie de cette machine peut faire penser au code de la fonction Python suivante."
   ]
  },
  {
   "cell_type": "code",
   "execution_count": null,
   "metadata": {},
   "outputs": [],
   "source": [
    "def chercherZero (entree) :\n",
    "    for c in entree :\n",
    "        if c == entree :\n",
    "            return True\n",
    "    return False"
   ]
  },
  {
   "cell_type": "markdown",
   "metadata": {},
   "source": [
    "# Sources :\n",
    "Livre \"NSI 24 leçons avec exercices corrigés\" Edition Ellipses\n"
   ]
  }
 ],
 "metadata": {
  "kernelspec": {
   "display_name": "Python 3",
   "language": "python",
   "name": "python3"
  },
  "language_info": {
   "codemirror_mode": {
    "name": "ipython",
    "version": 3
   },
   "file_extension": ".py",
   "mimetype": "text/x-python",
   "name": "python",
   "nbconvert_exporter": "python",
   "pygments_lexer": "ipython3",
   "version": "3.8.3"
  }
 },
 "nbformat": 4,
 "nbformat_minor": 4
}
