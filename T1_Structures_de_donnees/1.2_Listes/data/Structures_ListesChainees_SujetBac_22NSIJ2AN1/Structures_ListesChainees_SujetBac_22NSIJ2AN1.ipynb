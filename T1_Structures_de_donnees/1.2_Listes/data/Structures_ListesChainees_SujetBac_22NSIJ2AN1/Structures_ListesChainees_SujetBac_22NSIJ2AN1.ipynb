{
 "cells": [
  {
   "cell_type": "markdown",
   "id": "15d2166a",
   "metadata": {},
   "source": [
    "# D'après le sujet 22-NSIJ2AN1\n",
    "\n",
    "_Rappel de l'énoncé:_\n",
    "\n",
    "Une classe `Concurrent` est définie avec les attributs suivants :\n",
    "\n",
    "* `nom` de type `str` qui représente le pseudonyme du compétiteur ;\n",
    "* `temps` de type `float` qui est le temps mis pour réaliser le parcours (_en secondes_) ;\n",
    "* `penalite` de type `int` qui est le nombre de secondes de pénalité cumulées octroyées au compétiteur ;\n",
    "* `temps_tot` de type `float` qui correspond au temps total, c'est-à-dire au temps mis pour réaliser le parcours auquel on a ajouté les secondes de pénalité."
   ]
  },
  {
   "cell_type": "markdown",
   "id": "0ea582a9",
   "metadata": {},
   "source": [
    "Le code Python incomplet de la classe `Concurrent` est donné ci-dessous."
   ]
  },
  {
   "cell_type": "code",
   "execution_count": null,
   "id": "981a9ec4",
   "metadata": {},
   "outputs": [],
   "source": [
    "class Concurrent :\n",
    "    def __init__(self, pseudo, temps, penalite) :\n",
    "        self.nom = pseudo\n",
    "        self.temps = temps\n",
    "        self.penalite = ...\n",
    "        self.temps_tot = ..."
   ]
  },
  {
   "cell_type": "markdown",
   "id": "c06952c1",
   "metadata": {},
   "source": [
    "### Question 1\n",
    "\n",
    "a. Compléter le code du ***constructeur*** de la classe `Concurrent`.\n",
    "\n",
    "b. On exécute l'instruction suivante :"
   ]
  },
  {
   "cell_type": "code",
   "execution_count": null,
   "id": "fbd4d317",
   "metadata": {},
   "outputs": [],
   "source": [
    "c1 = Concurrent(\"Mosquito\", 87.67, 12)"
   ]
  },
  {
   "cell_type": "markdown",
   "id": "c88e84c4",
   "metadata": {},
   "source": [
    "* Donner la valeur de l'attribut `temps_tot` de `c1`\n",
    "* Écrire l'instruction qui permet d'accéder à la valeur `temps_tot` de `c1`"
   ]
  },
  {
   "cell_type": "code",
   "execution_count": null,
   "id": "58e1c90d",
   "metadata": {},
   "outputs": [],
   "source": [
    "# écrire ici l'instruction\n"
   ]
  },
  {
   "cell_type": "markdown",
   "id": "0ea3cd8c",
   "metadata": {},
   "source": [
    "### Question 2\n",
    "\n",
    "Le code ci-dessous permet de créer la classe `Liste` décrite par l'énoncé : ceci implémente la structure de données abstraite de **liste chainée**, avec l'interface décrite dans l'énoncé."
   ]
  },
  {
   "cell_type": "code",
   "execution_count": null,
   "id": "06c30b77",
   "metadata": {},
   "outputs": [],
   "source": [
    "class Maillon :\n",
    "    def __init__(self, data = None, suivant = None)  :\n",
    "        self.head = data\n",
    "        self.tail = suivant\n",
    "\n",
    "class Liste :\n",
    "    def __init__(self, first = None) :\n",
    "        self.premier_maillon = first\n",
    "    \n",
    "    def est_vide(self) :\n",
    "        return self.premier_maillon == None\n",
    "    \n",
    "    def tete(self) :\n",
    "        return self.premier_maillon.head\n",
    "    \n",
    "    def queue(self) :\n",
    "        if not (self.est_vide()):\n",
    "            return Liste(self.premier_maillon.tail)\n",
    "    \n",
    "    def ajout(self, data) :\n",
    "        nouveau_maillon = Maillon(data, self.premier_maillon)\n",
    "        self.premier_maillon = nouveau_maillon\n",
    "    "
   ]
  },
  {
   "cell_type": "markdown",
   "id": "ac845888",
   "metadata": {},
   "source": [
    "Pour reprendre l'exemple de l'énoncé :"
   ]
  },
  {
   "cell_type": "code",
   "execution_count": null,
   "id": "91b4695b",
   "metadata": {},
   "outputs": [],
   "source": [
    "c1 = Concurrent(\"Mosquito\", 87.67, 12)\n",
    "c2 = Concurrent(\"Python Fute\", 89.73, 4)\n",
    "c3 = Concurrent(\"Piranha Vorace\", 90.54, 0)\n",
    "c4 = Concurrent(\"Truite Agile\", 84.32, 52)\n",
    "c5 = Concurrent(\"Tortue Rapide\", 92.12, 2)\n",
    "c6 = Concurrent(\"Lievre Tranquille\", 93.45, 0)\n",
    "\n",
    "resultats = Liste()\n",
    "resultats.ajout(c1)\n",
    "resultats.ajout(c2)\n",
    "resultats.ajout(c3)\n",
    "resultats.ajout(c4)\n",
    "resultats.ajout(c5)\n",
    "resultats.ajout(c6)"
   ]
  },
  {
   "cell_type": "markdown",
   "id": "d0110999",
   "metadata": {},
   "source": [
    "Après exécution, ce script génère une liste que l'on peut représenter par : `<c6, c5, c4, c3, c2, c1>`\n",
    "\n",
    "**2.a** Écrire la (ou les) instruction(s) qui permet(tent) d'accéder à `c4` _uniquement avec les méthodes de la classe `Liste`_ :"
   ]
  },
  {
   "cell_type": "code",
   "execution_count": null,
   "id": "109128c1",
   "metadata": {},
   "outputs": [],
   "source": [
    "# écrire ici"
   ]
  },
  {
   "cell_type": "markdown",
   "id": "5352e9f6",
   "metadata": {},
   "source": [
    "**2.b** Écrire la (ou les) instruction(s) qui permet(tent) d'accéder au temps total du concurrent stocké en tête de la liste `resultats` :"
   ]
  },
  {
   "cell_type": "code",
   "execution_count": null,
   "id": "835a466a",
   "metadata": {},
   "outputs": [],
   "source": [
    "# compléter ici\n",
    "val = ...\n",
    "assert val == 93.45, \"problème de code\""
   ]
  },
  {
   "cell_type": "markdown",
   "id": "c558551c",
   "metadata": {},
   "source": [
    "### Question 3\n",
    "\n",
    "On veut créer une fonction `meilleur_concurrent` \n",
    "\n",
    "* qui prend en paramètre une liste `L` de concurrents (de la classe `Liste` ci-dessus)\n",
    "* et qui renvoie l'objet `Concurrent` correspondant au concurrent le plus rapide.\n",
    "\n",
    "_On suppose que la liste est non vide_.\n",
    "\n",
    "Compléter le code de cette fonction :"
   ]
  },
  {
   "cell_type": "code",
   "execution_count": null,
   "id": "7730c4f0",
   "metadata": {},
   "outputs": [],
   "source": [
    "def meilleur_concurrent(L) :\n",
    "    conc_mini = L. ... \n",
    "    mini = conc_mini.temps_tot\n",
    "    Q = L.queue()\n",
    "    while not(Q.est_vide()) :\n",
    "        elt = Q.tete()\n",
    "        if elt.temps_tot ... mini :\n",
    "            conc_mini = elt\n",
    "            mini = elt.temps_tot\n",
    "        Q = Q. ...\n",
    "    return ...\n",
    "\n",
    "# un test\n",
    "assert meilleur_concurrent(resultats).nom == 'Piranha Vorace', \"problème de code\""
   ]
  },
  {
   "cell_type": "code",
   "execution_count": null,
   "id": "d393caf4",
   "metadata": {},
   "outputs": [],
   "source": []
  }
 ],
 "metadata": {
  "kernelspec": {
   "display_name": "Python 3 (ipykernel)",
   "language": "python",
   "name": "python3"
  },
  "language_info": {
   "codemirror_mode": {
    "name": "ipython",
    "version": 3
   },
   "file_extension": ".py",
   "mimetype": "text/x-python",
   "name": "python",
   "nbconvert_exporter": "python",
   "pygments_lexer": "ipython3",
   "version": "3.10.8"
  }
 },
 "nbformat": 4,
 "nbformat_minor": 5
}
