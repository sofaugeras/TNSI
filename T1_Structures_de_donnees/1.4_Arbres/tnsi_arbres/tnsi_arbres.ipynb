{
 "cells": [
  {
   "cell_type": "markdown",
   "metadata": {},
   "source": [
    "# Les arbres\n",
    "\n",
    "## Pour rappel  : \n",
    "Un arbre est constitué :\n",
    "- d'une racine, sommet de \"départ\" de l'arbre ;\n",
    "- de noeuds, sommets intermédiaires de l'arbre ;\n",
    "- de feuilles, sommets \"finaux\" de l'arbre ;\n",
    "- et de branches, qui relient les éléments précédents entre eux.\n",
    "\n",
    "![Image : Un exemple d'arbre](http://www.maths-info-lycee.fr/images/arbre1.jpg)  \n",
    "\n",
    "## Algorithmes sur les arbres binaires\n",
    "On donne l'implémentation suivante de la structure de données \"arbre\"."
   ]
  },
  {
   "cell_type": "code",
   "execution_count": 4,
   "metadata": {},
   "outputs": [
    {
     "name": "stdout",
     "output_type": "stream",
     "text": [
      "cf..g..\n"
     ]
    }
   ],
   "source": [
    "class ArbreB:\n",
    "    def __init__(self, valeur, gauche = None, droit = None):\n",
    "        self.noeud = valeur\n",
    "        self.gauche = gauche\n",
    "        self.droit = droit\n",
    "        \n",
    "    \n",
    "    def __repr__(self):\n",
    "        return str(self.noeud) +str(self.gauche).replace('None','.')+str(self.droit).replace('None','.')\n",
    "    \n",
    "        \n",
    "arbre_f = ArbreB('f')\n",
    "arbre_g = ArbreB('g')\n",
    "arbre_c = ArbreB('c',arbre_f,arbre_g)\n",
    "print(arbre_c)"
   ]
  },
  {
   "cell_type": "markdown",
   "metadata": {},
   "source": [
    "### Méthodes et fonctions de base\n",
    "\n",
    "1. Construire l'arbre donné : \n",
    "![Image](http://www.maths-info-lycee.fr/images/arbre_parfait2b.jpg)"
   ]
  },
  {
   "cell_type": "markdown",
   "metadata": {},
   "source": [
    "2. Ecrire une méthode estVide() renvoyant vrai si l'arbre est vide"
   ]
  },
  {
   "cell_type": "code",
   "execution_count": null,
   "metadata": {},
   "outputs": [],
   "source": [
    "def est_Vide(self) :\n",
    "    pass"
   ]
  },
  {
   "cell_type": "code",
   "execution_count": null,
   "metadata": {},
   "outputs": [],
   "source": [
    "arbre_vide = ArbreB(None)\n",
    "assert arbre_vide.est_Vide() == True\n",
    "assert arbre.est_Vide() == False"
   ]
  },
  {
   "cell_type": "markdown",
   "metadata": {},
   "source": [
    "3. Ecrire une méthode estFeuille() renvoyant un booléen Vrai si l'arbre est une feuille"
   ]
  },
  {
   "cell_type": "code",
   "execution_count": null,
   "metadata": {},
   "outputs": [],
   "source": [
    "def estFeuille (self) :\n",
    "    pass"
   ]
  },
  {
   "cell_type": "code",
   "execution_count": null,
   "metadata": {},
   "outputs": [],
   "source": [
    "assert arbre_vide.estFeuille() == False\n",
    "assert arbre_f.estFeuille() == True\n",
    "assert arbre_d.estFeuille() == False"
   ]
  },
  {
   "cell_type": "markdown",
   "metadata": {},
   "source": [
    "4. Ecrire une fonction donnant la taille de l'arbre, et une autre fonction donnant la hauteur de l'arbre (on peut faire une méthode, c'est un peu plus besogneux)"
   ]
  },
  {
   "cell_type": "code",
   "execution_count": null,
   "metadata": {},
   "outputs": [],
   "source": [
    "def taille(self):\n",
    "    pass"
   ]
  },
  {
   "cell_type": "code",
   "execution_count": null,
   "metadata": {},
   "outputs": [],
   "source": [
    "assert arbre_f.taille() == 1\n",
    "assert arbre_vide.taille() == 0\n",
    "assert arbre_d.taille() == 3\n",
    "assert arbre.taille() == 10"
   ]
  },
  {
   "cell_type": "markdown",
   "metadata": {},
   "source": [
    "### Parcours\n",
    "#### En profondeur\n",
    "Prenez le temps de comprendre la fonction de parcours préfixe puis ecrire les deux fonctions de parcours infixe et suffixe d'un arbre. On affichera le parcours dans un premier temps. Dans un deuxième temps, on renverra le parcours dans un tableau dynamique Python."
   ]
  },
  {
   "cell_type": "code",
   "execution_count": 1,
   "metadata": {},
   "outputs": [
    {
     "name": "stdout",
     "output_type": "stream",
     "text": [
      "[2, 3]\n"
     ]
    }
   ],
   "source": [
    "p = [2]+[3]\n",
    "print(p)"
   ]
  },
  {
   "cell_type": "code",
   "execution_count": null,
   "metadata": {},
   "outputs": [],
   "source": [
    "def parcoursPrefixe(self):\n",
    "    # Condition d'arrêt\n",
    "    if self.noeud is None:\n",
    "        return []\n",
    "    parcours_gauche =[]\n",
    "    parcours_droit =[]\n",
    "    if not self.gauche is None :\n",
    "        parcours_gauche = self.gauche.parcoursPrefixe()\n",
    "    if not self.droit is None : \n",
    "        parcours_droit = self.droit.parcoursPrefixe()\n",
    "    return [self.noeud]+ parcours_gauche + parcours_droit\n",
    "\n",
    "def parcoursInfixe(self):\n",
    "\n",
    "    return parcours\n",
    "\n",
    "def parcoursSuffixe(self):\n",
    "\n",
    "    return parcours"
   ]
  },
  {
   "cell_type": "code",
   "execution_count": null,
   "metadata": {},
   "outputs": [],
   "source": [
    "prefixe = arbre.parcoursPrefixe()\n",
    "print(\"prefixe : \", prefixe)"
   ]
  },
  {
   "cell_type": "code",
   "execution_count": null,
   "metadata": {},
   "outputs": [],
   "source": [
    "infixe = arbre.parcoursInfixe()\n",
    "print(\"infixe : \", infixe)"
   ]
  },
  {
   "cell_type": "code",
   "execution_count": null,
   "metadata": {},
   "outputs": [],
   "source": [
    "suffixe = arbre.parcoursSuffixe()\n",
    "print(\"suffixe : \", suffixe)"
   ]
  },
  {
   "cell_type": "markdown",
   "metadata": {},
   "source": [
    "### En largeur\n",
    "Appliquer l'algorithme du cours pour donner le parcours en largeur d'un arbre."
   ]
  },
  {
   "cell_type": "code",
   "execution_count": null,
   "metadata": {},
   "outputs": [],
   "source": [
    "from collections import deque\n",
    "\n",
    "def parcoursLargeur(arbre):\n",
    "    file = deque()\n",
    "    parcours = []\n",
    "\n",
    "    return parcours\n",
    "\n",
    "largeur = parcoursLargeur(arbre_a)\n",
    "print(largeur)\n",
    "        \n",
    "    "
   ]
  },
  {
   "cell_type": "markdown",
   "metadata": {},
   "source": [
    "### Un utilitaire pour la suite du notebook\n",
    "L'utilitaire suivant permet de tracer des arbres binaires"
   ]
  },
  {
   "cell_type": "code",
   "execution_count": 5,
   "metadata": {},
   "outputs": [],
   "source": [
    "# utilitaire pour représenter les arbres binaires\n",
    "%matplotlib inline\n",
    "import networkx as nx\n",
    "import matplotlib.pyplot as plt\n",
    "\n",
    "def hauteur(arbre):\n",
    "    if arbre is None:\n",
    "        return 0\n",
    "    else:\n",
    "        return 1 + max(hauteur(arbre.gauche), hauteur(arbre.droit))\n",
    "    \n",
    "def parkour(arbre, noeuds, branches, position, profondeur, pos_courante):\n",
    "    if arbre is not None:\n",
    "        noeuds.append(arbre.noeud)            # on complète la liste des noeuds\n",
    "        position[arbre.noeud] = (pos_courante,profondeur)     # ... et la liste des positions\n",
    "        profondeur -= 1 \n",
    "        if arbre.gauche is not None:\n",
    "            branches.append((arbre.noeud, arbre.gauche.noeud))  #... et la liste des branches\n",
    "            parkour(arbre.gauche, noeuds, branches, position, profondeur, \n",
    "                    pos_courante - 2**(profondeur - 1))\n",
    "        if arbre.droit is not None:\n",
    "            branches.append((arbre.noeud, arbre.droit.noeud))\n",
    "            parkour(arbre.droit, noeuds, branches, position, profondeur, \n",
    "                    pos_courante + 2**(profondeur - 1))\n",
    "    return noeuds, branches, position \n",
    "\n",
    "\n",
    "def repr_graph(arbre):\n",
    "    noeuds = []             #liste des noeuds, racines et feuilles de l'arbre\n",
    "    branches =[]            # liste des branches de l'arbre\n",
    "    profond = hauteur(arbre)        #hauteur de l'arbre\n",
    "    pos_courante = 2**(profond - 1)   # position de la racine (en abscisse)\n",
    "    position = {}                # dictionnaire des positions des noeuds sur la figure\n",
    "     \n",
    "    # appel d'une fonction récursive de parcours, ici prefixe mais ça n'a pas d'importance\n",
    "    # on récupère : la liste des noeuds, la liste des branches,\n",
    "    # le dictionnaire des positions des noeuds\n",
    "    noeuds, branche, position  = parkour(arbre, noeuds, branches, position, profond, pos_courante)    \n",
    "    #print(position)\n",
    "\n",
    "    mon_arbre = nx.Graph()          # objet Graphe de la bibliothèque Networkxx\n",
    "    mon_arbre.add_nodes_from(noeuds)\n",
    "    mon_arbre.add_edges_from(branches)\n",
    "    #print(list(arbre.nodes))\n",
    "    #print(list(arbre.edges))\n",
    "    #Si vous voulez changer des couleurs, amusez-vous ci-dessous\n",
    "    #Plein de noms de couleurs là : http://www.letoileauxsecrets.fr/couleurs/couleurs-gris.html\n",
    "    options = {\n",
    "        \"font_size\": 12,\n",
    "        \"node_size\": 300,\n",
    "        \"node_color\": \"white\",\n",
    "        \"edge_color\" : \"green\",\n",
    "        \"edgecolors\": \"blue\",\n",
    "        \"linewidths\": 1,\n",
    "        \"width\": 2,\n",
    "    }\n",
    "    # plt.figure(figsize=(12,8))     # pour changer la taille de la figure\n",
    "    nx.draw_networkx(mon_arbre, pos = position, **options)\n",
    "    ax = plt.gca()\n",
    "    ax.margins(0.20)\n",
    "    plt.axis(\"off\")\n",
    "    plt.show()\n",
    "    return(mon_arbre)      #on renvoie l'objet graphe networkxx au cas où\n"
   ]
  },
  {
   "cell_type": "code",
   "execution_count": 8,
   "metadata": {},
   "outputs": [
    {
     "data": {
      "image/png": "[encoded data removed]",
      "text/plain": [
       "<Figure size 432x288 with 1 Axes>"
      ]
     },
     "metadata": {},
     "output_type": "display_data"
    }
   ],
   "source": [
    "arbre = repr_graph(arbre_c)"
   ]
  },
  {
   "cell_type": "markdown",
   "metadata": {},
   "source": [
    "### Exercice : reconstruction d'un arbre\n",
    "Avec la déforestation massive, il est important de savoir reconstruire les arbres (désolé...). \n",
    "Le but de cet exercice est de reconstruire un arbre connaissant son parcours infixe et son parcours suffixe.  \n",
    "_Exemple_ :   \n",
    "Le parcours infixe d'un arbre est `[4, 8, 2, 5, 1, 6, 3, 7]` \n",
    "le parcours suffixe de ce même arbre est `[8, 4, 5, 2, 6, 7, 3, 1]`\n",
    "L'arbre correspondant est:  \n",
    "![Image](http://www.maths-info-lycee.fr/images/arbre_inf_suff.jpg)  \n",
    "_Méthode_ :\n",
    "1. Que représente le dernier noeud dans le parcours suffixe ?\n",
    "2. Où sont situés dans l'arbre les noeuds présents avant le noeud 1, dans le parcours infixe ? Idem avec ceux qui sont après.\n",
    "3. Itérer le processus, vérifier \"à la main\" que l'on obtient bien l'arbre ci-dessus.  \n",
    "  \n",
    "Ecrire une fonction (récursive a priori) `constrArbre(infx, sufx, arbre)` qui implémente cette méthode. La fonction renverra un objet Arbre. On supposera que les parcours infixe et suffixe sont cohérents.  \n",
    "On pourra s'aider des spécifications suivantes."
   ]
  },
  {
   "cell_type": "code",
   "execution_count": null,
   "metadata": {},
   "outputs": [],
   "source": [
    "class ArbreB:\n",
    "    def __init__(self, valeur, gauche = None, droit = None):\n",
    "        self.noeud = valeur\n",
    "        self.gauche = gauche\n",
    "        self.droit = droit\n",
    "    def __repr__(self):\n",
    "        return str(self.noeud) +str(self.gauche).replace('None','.')+str(self.droit).replace('None','.')\n",
    "\n",
    "def indexRacineSufx(infx, sufx, debut_infx, fin_infx):\n",
    "    \"\"\"\n",
    "    Renvoie l'index de la racine d'un sous-arbre, dont le parcours infixe est donné par infx[ind_debut, ind_fin]\n",
    "    Le parcours suffixe du sous_arbre n'est pas donné mais peut s'extraire de sufx\n",
    "    l'index est celui de la racine dans le parcours suffixe sfx\n",
    "    @param infx : liste du parcours infixe de l'arbre \n",
    "    @param sufx : liste du parcours suffixe de l'arbre \n",
    "    @param debut_infx, fin_infx : indices de début et de fin du sous-arbre dans le parcours infixe\n",
    "    @return ind_racine : indice de la racine du sous-arbre dans le parcours suffixe\n",
    "    \"\"\"\n",
    "    ind_racine = 0\n",
    "\n",
    "    return ind_racine\n",
    "\n",
    "def constrArbre(infx, sufx, debut_infx, fin_infx):\n",
    "    \"\"\"\n",
    "    Construit un arbre à partir des parcours infixe et suffixe\n",
    "    @param infx : liste des sommets de l'arbre dans le parcours infixe \n",
    "    @param sufx : liste des sommets de l'arbre dans le parcours suffixe \n",
    "    @param arbre : objet de la classe Arbre en cours de construction \n",
    "    @return arbre : arbre construit \n",
    "    \"\"\"\n",
    "    if debut_infx >= fin_infx :\n",
    "        return None\n",
    "    else:\n",
    "        arbre = ArbreB(None)\n",
    "        \n",
    "        return arbre\n",
    "\n",
    "infixe = [4, 8, 2, 5, 1, 6, 3, 7]\n",
    "suffixe = [8, 4, 5, 2, 6, 7, 3, 1]\n",
    "\n",
    "arbre = constrArbre(infixe, suffixe, 0, len(infixe))\n",
    "print(arbre)\n",
    "arbrenx = repr_graph(arbre)"
   ]
  },
  {
   "cell_type": "code",
   "execution_count": null,
   "metadata": {},
   "outputs": [],
   "source": []
  },
  {
   "cell_type": "code",
   "execution_count": null,
   "metadata": {},
   "outputs": [],
   "source": []
  }
 ],
 "metadata": {
  "kernelspec": {
   "display_name": "Python 3 (ipykernel)",
   "language": "python",
   "name": "python3"
  },
  "language_info": {
   "codemirror_mode": {
    "name": "ipython",
    "version": 3
   },
   "file_extension": ".py",
   "mimetype": "text/x-python",
   "name": "python",
   "nbconvert_exporter": "python",
   "pygments_lexer": "ipython3",
   "version": "3.9.13"
  }
 },
 "nbformat": 4,
 "nbformat_minor": 2
}
