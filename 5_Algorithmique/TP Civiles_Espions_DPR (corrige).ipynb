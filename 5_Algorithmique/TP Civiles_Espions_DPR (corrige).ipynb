{
 "cells": [
  {
   "cell_type": "markdown",
   "metadata": {},
   "source": [
    "# TP Des espions parmi les civils (diviser pour régner) \n",
    "\n",
    "Dans un contexte de guerre froide, des espions se sont glissés parmi les civils travaillant dans un centre de recherche et ont volé des données secrètes de la plus haute importance. \n",
    "\n",
    "**On suppose qu'il y a strictement plus de civils que d'espions.**\n",
    "\n",
    "On note $n$ le nombre total de personnes (l'ensemble des civils et des espions)."
   ]
  },
  {
   "cell_type": "markdown",
   "metadata": {},
   "source": [
    "Arrive alors sur les lieux un inspecteur qui cherche à démasquer les espions. Il peut organiser des confrontations entre deux personnes, celles-ci pouvant alors reconnaitre l'autre comme un civil, ou au contraire l'accuser d'être un espion.\n",
    "\n",
    "Il sait que les espions peuvent mentir (ou dire la vérité), mais que les civils disent toujours la vérité. Chaque civil sait qui est civil et qui est espion. Ainsi, lors d'une confrontation entre deux personnes, les déclarations des civils sont toujours exactes. \n",
    "\n",
    "On notera (DA,DB) les déclarations entre 2 personnes A et B, DA étant l'affirmation faite par A au sujet de B et DB l'affirmation faite par B au sujet de A. Par exemple si la confrontation entre A et B a pour résultat ('civil','espion') cela signifie que A affirme que B est un civil et B affirme que A est un espion.\n",
    "\n",
    "1. Quels peuvent être les résultats d'une confrontation entre A et B si:\n",
    "  * A et B sont 2 civils,\n",
    "  * A est un civil et B un espion ou vice-versa,\n",
    "  * A et B sont 2 espions.\n",
    "\n",
    ">* A et B sont 2 civils : comme ils disent forcément la vérité, (C,C)\n",
    ">* A est un civil et B un espion ou vice-versa : si A est le civil, (E,C ou E), et si B est le civil (C ou E,E)\n",
    ">* A et B sont 2 espions : (C ou E,C ou E)"
   ]
  },
  {
   "cell_type": "markdown",
   "metadata": {},
   "source": [
    "# 1. Représentation des personnes et du centre\n",
    "\n",
    "On supposera que les espions disent la vérité une fois sur deux.\n",
    "\n",
    "On va définir une classe `Personne`pour représenter soit un civil (statut = C) soit un espion (statut = E). \n",
    "\n",
    "2. Compléter cette classe avec la méthode `confrontation(autrePersonne)` qui renvoie le résultat d'une confrontation."
   ]
  },
  {
   "cell_type": "code",
   "execution_count": 1,
   "metadata": {},
   "outputs": [],
   "source": [
    "from random import randint, random\n",
    "\n",
    "class Personne:\n",
    "       \n",
    "    def __init__(self,num,statut):\n",
    "        self.statut = statut\n",
    "        self.num = num\n",
    "    \n",
    "    def getStatut(self):  \n",
    "        return self.statut\n",
    "        \n",
    "    def __str__(self):\n",
    "        return 'P'+str(self.num)+' : '+self.getStatut()        \n",
    "            \n",
    "    def parole(self,p):\n",
    "        if self.statut == 'C':  #pour son self statut on n'utilise pas getStatut (qui est utilisé pour autrui)\n",
    "            return p.getStatut()\n",
    "        else:\n",
    "            return 'C' if random() < 0.5 else 'E'\n",
    "        \n",
    "class Inspecteur:\n",
    "    \n",
    "    def __init(self):\n",
    "        pass\n",
    "        \n",
    "    def confrontation(self,pA, pB):\n",
    "        '''confrontation(pA, pB) renvoie la confrontation (DA, DB)'''\n",
    "        return (pA.parole(pB), pB.parole(pA))\n"
   ]
  },
  {
   "cell_type": "code",
   "execution_count": 2,
   "metadata": {},
   "outputs": [
    {
     "data": {
      "text/plain": [
       "(('E', 'E'), ('E', 'C'))"
      ]
     },
     "execution_count": 2,
     "metadata": {},
     "output_type": "execute_result"
    }
   ],
   "source": [
    "p1 = Personne(1,'C')\n",
    "p2 = Personne(2,'E')\n",
    "p3 = Personne(3,'E')\n",
    "gadget = Inspecteur()\n",
    "\n",
    "gadget.confrontation(p1, p2), gadget.confrontation(p3, p2),"
   ]
  },
  {
   "cell_type": "markdown",
   "metadata": {},
   "source": [
    "3. Définir une fonction `generer_centre_recherche(n)` retournant une liste représentant un centre de recherche de $n$ personnes (bien relire les conditions) (si possible, faire en sorte que ni les civils ni les espions ne portent pas des n° consécutifs, et qu'ils ne se suivent pas dans la liste ...).\n",
    "\n",
    "   Rappel : la fonction `shuffle` du module `random`permet de mélanger les éléments d'une liste."
   ]
  },
  {
   "cell_type": "code",
   "execution_count": 3,
   "metadata": {},
   "outputs": [],
   "source": [
    "from random import randint,random,shuffle\n",
    "\n",
    "def generer_centre_recherche(n):                \n",
    "    e = randint(1,(n-1)//2)\n",
    "    lettres = ['E']*e + ['C']*(n-e)\n",
    "    shuffle(lettres)\n",
    "    centre_recherche = [Personne(i, lettres[i]) for i in range(n)]\n",
    "    return centre_recherche"
   ]
  },
  {
   "cell_type": "code",
   "execution_count": 4,
   "metadata": {},
   "outputs": [
    {
     "name": "stdout",
     "output_type": "stream",
     "text": [
      "P0 : C\n",
      "P1 : C\n",
      "P2 : C\n",
      "P3 : E\n",
      "P4 : C\n",
      "P5 : C\n",
      "P6 : C\n",
      "P7 : E\n",
      "P8 : E\n",
      "P9 : C\n"
     ]
    }
   ],
   "source": [
    "centre_recherche = generer_centre_recherche(10)\n",
    "for p in centre_recherche:\n",
    "    print(p)"
   ]
  },
  {
   "cell_type": "markdown",
   "metadata": {},
   "source": [
    "## 2. Comment dénicher un civil ?\n",
    "\n",
    "\n",
    "4. En supposant que l'inspecteur a réussi à identifier un civil, expliquer comment il peut identifier tous les espions. \n",
    " \n",
    ">Il suffit de confronter chacune des personnes au civil identifié, et de suivre ses déclarations ce qui nécessite $n - 1 $ confrontations,."
   ]
  },
  {
   "cell_type": "markdown",
   "metadata": {},
   "source": [
    "On se concentre donc maintenant sur le problème d'identifier un civil parmi les $n$ personnes (pour pouvoir identifier ensuite tous les espions).  \n",
    "\n",
    "Nous allons étudier deux méthodes pour ce faire."
   ]
  },
  {
   "cell_type": "markdown",
   "metadata": {},
   "source": [
    "### 2.1. Première méthode : approche naïve.\n",
    "\n",
    "5.\tImaginons un centre de recherche de 6 personnes (A, B, C, D, E et F) où les confrontations de A avec les autres ont donné les résultats suivants (les réponses de A étant sans importance): \n",
    "                                 \n",
    "                                 ('?','C'), ('?','E'), ('?','C'), ('?','E') et ('?','C'). \n",
    "\n",
    "    a. Combien y a-t-il au moins de civils dans ce centre ?\n",
    "> Comme le centre de recherche comporte plus de civils que d'espions, il y a au moins 4 civils dans ce centre.\n",
    "\n",
    "   b. A est-il un civil ou un espion ?   \n",
    ">Il y a donc au moins 3 civils parmi les 5 personnes B, C, D, E et F; les civils sont donc majoriatires et comme ils disent la vérité le statut de A est la réponse la plus fréquente (3 civils contre 2 espions) lors des confrontations de A avec les autres donc A est un civil.\n",
    "\n",
    "   c. Et en enlevant F du centre, la réponse serait-elle la même ?\n",
    ">Dans ce cas le centre comporterait 5 personnes dont au moins 3 civils; il y a donc au moins 2 civils parmi les 4 personnes B, C, D et E donc le statut de A sera donné correctement au moins par 2. Donc si un statut est majoritaire, c'est celui de A et s'il y a égalité (ce qui est le cas dans notre exemple), si A était un espion, les civils seraient majoritaires parmi B, C, D et E donc il n'y aurait pas égalité donc dans ce cas A est forcément un civil. \n",
    ">Donc finalement, A serait un civil.\n"
   ]
  },
  {
   "cell_type": "markdown",
   "metadata": {},
   "source": [
    "6. Expliquer dans le cas général comment déterminer si une personne est un civil ou un espion."
   ]
  },
  {
   "cell_type": "markdown",
   "metadata": {},
   "source": [
    ">Il suffit donc de confronter cette personne aux $n - 1$ autres personnes. \n",
    ">Si au moins la moitié des personnes déclarent que c'est un civil, on peut conclure que c'est bien un civil et dans le cas contraire c'est un espion. "
   ]
  },
  {
   "cell_type": "markdown",
   "metadata": {},
   "source": [
    "7. \n",
    "   a. Ecrire une fonction `statut(centre,i)` qui prend en argument un centre et l'indice d'une personne et renvoie le statut de cette personne (après l'avoir confrontée aux autres). Tester."
   ]
  },
  {
   "cell_type": "code",
   "execution_count": 5,
   "metadata": {},
   "outputs": [],
   "source": [
    "def statut(centre,i):\n",
    "    n = len(centre)\n",
    "    ## on confronte la personne aux autres\n",
    "    confrontations = []\n",
    "    personne = centre[i]\n",
    "    inspecteur = Inspecteur()\n",
    "    for j in range(n):\n",
    "        if j != i:\n",
    "            confrontations.append(inspecteur.confrontation(personne, centre[j]))\n",
    "    # on dépouille résultats\n",
    "    c,e = 0,0\n",
    "    for confrontation in confrontations:\n",
    "        if confrontation[1] == 'C' : c+=1\n",
    "        else : e += 1\n",
    "    if c >= e : return 'C'\n",
    "    else : return 'E'"
   ]
  },
  {
   "cell_type": "code",
   "execution_count": 6,
   "metadata": {},
   "outputs": [
    {
     "name": "stdout",
     "output_type": "stream",
     "text": [
      "P0 : C et identifié comme un C\n",
      "P1 : E et identifié comme un E\n",
      "P2 : C et identifié comme un C\n",
      "P3 : E et identifié comme un E\n",
      "P4 : C et identifié comme un C\n",
      "P5 : C et identifié comme un C\n",
      "P6 : C et identifié comme un C\n",
      "P7 : E et identifié comme un E\n",
      "P8 : C et identifié comme un C\n",
      "P9 : C et identifié comme un C\n"
     ]
    }
   ],
   "source": [
    "centre_recherche = generer_centre_recherche(10)\n",
    "for i in range(len(centre_recherche)):\n",
    "    print(centre_recherche[i],end=' ')\n",
    "    print('et identifié comme un',statut(centre_recherche,i))"
   ]
  },
  {
   "cell_type": "markdown",
   "metadata": {},
   "source": [
    "   b. Ecrire une fonction `trouve_civil(centre)` qui permet de trouver un civil dans le centre. Tester."
   ]
  },
  {
   "cell_type": "code",
   "execution_count": 7,
   "metadata": {},
   "outputs": [],
   "source": [
    "def trouve_civil1(centre):\n",
    "    n = len(centre)\n",
    "    i = 0\n",
    "    while statut(centre,i) == 'E' and i < n:\n",
    "        i += 1\n",
    "    return centre[i]"
   ]
  },
  {
   "cell_type": "code",
   "execution_count": 8,
   "metadata": {},
   "outputs": [
    {
     "name": "stdout",
     "output_type": "stream",
     "text": [
      "P0 : E\n",
      "P1 : E\n",
      "P2 : E\n",
      "P3 : C\n",
      "P4 : C\n",
      "P5 : C\n",
      "P6 : E\n",
      "P7 : C\n",
      "P8 : C\n",
      "P9 : C\n",
      "\n",
      "P3 : C\n"
     ]
    }
   ],
   "source": [
    "centre_recherche = generer_centre_recherche(10)\n",
    "for i in range(len(centre_recherche)):\n",
    "    print(centre_recherche[i])\n",
    "print()\n",
    "print(trouve_civil1(centre_recherche))"
   ]
  },
  {
   "cell_type": "markdown",
   "metadata": {},
   "source": [
    "8.\tCombien faut-il dans le pire des cas organiser de confrontations pour parvenir à identifier tous les espions d'un centre de $n$ personnes avc cette méthode ?\n",
    "\n",
    ">La fonction `status` néccesite $n-1$ confrontations et la fonction `trouve_civil` appelera au plus $\\frac{n}{2} $ fois la fonction `status` pour trouver un civil donc il faut au plus $\\frac{n(n-1)}{2}$ confrontations pour parvenir à trouver un civil (donc compléxité quadratique)."
   ]
  },
  {
   "cell_type": "markdown",
   "metadata": {},
   "source": [
    "### 2.2. Deuxième méthode : approche diviser pour régner.\n",
    "\n",
    "On considère maintenant l'algorithme suivant (**pour trouver un civil**) :\n",
    "-\tSi n = 1 ou n = 2, toutes les personnes sont des civils (puisqu'il y a strictement plus de civils que d'espions).\n",
    "-\tSi n est impair, on choisit au hasard une personne, et on utilise la méthode de la question 2 pour déterminer si cette personne est un civil ou un espion :\n",
    "   *\tSi c'est un civil, on a résolu le problème.\n",
    "   *\tSinon, on élimine cette personne. On résout alors récursivement le problème pour les n-1 personnes restantes, sachant que n-1 est pair.\n",
    "-\tSi n est pair, on sépare les personnes en deux files de m = n/2 personnes, et on fait se confronter les premiers de chaque file, puis les deux seconds et ainsi de suite. Pour chaque confrontation :\n",
    "   *\tSi les deux personnes se déclarent l'une l'autre comme civil, on en élimine une des deux.\n",
    "   *\tSinon, on élimine les deux.\n",
    "   \n",
    "  Une fois les $m$ confrontations réalisées, on résout récursivement le problème pour les personnes restantes (remarquons qu'il y en a au plus $m$ donc on aura diviser la taille du problème au moins par 2).\n",
    "\n",
    "Lors d'un appel récursif de la méthode diviser pour régner, notons P l'ensemble initial de personnes et P' l'ensemble de personnes qui n'ont pas été éliminées. On sait qu'il y a strictement plus de civils que d'espions dans P. Pour montrer que l'algorithme est correct, on va montrer qu'il y a toujours strictement plus de civils que d'espions dans P'."
   ]
  },
  {
   "cell_type": "markdown",
   "metadata": {},
   "source": [
    "9.\tSoit $n$ le nombre de personnes dans P. On suppose que $n$ est impair, et que la personne choisie au hasard n'est pas un civil. \n",
    "\n",
    "   Expliquer pourquoi il y a plus de civils que d'espions dans P'.\n",
    "   \n",
    ">On a seulement éliminé une personne en sachant que c'était un espion, on a donc réduit le nombre d'espions, sans changer celui de civils, et on a donc toujours plus de civils que d'espions !\n",
    "\n",
    "On suppose dans la question qui suit que le nombre n de personnes dans P est pair, et on considère l'ensemble des m = n/2 confrontations induites par les deux files (les confrontations entre deux personnes au même rang dans les files). \n",
    "\n",
    "Soit :\n",
    "-\t*ee* le nombre de confrontations dans lesquelles deux espions s'affrontent (on parle ici du vrai statut des personnes, et non des déclarations),\n",
    "-\t*cc* le nombre de confrontations dans lesquelles deux civils s'affrontent,\n",
    "-\t*ce* le nombre de confrontations dans lesquelles un civil et un espion s'affrontent.\n",
    "\n",
    "On a bien sûr *ee + cc + ce = m*. \n",
    "\n",
    "Etant donné un ensemble X de personnes, on notera c(X) le nombre de civils dans X, et e(X) le nombre d'espions dans X.\n",
    "\n",
    "10.\tL'objet de la question est de montrer qu'il y a nécessairement plus de civils que d'espions dans P'.\n",
    "  \n",
    "     a.\tDonner l'expression de e(P) en fonction de *ce* et *ee*, et l'expression de c(P) en fonction de *ce* et *cc*.\n",
    ">On a c(P) = 2cc + ce et e(P) = 2ee + ce.\n",
    "   \n",
    "   b. Montrer que cc > ee.\n",
    ">On sait que c(P) = 2cc +ce et e(P) = 2ee +ce. \n",
    ">Or on sait aussi que c(P) > e(P) donc 2cc + ce > 2ee + ce d'où cc > ee.\n",
    "   \n",
    "   c.\tMontrer que c(P') > e(P').\n",
    ">On a c(P') = cc et e(P') ≤ ee (on garde un espion par confrontation entre espions qui se déclarent mutuellement civils). \n",
    ">Donc, puisque cc > ee, c(P') > e(P')."
   ]
  },
  {
   "cell_type": "markdown",
   "metadata": {},
   "source": [
    "Les questions 9 et 10 prouvent que s’il y a plus de civils que d'espions dans P, alors cela restera vrai dans P'. Ainsi, lorsqu'il ne restera plus qu'une ou deux personnes dans P', ces personnes seront bien des civils. Cet algorithme est donc bien valide."
   ]
  },
  {
   "cell_type": "markdown",
   "metadata": {},
   "source": [
    "11.   \n",
    "\n",
    "a. Ecrire une fonction `elimination(f1,f2)` qui prend en arguments deux files (en fait deux listes) de personnes et renvoie l'ensemble des personnes sélectionnées après confrontation 2 à 2 des personnes selon le protocole décrit précédemment."
   ]
  },
  {
   "cell_type": "code",
   "execution_count": 19,
   "metadata": {},
   "outputs": [],
   "source": [
    "def elimination(f1,f2):\n",
    "    m = len(f1)\n",
    "    reste = []\n",
    "    inspecteur = Inspecteur()\n",
    "    for i in range(m):\n",
    "        p1,p2 = f1[i],f2[i]\n",
    "        if inspecteur.confrontation(p1, p2) == ('C','C'):\n",
    "            reste.append(f1[i] if random() < 0.5 else f2[i])\n",
    "    return reste"
   ]
  },
  {
   "cell_type": "markdown",
   "metadata": {},
   "source": [
    "b. Ecrire une fonction `trouve_civil(centre)` qui permet de trouver un civil dans le centre en appliquant la méthode décrite précédemment.\n",
    "      "
   ]
  },
  {
   "cell_type": "code",
   "execution_count": 20,
   "metadata": {},
   "outputs": [],
   "source": [
    "def trouve_civil2(centre):\n",
    "    n = len(centre)\n",
    "    if n <= 2: # dans ce cas que des civils\n",
    "        return centre[randint(0,n-1)] # on renvoie un civil au hasard\n",
    "    elif n%2 == 1: # cas impair\n",
    "        i = randint(0,n-1)\n",
    "        if statut(centre,i) == 'C':\n",
    "            return centre[i]\n",
    "        else :\n",
    "            centre_aux = centre[:]\n",
    "            del centre_aux[i]\n",
    "            return trouve_civil2(centre_aux)\n",
    "    else: # cas pair\n",
    "        m = n//2\n",
    "        f1,f2 = centre[:m],centre[m:]\n",
    "        centre_aux = elimination(f1,f2)\n",
    "        return trouve_civil2(centre_aux)"
   ]
  },
  {
   "cell_type": "code",
   "execution_count": 21,
   "metadata": {},
   "outputs": [
    {
     "name": "stdout",
     "output_type": "stream",
     "text": [
      "P0 : E\n",
      "P1 : C\n",
      "P2 : E\n",
      "P3 : C\n",
      "P4 : E\n",
      "P5 : C\n",
      "P6 : C\n",
      "P7 : C\n",
      "P8 : C\n",
      "P9 : E\n",
      "P10 : E\n",
      "\n",
      "P1 : C\n"
     ]
    }
   ],
   "source": [
    "centre_recherche = generer_centre_recherche(11)\n",
    "for i in range(len(centre_recherche)):\n",
    "    print(centre_recherche[i])\n",
    "print()\n",
    "print(trouve_civil2(centre_recherche))"
   ]
  },
  {
   "cell_type": "markdown",
   "metadata": {},
   "source": [
    "## 3. Et maintenant débusquons les espions !\n",
    "\n",
    "\n",
    "\n",
    "12. Ecrire enfin une fonction `debusque_espions(centre)` qui permet de trouver les espions se cachant dans le centre.\n",
    "\n",
    "    Proposer 2 versions : une utilisant la première version de `trouve_civil` et une autre la deuxième version.\n",
    "\n",
    " "
   ]
  },
  {
   "cell_type": "code",
   "execution_count": 22,
   "metadata": {},
   "outputs": [],
   "source": [
    "def debusque_espions1(centre):\n",
    "    n = len(centre)\n",
    "    espions = []\n",
    "    inspecteur = Inspecteur()\n",
    "    civil = trouve_civil1(centre)\n",
    "    for j in range(n):\n",
    "        if inspecteur.confrontation(civil, centre[j])[0] == 'E':\n",
    "            espions.append(j)\n",
    "    return espions"
   ]
  },
  {
   "cell_type": "code",
   "execution_count": 23,
   "metadata": {},
   "outputs": [],
   "source": [
    "def debusque_espions2(centre):\n",
    "    n = len(centre)\n",
    "    espions = []\n",
    "    inspecteur = Inspecteur()\n",
    "    civil = trouve_civil2(centre)\n",
    "    for j in range(n):\n",
    "        if inspecteur.confrontation(civil, centre[j])[0] == 'E':\n",
    "            espions.append(j)\n",
    "    return espions"
   ]
  },
  {
   "cell_type": "code",
   "execution_count": 26,
   "metadata": {},
   "outputs": [
    {
     "name": "stdout",
     "output_type": "stream",
     "text": [
      "Voici le centre : \n",
      "P0 : E\n",
      "P1 : C\n",
      "P2 : C\n",
      "P3 : C\n",
      "P4 : C\n",
      "P5 : C\n",
      "P6 : E\n",
      "P7 : C\n",
      "P8 : E\n",
      "P9 : E\n",
      "P10 : C\n",
      "P11 : C\n",
      "P12 : C\n",
      "P13 : E\n",
      "P14 : C\n",
      "\n",
      "Voici (avec la première méthode) démasqués les 5 espion(s) qui se dissimulai(en)t dans ce centre : \n",
      "P0 : E\n",
      "P6 : E\n",
      "P8 : E\n",
      "P9 : E\n",
      "P13 : E\n",
      "\n",
      "Voici (avec la deuxième méthode) démasqués les 5 espion(s) qui se dissimulai(en)t dans ce centre : \n",
      "P0 : E\n",
      "P6 : E\n",
      "P8 : E\n",
      "P9 : E\n",
      "P13 : E\n",
      "\n"
     ]
    }
   ],
   "source": [
    "print('Voici le centre : ')\n",
    "n = 15\n",
    "centre_recherche = generer_centre_recherche(n)\n",
    "for i in range(len(centre_recherche)):\n",
    "    print(centre_recherche[i])\n",
    "print()\n",
    "espions = debusque_espions2(centre_recherche)   \n",
    "print('Voici (avec la première méthode) démasqués les',len(espions),'espion(s) qui se dissimulai(en)t dans ce centre : ')\n",
    "for i in range(len(espions)):\n",
    "    print(centre_recherche[espions[i]])\n",
    "print()\n",
    "espions = debusque_espions2(centre_recherche)   \n",
    "print('Voici (avec la deuxième méthode) démasqués les',len(espions),'espion(s) qui se dissimulai(en)t dans ce centre : ')\n",
    "for i in range(len(espions)):\n",
    "    print(centre_recherche[espions[i]])\n",
    "print()"
   ]
  },
  {
   "cell_type": "markdown",
   "metadata": {},
   "source": [
    "##### 4. Comparaison des 2 méthodes (pour `trouve_civil`)  en terme de complexité\n",
    "\n",
    "13.\tFaire tourner le code ci-desous (si attente trop longue, remplacer 7 par 6 ...). Que peut-on en déduire ?"
   ]
  },
  {
   "cell_type": "code",
   "execution_count": 28,
   "metadata": {},
   "outputs": [
    {
     "name": "stdout",
     "output_type": "stream",
     "text": [
      "n = 10 : méthode naive: 4.999999998744897e-05 - méthode diviser pour régner: 3.0599999945479794e-05\n",
      "n = 100 : méthode naive: 0.00017969999998967978 - méthode diviser pour régner: 0.0001750999999785563\n",
      "n = 1000 : méthode naive: 0.0018019000000322194 - méthode diviser pour régner: 0.0015481000000363565\n",
      "n = 10000 : méthode naive: 0.01919050000003608 - méthode diviser pour régner: 0.011518000000023676\n",
      "n = 100000 : méthode naive: 0.3607407999999168 - méthode diviser pour régner: 0.20370690000004288\n",
      "n = 1000000 : méthode naive: 7.787799199999995 - méthode diviser pour régner: 1.6351859000000104\n"
     ]
    }
   ],
   "source": [
    "from time import perf_counter\n",
    "\n",
    "for i in range(1,7):\n",
    "    n = 10**i\n",
    "    centre_recherche = generer_centre_recherche(n)\n",
    "    top1 = perf_counter()\n",
    "    trouve_civil1(centre_recherche)  \n",
    "    top2 = perf_counter()\n",
    "    trouve_civil2(centre_recherche)  \n",
    "    top3 = perf_counter()\n",
    "    print('n = {} : méthode naive: {} - méthode diviser pour régner: {}'.format(n,top2-top1,top3-top2))"
   ]
  },
  {
   "cell_type": "markdown",
   "metadata": {},
   "source": [
    "On constate que le deuxième algorithme est un peu plus efficace (plus rapide) que le premier.\n",
    "\n",
    "On peut prouver - mais ça dépasse le cadre de ce cours que le deuxième a - en terme de confrontations - une complexité en $O(n)$  donc linéaire alors que le premier, comme nous l'avons vu, a une complexité en $O(n^2)$ ie quadratique."
   ]
  }
 ],
 "metadata": {
  "kernelspec": {
   "display_name": "Python 3",
   "language": "python",
   "name": "python3"
  },
  "language_info": {
   "codemirror_mode": {
    "name": "ipython",
    "version": 3
   },
   "file_extension": ".py",
   "mimetype": "text/x-python",
   "name": "python",
   "nbconvert_exporter": "python",
   "pygments_lexer": "ipython3",
   "version": "3.8.3"
  }
 },
 "nbformat": 4,
 "nbformat_minor": 2
}
