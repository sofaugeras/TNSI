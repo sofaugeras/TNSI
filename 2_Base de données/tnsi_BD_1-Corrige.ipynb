{
 "cells": [
  {
   "cell_type": "markdown",
   "metadata": {},
   "source": [
    "@crédits du cours : olivier lécluse, lycée Salvador Allende"
   ]
  },
  {
   "cell_type": "markdown",
   "metadata": {},
   "source": [
    "# SQL 1/3\n",
    "> Cours NSI Terminale - Thème 2."
   ]
  },
  {
   "cell_type": "markdown",
   "metadata": {},
   "source": [
    "# Découverte du langage SQL"
   ]
  },
  {
   "cell_type": "markdown",
   "metadata": {},
   "source": [
    "Dans ce TP jous allons découvrir le langage SQL (*Structured Query Language*) qui est le langage utilisé pour\n",
    "effectuer des requêtes sur une base de données relationnelles. Nous apprendrons lors de ce TP à\n",
    "- créer des tables avec les attributs que l'on souhaite\n",
    "- insérer des enregistrements\n",
    "- faire des requêtes sur la base pour extraire des informations\n",
    "\n",
    "Contrairement aux apparences, nous n'utiliserons pas Python dans ce classeur, mais directement SQL grâce à l'extension **ipython-sql** qu'il faut activer en ouvrant une console Anaconda prompt et taper les commandes suivantes :"
   ]
  },
  {
   "cell_type": "markdown",
   "metadata": {},
   "source": [
    " ```bash\n",
    "pip install jupyter-sql\n",
    "pip install ipython-sql\n",
    "```\n",
    "puis relancer jupyter."
   ]
  },
  {
   "cell_type": "markdown",
   "metadata": {},
   "source": [
    "On charge le module SQL avec la commande suivante"
   ]
  },
  {
   "cell_type": "code",
   "execution_count": 1,
   "metadata": {},
   "outputs": [],
   "source": [
    "%load_ext sql"
   ]
  },
  {
   "cell_type": "markdown",
   "metadata": {},
   "source": [
    "## Créer la base de données\n",
    "\n",
    "Nous allons commencer par créer une base vide dans laquelle nous allons travailler :\n"
   ]
  },
  {
   "cell_type": "code",
   "execution_count": 2,
   "metadata": {},
   "outputs": [],
   "source": [
    "%sql sqlite:///livres_db"
   ]
  },
  {
   "cell_type": "markdown",
   "metadata": {},
   "source": [
    "La base s'appelle **livres_db** et est au format *sqlite* qui est un gestionnaire de base de données relationnelles léger et facile à prendre en main.\n",
    "\n",
    "Les données seront inscrites dans le fichier **livres_db** qui vient d'être créé à côté de ce classeur et que vous pourrez télécharger quand vous aurez fini ce TP.\n",
    "\n",
    "L'objectif est de peupler cette base de données avec la base **livres** que l'on a étudié lors de la découverte du modèle relationnel. Cette base sera constituée de 4 tables :\n",
    "- Auteurs\n",
    "- Livres\n",
    "- Langues\n",
    "- Themes"
   ]
  },
  {
   "cell_type": "markdown",
   "metadata": {},
   "source": [
    "## Créer une table\n",
    "\n",
    "Il est temps de commencer à peupler notre base de données. Nous allons commencer par créer la table **Langues** en saisissant notre première requête :"
   ]
  },
  {
   "cell_type": "code",
   "execution_count": null,
   "metadata": {},
   "outputs": [],
   "source": [
    "%%sql \n",
    "CREATE TABLE Langues \n",
    "(\n",
    "IdLangue INTEGER  PRIMARY KEY,\n",
    "Langue   TEXT\n",
    ");"
   ]
  },
  {
   "cell_type": "markdown",
   "metadata": {},
   "source": [
    "### Quelques explications :\n",
    "\n",
    "Pour commencer, dans jupyter lorsque nous voulons taper une commande **SQL** et non du langage python. Pour cela, nous inscrirons **en première ligne de cellule** la commande *magique* `%%sql`. N'oubliez jamais de commencer toutes vos cellules ainsi car sinon, la commande sera interprétée par *python* et non *SQL*.\n",
    "\n",
    "La première requête **SQL** que nous allons apprendre est la requête `CREATE TABLE`\n",
    "- on indique le nom de la table à créer\n",
    "- entre parenthèse on liste les *attributs* à mettre ainsi que leur *type*.\n",
    "- une requête se termine **toujours** par ;\n",
    "\n",
    "Nous avons deux types différents dans notre base de données :\n",
    "- le type TEXT pour tout ce qui est chaîne de caractères\n",
    "- le type INTEGER pour les entiers\n",
    "\n",
    "L'attribut **IdLangue** est la *clé primaire* de la table. C'est un entier qui commence à 1 et qui sera automatiquement incrémenté au fur à mesure que l'on insère des données dans la table. C'est en indiquant `PRIMARY KEY` après le type dans la déclaration de l'attribut **IdLangue** que *sqlite* se comporte ainsi."
   ]
  },
  {
   "cell_type": "markdown",
   "metadata": {},
   "source": [
    "## Insérer des enregistrements dans la table\n",
    "\n",
    "Maintenant que nous avons une table vide, il nous faut la remplir avec les données sur les auteurs. Nous utiliserons pour cela la requête **INSERT**. Voici son utilisation :"
   ]
  },
  {
   "cell_type": "code",
   "execution_count": null,
   "metadata": {},
   "outputs": [],
   "source": [
    "%%sql\n",
    "INSERT INTO Langues \n",
    "    (Langue)\n",
    "VALUES\n",
    "    (\"Anglais\"),\n",
    "    (\"Français\");"
   ]
  },
  {
   "cell_type": "markdown",
   "metadata": {},
   "source": [
    "### Quelques explications :\n",
    "\n",
    "La requête **INSERT** s'utilise ainsi :\n",
    "```\n",
    "INSERT INTO ##TABLE##\n",
    "    (## attributs dont on donne les valeurs##)\n",
    "VALUES\n",
    "    (## enregistrement 1 ##),\n",
    "    ...\n",
    "    (## enregistrement n ##);\n",
    "```\n",
    "\n",
    "On peut refaire une autre requête **INSERT** à la suite si on souhaite ajouter encore des données au bout de la table. \n",
    "\n",
    "Vous remarquez que l'on ne donne pas de valeur pour l'attribut **IdLangue**. C'est parce qu'on l'a déclaré en `PRIMARY KEY`. Il est donc automatiquement géré par sqlite. Nous verrons cela en lisant le contenu complet de la table.\n",
    "\n",
    "On est pas obligé de préciser tous les attributs. **IdLangue** est un exemple particulier, mais il est possible d'omettre d'autres attributs. Ils seront alors affectés d'une valeur nulle.\n",
    "\n",
    "A l'issue de la requête, sqlite nous informe que 2 lignes ont été créées."
   ]
  },
  {
   "cell_type": "markdown",
   "metadata": {},
   "source": [
    "## Lire le contenu d'une table\n",
    "\n",
    "Nous allons à présent utiliser une requête **SELECT** afin de récupérer le contenu de la table. Ces requêtes peuvent être très sophistiquées comme on va le voir en fin de TP. Pour le moment, nous nous contenterons de la forme la plus simple :"
   ]
  },
  {
   "cell_type": "markdown",
   "metadata": {},
   "source": [
    "%%sql\n",
    "\n",
    "SELECT * FROM Langues;"
   ]
  },
  {
   "cell_type": "markdown",
   "metadata": {},
   "source": [
    "Vous voyez donc appraître le contenu de la table. Vous constatez que la clé primaire **IdLangue** a bien été générée correctement.\n",
    "\n",
    "Il est possible de stocker le résultat de cette requête dans une variable pour l'exploiter plus facilement dans jupyter. Voici comment procéder en modifiant légèrement la première ligne :"
   ]
  },
  {
   "cell_type": "code",
   "execution_count": 4,
   "metadata": {},
   "outputs": [
    {
     "name": "stdout",
     "output_type": "stream",
     "text": [
      " * sqlite:///livres_db\n",
      "Done.\n"
     ]
    }
   ],
   "source": [
    "resultat = %sql SELECT * FROM Langues;"
   ]
  },
  {
   "cell_type": "markdown",
   "metadata": {},
   "source": [
    "Vous voyez au passage la syntaxe concise permettant de récupérer le résultat d'une requête dans une variable. Cette variable résultat est exploitable dans ce classeur, y compris par python !!\n"
   ]
  },
  {
   "cell_type": "code",
   "execution_count": 5,
   "metadata": {},
   "outputs": [
    {
     "data": {
      "text/html": [
       "<table>\n",
       "    <tr>\n",
       "        <th>IdLangue</th>\n",
       "        <th>Langue</th>\n",
       "    </tr>\n",
       "    <tr>\n",
       "        <td>1</td>\n",
       "        <td>Anglais</td>\n",
       "    </tr>\n",
       "    <tr>\n",
       "        <td>2</td>\n",
       "        <td>Français</td>\n",
       "    </tr>\n",
       "</table>"
      ],
      "text/plain": [
       "[(1, 'Anglais'), (2, 'Français')]"
      ]
     },
     "execution_count": 5,
     "metadata": {},
     "output_type": "execute_result"
    }
   ],
   "source": [
    "resultat"
   ]
  },
  {
   "cell_type": "code",
   "execution_count": 6,
   "metadata": {},
   "outputs": [
    {
     "name": "stdout",
     "output_type": "stream",
     "text": [
      "+----------+----------+\n",
      "| IdLangue |  Langue  |\n",
      "+----------+----------+\n",
      "|    1     | Anglais  |\n",
      "|    2     | Français |\n",
      "+----------+----------+\n"
     ]
    }
   ],
   "source": [
    "print(resultat)"
   ]
  },
  {
   "cell_type": "markdown",
   "metadata": {},
   "source": [
    "Quel est le type de 'resultat' ?"
   ]
  },
  {
   "cell_type": "code",
   "execution_count": null,
   "metadata": {},
   "outputs": [],
   "source": [
    "resultat[1]"
   ]
  },
  {
   "cell_type": "markdown",
   "metadata": {},
   "source": [
    "On a donc ici le meilleur des deux mondes : des requêtes **SQL** et une base de données pour stocker efficacement les données, le langage python pour traiter ces données grâce à des algorithmes faciles à écrire."
   ]
  },
  {
   "cell_type": "markdown",
   "metadata": {},
   "source": [
    "## A vous de jouer\n",
    "\n",
    "Créez la table Auteurs afin que celle-ci reflète les informations suivantes :\n",
    "\n",
    "|   Nom    |    Prenom    | annee naissance |  langue  |\n",
    "|----------|--------------|-----------|----------|\n",
    "|  Orwell  |    George    |    1903   | Anglais  |\n",
    "| Herbert  |    Frank     |    1920   | Anglais  | \n",
    "|  Asimov  |    Isaac     |    1920   | Anglais  |\n",
    "|  Huxley  |    Aldous    |    1894   | Anglais  |  \n",
    "| Bradbury |     Ray      |    1920   | Anglais  | \n",
    "| K. Dick  |    Philip    |    1928   | Anglais  |  \n",
    "| Barjavel |     René     |    1911   | Français | \n",
    "|  Boulle  |    Pierre    |    1912   | Français |  \n",
    "| Van Vogt | Alfred Elton |    1912   | Anglais  | \n",
    "|  Verne   |    Jules     |    1828   | Français |  \n",
    "\n",
    "Pour cela, vous utiliserez la commande suivante pour créer la table et vous adapterez les données à cette structure."
   ]
  },
  {
   "cell_type": "code",
   "execution_count": 7,
   "metadata": {},
   "outputs": [
    {
     "name": "stdout",
     "output_type": "stream",
     "text": [
      " * sqlite:///livres_db\n",
      "Done.\n"
     ]
    },
    {
     "data": {
      "text/plain": [
       "[]"
      ]
     },
     "execution_count": 7,
     "metadata": {},
     "output_type": "execute_result"
    }
   ],
   "source": [
    "%%sql \n",
    "CREATE TABLE Auteurs (\n",
    "    IdAuteur       INTEGER  PRIMARY KEY,\n",
    "    NomAuteur      TEXT,\n",
    "    PrenomAuteur   TEXT,\n",
    "    IdLangue       INTEGER,\n",
    "    AnneeNaissance INTEGER,\n",
    "    FOREIGN KEY(IdLangue) REFERENCES Langues(IdLangue)\n",
    ");"
   ]
  },
  {
   "cell_type": "markdown",
   "metadata": {},
   "source": [
    "Une nouveauté apparaît ici dans la création de la table : La table **Auteurs** possède une *clé étangère* : *IdLangue*. Cette clé est un entier.\n",
    "\n",
    "Remarquez la ligne `FOREIGN KEY(IdLangue) REFERENCES Langues(IdLangue)`. Celle-ci permet de déclarer une *contrainte* sur cette clé afin d'indiquer à SQLite que *IdLangue* est une clé étrangère. SQLite sera alors responsable de maintenir la cohérence entre les deux tables que l'on a ainsi reliée.\n",
    "\n",
    "Cette déclaration n'est pas obligatoire mais fortement conseillée."
   ]
  },
  {
   "cell_type": "code",
   "execution_count": 9,
   "metadata": {},
   "outputs": [
    {
     "name": "stdout",
     "output_type": "stream",
     "text": [
      " * sqlite:///livres_db\n",
      "10 rows affected.\n"
     ]
    },
    {
     "data": {
      "text/plain": [
       "[]"
      ]
     },
     "execution_count": 9,
     "metadata": {},
     "output_type": "execute_result"
    }
   ],
   "source": [
    "%%sql \n",
    "\n",
    "INSERT INTO Auteurs  (NomAuteur,PrenomAuteur,AnneeNaissance,IdLangue)\n",
    "VALUES \n",
    "(\"Orwell\",\"George\" ,1903 ,1),\n",
    "(\"Herbert\",\"Frank\" ,1920 ,1),\n",
    "(\"Asimov\",\"Isaac\",1920 ,1),\n",
    "(\"Huxley\",\"Aldous\" ,1894 ,1),\n",
    "(\"Bradbury\",\"Ray\" ,1920 ,1),\n",
    "(\"K. Dick\",\"Philip\",1928 ,1),\n",
    "(\"Barjavel\",\"René\",1911 ,2),\n",
    "(\"Boulle\",\"Pierre\",1912 ,2),\n",
    "(\"Van Vogt\",\"Alfred Elton\",1912 ,1),\n",
    "(\"Verne\",\"Jules\",1828 ,2)\n"
   ]
  },
  {
   "cell_type": "code",
   "execution_count": 11,
   "metadata": {},
   "outputs": [
    {
     "name": "stdout",
     "output_type": "stream",
     "text": [
      " * sqlite:///livres_db\n",
      "Done.\n"
     ]
    },
    {
     "data": {
      "text/html": [
       "<table>\n",
       "    <tr>\n",
       "        <th>IdAuteur</th>\n",
       "        <th>NomAuteur</th>\n",
       "        <th>PrenomAuteur</th>\n",
       "        <th>IdLangue</th>\n",
       "        <th>AnneeNaissance</th>\n",
       "    </tr>\n",
       "    <tr>\n",
       "        <td>1</td>\n",
       "        <td>Orwell</td>\n",
       "        <td>George</td>\n",
       "        <td>1</td>\n",
       "        <td>1903</td>\n",
       "    </tr>\n",
       "    <tr>\n",
       "        <td>2</td>\n",
       "        <td>Herbert</td>\n",
       "        <td>Frank</td>\n",
       "        <td>1</td>\n",
       "        <td>1920</td>\n",
       "    </tr>\n",
       "    <tr>\n",
       "        <td>3</td>\n",
       "        <td>Asimov</td>\n",
       "        <td>Isaac</td>\n",
       "        <td>1</td>\n",
       "        <td>1920</td>\n",
       "    </tr>\n",
       "    <tr>\n",
       "        <td>4</td>\n",
       "        <td>Huxley</td>\n",
       "        <td>Aldous</td>\n",
       "        <td>1</td>\n",
       "        <td>1894</td>\n",
       "    </tr>\n",
       "    <tr>\n",
       "        <td>5</td>\n",
       "        <td>Bradbury</td>\n",
       "        <td>Ray</td>\n",
       "        <td>1</td>\n",
       "        <td>1920</td>\n",
       "    </tr>\n",
       "    <tr>\n",
       "        <td>6</td>\n",
       "        <td>K. Dick</td>\n",
       "        <td>Philip</td>\n",
       "        <td>1</td>\n",
       "        <td>1928</td>\n",
       "    </tr>\n",
       "    <tr>\n",
       "        <td>7</td>\n",
       "        <td>Barjavel</td>\n",
       "        <td>René</td>\n",
       "        <td>2</td>\n",
       "        <td>1911</td>\n",
       "    </tr>\n",
       "    <tr>\n",
       "        <td>8</td>\n",
       "        <td>Boulle</td>\n",
       "        <td>Pierre</td>\n",
       "        <td>2</td>\n",
       "        <td>1912</td>\n",
       "    </tr>\n",
       "    <tr>\n",
       "        <td>9</td>\n",
       "        <td>Van Vogt</td>\n",
       "        <td>Alfred Elton</td>\n",
       "        <td>1</td>\n",
       "        <td>1912</td>\n",
       "    </tr>\n",
       "    <tr>\n",
       "        <td>10</td>\n",
       "        <td>Verne</td>\n",
       "        <td>Jules</td>\n",
       "        <td>1</td>\n",
       "        <td>1828</td>\n",
       "    </tr>\n",
       "</table>"
      ],
      "text/plain": [
       "[(1, 'Orwell', 'George', 1, 1903),\n",
       " (2, 'Herbert', 'Frank', 1, 1920),\n",
       " (3, 'Asimov', 'Isaac', 1, 1920),\n",
       " (4, 'Huxley', 'Aldous', 1, 1894),\n",
       " (5, 'Bradbury', 'Ray', 1, 1920),\n",
       " (6, 'K. Dick', 'Philip', 1, 1928),\n",
       " (7, 'Barjavel', 'René', 2, 1911),\n",
       " (8, 'Boulle', 'Pierre', 2, 1912),\n",
       " (9, 'Van Vogt', 'Alfred Elton', 1, 1912),\n",
       " (10, 'Verne', 'Jules', 1, 1828)]"
      ]
     },
     "execution_count": 11,
     "metadata": {},
     "output_type": "execute_result"
    }
   ],
   "source": [
    "%sql SELECT * FROM Auteurs;"
   ]
  },
  {
   "cell_type": "markdown",
   "metadata": {},
   "source": [
    "## A vous de jouer\n",
    "\n",
    "Notre base n'est pas encore complète : il nous reste à créer les tables **Livres** et **Themes** qui doivent refléter le contenu suivant :\n",
    "\n",
    "|           Titre           |   NomAuteur    |    PrenomAuteur    | AnneeNaissance |  Langue  | AnneePubli | Themes |\n",
    "|---------------------------|----------|--------------|-----------|----------|-----------|------|\n",
    "|            1984           |  Orwell  |    George    |    1903   | Anglais  |    1949   |  Totalitarisme, science-fiction, anticipation, Dystopie  |\n",
    "|            Dune           | Herbert  |    Frank     |    1920   | Anglais  |    1965   | science-fiction, anticipation   |\n",
    "|         Fondation         |  Asimov  |    Isaac     |    1920   | Anglais  |    1951   |  science-fiction, Economie  |\n",
    "|   Le meilleur des mondes  |  Huxley  |    Aldous    |    1894   | Anglais  |    1931   |  Totalitarisme, science fiction, dystopie   |\n",
    "|       Fahrenheit 451      | Bradbury |     Ray      |    1920   | Anglais  |    1953   |   \tscience-fiction, Dystopie  |\n",
    "|            Ubik           | K. Dick  |    Philip    |    1928   | Anglais  |    1969   |  \tscience-fiction, anticipation   |\n",
    "|   Chroniques martiennes   | Bradbury |     Ray      |    1920   | Anglais  |    1950   |   \tscience-fiction, anticipation   |\n",
    "|     La nuit des temps     | Barjavel |     René     |    1911   | Français |    1968   |   \tscience-fiction, tragédie   |\n",
    "|        Blade Runner       | K. Dick  |    Philip    |    1928   | Anglais  |    1968   |   \tIntelligence artificielle, science fiction  |\n",
    "|         Les Robots        |  Asimov  |    Isaac     |    1920   | Anglais  |    1950   |  science fiction, Intelligence artificielle   |\n",
    "|   La Planète des singes   |  Boulle  |    Pierre    |    1912   | Français |    1963   |   \tscience fiction, Dystopie   |\n",
    "|           Ravage          | Barjavel |     René     |    1911   | Français |    1943   |  Science-Fiction, anticipation   |\n",
    "| Le Maître du Haut Château | K. Dick  |    Philip    |    1928   | Anglais  |    1962   |   \tDystopie, Uchronie  |\n",
    "|       Le monde des A      | Van Vogt | Alfred Elton |    1912   | Anglais  |    1945   |   \tscience fiction, IA   |\n",
    "|    La Fin de l’éternité   |  Asimov  |    Isaac     |    1920   | Anglais  |    1955   |  science-fiction, voyage dans le temps  |\n",
    "|   De la Terre à la Lune   |  Verne   |    Jules     |    1828   | Français |    1865   |   \tScience-Fiction, aventure  |\n",
    "\n",
    "### La table LIVRES\n",
    "\n",
    "La table **LIVRES** devra avoir la structure décrite dans l'extrait suivant :\n",
    "\n",
    "| IdLivre |           Titre           | IdAuteur | AnneePubli |\n",
    "|----|---------------------------|-----------|-----------|\n",
    "| ...  |            ...          |     ...     |    ...   |\n",
    "| 8  |     La nuit des temps     |     7     |    1968   |\n",
    "| ...  |            ...          |     ...     |    ...   |\n",
    "\n",
    "- l'année de publication est de type **INTEGER**\n",
    "- **IdLivre** désigne bien sûr la clé primaire\n",
    "- **IdAuteur** est une *clé externe* faisant référence à l'auteur.\n",
    "- dans l'extrait, la clé **IdAuteur** vaut 7. L'auteur de *La nuit des temps* est donc *Barjavel*\n",
    "- on ne renseigne pas la langue ou l'année de naissance de l'auteur car ces informations sont déjà présentes dans la table **Auteurs**.\n",
    "- On traitera la problématique des thèmes plus tard...\n",
    "\n",
    "Dans la cellule ci-dessous, saisissez la requête pour créer la table **Livres**"
   ]
  },
  {
   "cell_type": "code",
   "execution_count": 10,
   "metadata": {},
   "outputs": [
    {
     "name": "stdout",
     "output_type": "stream",
     "text": [
      " * sqlite:///livres_db\n",
      "Done.\n"
     ]
    },
    {
     "data": {
      "text/plain": [
       "[]"
      ]
     },
     "execution_count": 10,
     "metadata": {},
     "output_type": "execute_result"
    }
   ],
   "source": [
    "%%sql \n",
    "CREATE TABLE livres (\n",
    "    IdLivre        INTEGER PRIMARY KEY,\n",
    "    Titre          TEXT,\n",
    "    IdAuteur       INTEGER,\n",
    "    AnneePubli     INTEGER,\n",
    "    FOREIGN KEY(IdAuteur) REFERENCES Auteurs(IdAuteur)\n",
    ");"
   ]
  },
  {
   "cell_type": "markdown",
   "metadata": {},
   "source": [
    "A présent, saisissez les données à l'intérieur de la table."
   ]
  },
  {
   "cell_type": "code",
   "execution_count": 51,
   "metadata": {},
   "outputs": [
    {
     "name": "stdout",
     "output_type": "stream",
     "text": [
      " * sqlite:///livres_db\n",
      "16 rows affected.\n"
     ]
    },
    {
     "data": {
      "text/plain": [
       "[]"
      ]
     },
     "execution_count": 51,
     "metadata": {},
     "output_type": "execute_result"
    }
   ],
   "source": [
    "%%sql\n",
    "INSERT INTO Livres (Titre,IdAuteur, AnneePubli)\n",
    "VALUES \n",
    "(\"1984\", 1 ,1949 ),\n",
    "(\"Dune\", 2 ,1965 ),\n",
    "(\"Fondation\",3,1951),\n",
    "(\"Le meilleur des mondes\" ,4 ,1931 ),\n",
    "(\"Fahrenheit 451\",5 ,1953 ),\n",
    "(\"Ubik\",6,1969 ),\n",
    "(\"Chroniques martiennes\",5,1950),\n",
    "(\"La nuit des temps\",7,1968 ),\n",
    "(\"Blade Runner\",6,1968 ),\n",
    "(\"Les Robots\" ,3 ,1950 ),\n",
    "(\"La Planète des singes\" ,8 ,1963 ),\n",
    "(\"Ravage\" ,7,1943),\n",
    "(\"Le Maître du Haut Château\" ,6 ,1962 ),\n",
    "(\"Le monde des A\" ,9 ,1945 ),\n",
    "(\"La Fin de l’éternité\" ,3,1955 ),\n",
    "(\"De la Terre à la Lune\" ,10,1865 )"
   ]
  },
  {
   "cell_type": "markdown",
   "metadata": {},
   "source": [
    "Vérifiez votre travail en listant tous les enregistrements de la table **LIVRES** dans la variable `resultat`"
   ]
  },
  {
   "cell_type": "code",
   "execution_count": 16,
   "metadata": {},
   "outputs": [
    {
     "name": "stdout",
     "output_type": "stream",
     "text": [
      " * sqlite:///livres_db\n",
      "Done.\n"
     ]
    },
    {
     "data": {
      "text/html": [
       "<table>\n",
       "    <tr>\n",
       "        <th>IdLivre</th>\n",
       "        <th>Titre</th>\n",
       "        <th>IdAuteur</th>\n",
       "        <th>AnneePubli</th>\n",
       "    </tr>\n",
       "    <tr>\n",
       "        <td>1</td>\n",
       "        <td>1984</td>\n",
       "        <td>1</td>\n",
       "        <td>1949</td>\n",
       "    </tr>\n",
       "    <tr>\n",
       "        <td>2</td>\n",
       "        <td>Dune</td>\n",
       "        <td>2</td>\n",
       "        <td>1965</td>\n",
       "    </tr>\n",
       "    <tr>\n",
       "        <td>3</td>\n",
       "        <td>Fondation</td>\n",
       "        <td>3</td>\n",
       "        <td>1951</td>\n",
       "    </tr>\n",
       "    <tr>\n",
       "        <td>4</td>\n",
       "        <td>Le meilleur des mondes</td>\n",
       "        <td>4</td>\n",
       "        <td>1931</td>\n",
       "    </tr>\n",
       "    <tr>\n",
       "        <td>5</td>\n",
       "        <td>Fahrenheit 451</td>\n",
       "        <td>5</td>\n",
       "        <td>1953</td>\n",
       "    </tr>\n",
       "    <tr>\n",
       "        <td>6</td>\n",
       "        <td>Ubik</td>\n",
       "        <td>6</td>\n",
       "        <td>1969</td>\n",
       "    </tr>\n",
       "    <tr>\n",
       "        <td>7</td>\n",
       "        <td>Chroniques martiennes</td>\n",
       "        <td>5</td>\n",
       "        <td>1920</td>\n",
       "    </tr>\n",
       "    <tr>\n",
       "        <td>8</td>\n",
       "        <td>La nuit des temps</td>\n",
       "        <td>7</td>\n",
       "        <td>1968</td>\n",
       "    </tr>\n",
       "    <tr>\n",
       "        <td>9</td>\n",
       "        <td>Blade Runner</td>\n",
       "        <td>6</td>\n",
       "        <td>1968</td>\n",
       "    </tr>\n",
       "    <tr>\n",
       "        <td>10</td>\n",
       "        <td>Les Robots</td>\n",
       "        <td>3</td>\n",
       "        <td>1950</td>\n",
       "    </tr>\n",
       "    <tr>\n",
       "        <td>11</td>\n",
       "        <td>La Planète des singes</td>\n",
       "        <td>8</td>\n",
       "        <td>1963</td>\n",
       "    </tr>\n",
       "    <tr>\n",
       "        <td>12</td>\n",
       "        <td>Ravage</td>\n",
       "        <td>7</td>\n",
       "        <td>1911</td>\n",
       "    </tr>\n",
       "    <tr>\n",
       "        <td>13</td>\n",
       "        <td>Le Maître du Haut Château</td>\n",
       "        <td>6</td>\n",
       "        <td>1962</td>\n",
       "    </tr>\n",
       "    <tr>\n",
       "        <td>14</td>\n",
       "        <td>Le monde des A</td>\n",
       "        <td>9</td>\n",
       "        <td>1945</td>\n",
       "    </tr>\n",
       "    <tr>\n",
       "        <td>15</td>\n",
       "        <td>La Fin de l’éternité</td>\n",
       "        <td>3</td>\n",
       "        <td>1955</td>\n",
       "    </tr>\n",
       "    <tr>\n",
       "        <td>16</td>\n",
       "        <td>De la Terre à la Lune</td>\n",
       "        <td>10</td>\n",
       "        <td>1865</td>\n",
       "    </tr>\n",
       "</table>"
      ],
      "text/plain": [
       "[(1, '1984', 1, 1949),\n",
       " (2, 'Dune', 2, 1965),\n",
       " (3, 'Fondation', 3, 1951),\n",
       " (4, 'Le meilleur des mondes', 4, 1931),\n",
       " (5, 'Fahrenheit 451', 5, 1953),\n",
       " (6, 'Ubik', 6, 1969),\n",
       " (7, 'Chroniques martiennes', 5, 1920),\n",
       " (8, 'La nuit des temps', 7, 1968),\n",
       " (9, 'Blade Runner', 6, 1968),\n",
       " (10, 'Les Robots', 3, 1950),\n",
       " (11, 'La Planète des singes', 8, 1963),\n",
       " (12, 'Ravage', 7, 1911),\n",
       " (13, 'Le Maître du Haut Château', 6, 1962),\n",
       " (14, 'Le monde des A', 9, 1945),\n",
       " (15, 'La Fin de l’éternité', 3, 1955),\n",
       " (16, 'De la Terre à la Lune', 10, 1865)]"
      ]
     },
     "execution_count": 16,
     "metadata": {},
     "output_type": "execute_result"
    }
   ],
   "source": [
    "resultat = %sql SELECT * FROM Livres\n",
    "resultat"
   ]
  },
  {
   "cell_type": "code",
   "execution_count": 17,
   "metadata": {},
   "outputs": [],
   "source": [
    "assert (1, '1984', 1, 1949) in resultat"
   ]
  },
  {
   "cell_type": "markdown",
   "metadata": {},
   "source": [
    "### La table Themes\n",
    "\n",
    "Traitons à présent la problématique des Thèmes. La table Themes devra avoir la structure décrite dans l'extrait suivant :\n",
    "\n",
    "| IdTheme | Intitule |\n",
    "|----|----------|\n",
    "| 1 |    Science-fiction     |\n",
    "| ...  |   ...     |\n",
    "\n",
    "- **IdTheme** désigne bien sûr la clé primaire\n",
    "- **Intitule** est un champ texte contenant l'intitulé du thème tel qu'il apparaît dans le tableau global.\n",
    "\n",
    "Dans la cellule ci-dessous, vous saisirez donc 2 requêtes :\n",
    "- Une pour créer la table Themes\n",
    "- Une pour insérer les données dans la table."
   ]
  },
  {
   "cell_type": "code",
   "execution_count": 35,
   "metadata": {},
   "outputs": [
    {
     "name": "stdout",
     "output_type": "stream",
     "text": [
      " * sqlite:///livres_db\n",
      "Done.\n"
     ]
    },
    {
     "data": {
      "text/plain": [
       "[]"
      ]
     },
     "execution_count": 35,
     "metadata": {},
     "output_type": "execute_result"
    }
   ],
   "source": [
    "%%sql \n",
    "\n",
    "CREATE TABLE Themes (\n",
    "    idTheme  INTEGER PRIMARY KEY,\n",
    "    Intitule TEXT\n",
    ")"
   ]
  },
  {
   "cell_type": "code",
   "execution_count": 39,
   "metadata": {},
   "outputs": [
    {
     "name": "stdout",
     "output_type": "stream",
     "text": [
      " * sqlite:///livres_db\n",
      "10 rows affected.\n"
     ]
    },
    {
     "data": {
      "text/plain": [
       "[]"
      ]
     },
     "execution_count": 39,
     "metadata": {},
     "output_type": "execute_result"
    }
   ],
   "source": [
    "%%sql\n",
    "INSERT INTO Themes (Intitule)\n",
    "VALUES\n",
    "(\"Science-fiction\"),\n",
    "(\"Totalitarisme\"),\n",
    "(\"Anticipation\"),\n",
    "(\"Dystopie\"),\n",
    "(\"Economie\"),\n",
    "(\"Tragédie\"),\n",
    "(\"Intelligence artificielle\"),\n",
    "(\"Uchronie\"),\n",
    "(\"Voyage dans le temps\"),\n",
    "(\"Aventure\")"
   ]
  },
  {
   "cell_type": "markdown",
   "metadata": {},
   "source": [
    "Vérifiez votre travail en lisant tous les enregistrements de la table **Themes** dans la variable `resultat`"
   ]
  },
  {
   "cell_type": "code",
   "execution_count": 40,
   "metadata": {},
   "outputs": [
    {
     "name": "stdout",
     "output_type": "stream",
     "text": [
      " * sqlite:///livres_db\n",
      "Done.\n"
     ]
    },
    {
     "data": {
      "text/html": [
       "<table>\n",
       "    <tr>\n",
       "        <th>idTheme</th>\n",
       "        <th>Intitule</th>\n",
       "    </tr>\n",
       "    <tr>\n",
       "        <td>1</td>\n",
       "        <td>Science-fiction</td>\n",
       "    </tr>\n",
       "    <tr>\n",
       "        <td>2</td>\n",
       "        <td>Totalitarisme</td>\n",
       "    </tr>\n",
       "    <tr>\n",
       "        <td>3</td>\n",
       "        <td>Anticipation</td>\n",
       "    </tr>\n",
       "    <tr>\n",
       "        <td>4</td>\n",
       "        <td>Dystopie</td>\n",
       "    </tr>\n",
       "    <tr>\n",
       "        <td>5</td>\n",
       "        <td>Economie</td>\n",
       "    </tr>\n",
       "    <tr>\n",
       "        <td>6</td>\n",
       "        <td>Tragédie</td>\n",
       "    </tr>\n",
       "    <tr>\n",
       "        <td>7</td>\n",
       "        <td>Intelligence artificielle</td>\n",
       "    </tr>\n",
       "    <tr>\n",
       "        <td>8</td>\n",
       "        <td>Uchronie</td>\n",
       "    </tr>\n",
       "    <tr>\n",
       "        <td>9</td>\n",
       "        <td>Voyage dans le temps</td>\n",
       "    </tr>\n",
       "    <tr>\n",
       "        <td>10</td>\n",
       "        <td>Aventure</td>\n",
       "    </tr>\n",
       "</table>"
      ],
      "text/plain": [
       "[(1, 'Science-fiction'),\n",
       " (2, 'Totalitarisme'),\n",
       " (3, 'Anticipation'),\n",
       " (4, 'Dystopie'),\n",
       " (5, 'Economie'),\n",
       " (6, 'Tragédie'),\n",
       " (7, 'Intelligence artificielle'),\n",
       " (8, 'Uchronie'),\n",
       " (9, 'Voyage dans le temps'),\n",
       " (10, 'Aventure')]"
      ]
     },
     "execution_count": 40,
     "metadata": {},
     "output_type": "execute_result"
    }
   ],
   "source": [
    "resultat = %sql SELECT * FROM Themes\n",
    "resultat"
   ]
  },
  {
   "cell_type": "code",
   "execution_count": 41,
   "metadata": {},
   "outputs": [],
   "source": [
    "assert (1, \"Science-fiction\") in resultat"
   ]
  },
  {
   "cell_type": "markdown",
   "metadata": {},
   "source": [
    "### Une table manquante !\n",
    "\n",
    "La saisie de notre base de donnée est incomplète ! Nous avons en effet saisi tous les auteurs, tous les livres, toutes les langues, tous les thèmes et pourtant il manque une information. Laquelle ?\n",
    "\n",
    "Quelle solution envisager pour saisir cette information ?"
   ]
  },
  {
   "cell_type": "markdown",
   "metadata": {},
   "source": [
    "Créer une table **RelationsLivreTheme** mettant en relation les livres et les thèmes associés. Saisir le contenu de cette table."
   ]
  },
  {
   "cell_type": "code",
   "execution_count": 46,
   "metadata": {},
   "outputs": [
    {
     "name": "stdout",
     "output_type": "stream",
     "text": [
      " * sqlite:///livres_db\n",
      "Done.\n"
     ]
    },
    {
     "data": {
      "text/plain": [
       "[]"
      ]
     },
     "execution_count": 46,
     "metadata": {},
     "output_type": "execute_result"
    }
   ],
   "source": [
    "%%sql \n",
    "CREATE TABLE RelationsLivreTheme (\n",
    "    IdTheme INTEGER,\n",
    "    IdLivre INTEGER,\n",
    "    PRIMARY KEY(IdLivre,IdTheme),\n",
    "    FOREIGN KEY (IdTheme) REFERENCES Themes(IdTheme),\n",
    "    FOREIGN KEY (IdLivre) REFERENCES Livres(IdLivre)\n",
    ")"
   ]
  },
  {
   "cell_type": "code",
   "execution_count": 48,
   "metadata": {},
   "outputs": [
    {
     "name": "stdout",
     "output_type": "stream",
     "text": [
      " * sqlite:///livres_db\n",
      "35 rows affected.\n"
     ]
    },
    {
     "data": {
      "text/plain": [
       "[]"
      ]
     },
     "execution_count": 48,
     "metadata": {},
     "output_type": "execute_result"
    }
   ],
   "source": [
    "%%sql\n",
    "INSERT INTO RelationsLivreTheme (IdTheme,IdLivre)\n",
    "VALUES\n",
    "(1,1),\n",
    "(1,2),\n",
    "(1,3),\n",
    "(1,4),\n",
    "(2,1),\n",
    "(2,3),\n",
    "(3,1),(3,5),\n",
    "(4,2),(4,1),(4,4),\n",
    "(5,1),(5,4),\n",
    "(6,1),(6,3),\n",
    "(7,1),(7,3),\n",
    "(8,1),(8,6),\n",
    "(9,7),(9,1),\n",
    "(10,1),(10,7),\n",
    "(11,1),(11,4),\n",
    "(12,1),(12,3),\n",
    "(13,4),(13,8),\n",
    "(14,1),(14,7),\n",
    "(15,1),(15,9),\n",
    "(16,1),(16,10)"
   ]
  },
  {
   "cell_type": "code",
   "execution_count": 49,
   "metadata": {},
   "outputs": [
    {
     "name": "stdout",
     "output_type": "stream",
     "text": [
      " * sqlite:///livres_db\n",
      "Done.\n"
     ]
    }
   ],
   "source": [
    "resultat = %sql SELECT IdLivre, IdTheme FROM RelationsLivreTheme;\n",
    "assert (1, 1) in resultat"
   ]
  },
  {
   "cell_type": "markdown",
   "metadata": {},
   "source": [
    "## Cardinalité\n",
    "\n",
    "En regardant notre base de données et les relations que nous avons créé entre les tables, on remarque que celles-ci ont des *cardinalités* différentes. La *cardinalité* d'une relation entre deux tables **A** et **B** exprime à combien d'enregistrements de **A** peut être relié chaque enregistrement de **B**.\n",
    "\n",
    "Par exemple, à un livre est associé un auteur unique, mais pour un auteur donné, il peut y avoir plusieurs livres. On parle alors de **relation de 1 à n**\n",
    "\n",
    "Lorsque plusieurs enregistrements de la table **A** peuvent être associés à plusieurs enregistrements de la table **B**, on parle alors d'une **relation de n à n**\n",
    "\n",
    "### A vous de jouer\n",
    "\n",
    "Citez dans la base de données\n",
    "- une relation de 1 à n\n",
    "- une relation de n à n\n",
    "\n",
    "### Table de relation\n",
    "\n",
    "Pour une **relation de n à n**, nous aurons en général recours à la création d'une nouvelle table de relation contenant les clés externes des tables à mettre en relation. C'est ce que nous avons mis en oeuvre pour la table **RelationsLivreTheme**."
   ]
  },
  {
   "cell_type": "code",
   "execution_count": null,
   "metadata": {},
   "outputs": [],
   "source": []
  }
 ],
 "metadata": {
  "kernelspec": {
   "display_name": "Python 3",
   "language": "python",
   "name": "python3"
  },
  "language_info": {
   "codemirror_mode": {
    "name": "ipython",
    "version": 3
   },
   "file_extension": ".py",
   "mimetype": "text/x-python",
   "name": "python",
   "nbconvert_exporter": "python",
   "pygments_lexer": "ipython3",
   "version": "3.8.3"
  }
 },
 "nbformat": 4,
 "nbformat_minor": 4
}
