{
 "cells": [
  {
   "cell_type": "markdown",
   "metadata": {},
   "source": [
    "# SQL 2/3\n",
    "> Cours NSI Terminale - Thème 2."
   ]
  },
  {
   "cell_type": "markdown",
   "metadata": {},
   "source": [
    "# Aller plus loin en SQL\n",
    "\n",
    "Dans ce classeur, nous poursuivrons l'étude de l'exemple de la base de données de livres de SF et nous verrons des requêtes de sélection avancées ainsi que la manière de fusionner plusieurs tables (Jointures).\n",
    "\n",
    "Commencez par valider les cellules suivantes afin d'activer la fonctionnalité SQL de Jupyter et de charger la base du TP précédent."
   ]
  },
  {
   "cell_type": "code",
   "execution_count": 2,
   "metadata": {},
   "outputs": [],
   "source": [
    "%load_ext sql\n",
    "\n",
    "%sql sqlite:///livres_db"
   ]
  },
  {
   "cell_type": "markdown",
   "metadata": {},
   "source": [
    "## Aller plus loin avec SELECT\n",
    "\n",
    "### Sélection simple\n",
    "\n",
    "Supposons que l'on veuille lister seulement les noms et prénoms des auteurs nés avant 1900, on utilisera une clause **WHERE** *condition* :"
   ]
  },
  {
   "cell_type": "code",
   "execution_count": null,
   "metadata": {},
   "outputs": [],
   "source": [
    "%sql SELECT NomAuteur, PrenomAuteur from Auteurs WHERE AnneeNaissance < 1900;"
   ]
  },
  {
   "cell_type": "markdown",
   "metadata": {},
   "source": [
    "Pour obtenir les auteurs prénommés *Jules* :"
   ]
  },
  {
   "cell_type": "code",
   "execution_count": null,
   "metadata": {},
   "outputs": [],
   "source": [
    "%sql SELECT NomAuteur, PrenomAuteur from Auteurs WHERE PrenomAuteur = 'Jules';"
   ]
  },
  {
   "cell_type": "markdown",
   "metadata": {},
   "source": [
    "Vous voyez que les textes sont délimités par des quotes **'...'**.\n",
    "\n",
    "***Attention*** : essayez de remplacer **Jules** par **jules** et vous constaterez que la recherche est sensible aux majuscules.\n",
    "\n",
    "Supposns maintenant que l'on recherche les auteurs dont le prénom commence par **P** : Nous utiliserons une clause *LIKE* de cette manière :"
   ]
  },
  {
   "cell_type": "code",
   "execution_count": null,
   "metadata": {},
   "outputs": [],
   "source": [
    "%sql SELECT NomAuteur, PrenomAuteur from Auteurs WHERE PrenomAuteur LIKE 'P%';"
   ]
  },
  {
   "cell_type": "markdown",
   "metadata": {},
   "source": [
    "### Sélection multiple\n",
    "Il est possible de croiser plusieurs critères à l'aide d'opérateurs booleens : **AND** et **OR**. Voici la liste des auteurs français nés après 1900 :"
   ]
  },
  {
   "cell_type": "code",
   "execution_count": null,
   "metadata": {},
   "outputs": [],
   "source": [
    "%sql SELECT NomAuteur, PrenomAuteur from Auteurs WHERE IdLangue = 2 AND AnneeNaissance > 1900;"
   ]
  },
  {
   "cell_type": "markdown",
   "metadata": {},
   "source": [
    "### Compter le nombre de réponses d'une requête SELECT\n",
    "\n",
    "Combien y a t-il d'auteurs nés entre 1900 et 1915 ? Vous verrez à l'occation l'utilisation de l'opérateur *BETWEEN* pour tester l'appartenance à un intervalle."
   ]
  },
  {
   "cell_type": "code",
   "execution_count": null,
   "metadata": {},
   "outputs": [],
   "source": [
    "nbr = %sql SELECT COUNT(*) from Auteurs WHERE AnneeNaissance BETWEEN 1900 AND 1915;\n",
    "\n",
    "print(nbr)\n",
    "print(\"récupérer juste le nombre : \", nbr[0][0])"
   ]
  },
  {
   "cell_type": "markdown",
   "metadata": {},
   "source": [
    "### Trier les réponses\n",
    "\n",
    "Nous allons lister tous les auteurs par ordre croissant d'année de naissance"
   ]
  },
  {
   "cell_type": "code",
   "execution_count": null,
   "metadata": {},
   "outputs": [],
   "source": [
    "%sql SELECT * from Auteurs ORDER BY AnneeNaissance;"
   ]
  },
  {
   "cell_type": "markdown",
   "metadata": {},
   "source": [
    "et par ordre décroissant, on ajoute **DESC** à la fin de la requête"
   ]
  },
  {
   "cell_type": "code",
   "execution_count": null,
   "metadata": {},
   "outputs": [],
   "source": [
    "%sql SELECT * from Auteurs ORDER BY AnneeNaissance DESC;"
   ]
  },
  {
   "cell_type": "markdown",
   "metadata": {},
   "source": [
    "### Éviter les occurrences multiples\n",
    "\n",
    "interrogeons la table **Livres** sur les années de publication, rangées par ordre croissant :"
   ]
  },
  {
   "cell_type": "code",
   "execution_count": null,
   "metadata": {},
   "outputs": [],
   "source": [
    "%sql SELECT AnneePubli from Livres ORDER BY AnneePubli;"
   ]
  },
  {
   "cell_type": "markdown",
   "metadata": {},
   "source": [
    "On constate la présence de quelques doublons\n",
    "\n",
    "Pour éviter les redondances dans les résultats, on peut rajouter le mot-clé *DISTINCT* juste après le *SELECT* :"
   ]
  },
  {
   "cell_type": "code",
   "execution_count": null,
   "metadata": {},
   "outputs": [],
   "source": [
    "%sql SELECT DISTINCT AnneePubli from Livres ORDER BY AnneePubli;"
   ]
  },
  {
   "cell_type": "markdown",
   "metadata": {},
   "source": [
    "### A vous de jouer\n",
    "\n",
    "1. Donner la liste de tous les titres des livres écrits entre 1920 et 1950.\n",
    "1. Combien y en a t-il ?"
   ]
  },
  {
   "cell_type": "code",
   "execution_count": 17,
   "metadata": {},
   "outputs": [
    {
     "name": "stdout",
     "output_type": "stream",
     "text": [
      " * sqlite:///livres_db\n",
      "Done.\n"
     ]
    },
    {
     "data": {
      "text/html": [
       "<table>\n",
       "    <tr>\n",
       "        <th>Titre</th>\n",
       "    </tr>\n",
       "    <tr>\n",
       "        <td>1984</td>\n",
       "    </tr>\n",
       "    <tr>\n",
       "        <td>Le meilleur des mondes</td>\n",
       "    </tr>\n",
       "    <tr>\n",
       "        <td>Chroniques martiennes</td>\n",
       "    </tr>\n",
       "    <tr>\n",
       "        <td>Les Robots</td>\n",
       "    </tr>\n",
       "    <tr>\n",
       "        <td>Ravage</td>\n",
       "    </tr>\n",
       "    <tr>\n",
       "        <td>Le monde des A</td>\n",
       "    </tr>\n",
       "</table>"
      ],
      "text/plain": [
       "[('1984',),\n",
       " ('Le meilleur des mondes',),\n",
       " ('Chroniques martiennes',),\n",
       " ('Les Robots',),\n",
       " ('Ravage',),\n",
       " ('Le monde des A',)]"
      ]
     },
     "execution_count": 17,
     "metadata": {},
     "output_type": "execute_result"
    }
   ],
   "source": [
    "reponse_1 = %sql SELECT Titre FROM Livres WHERE AnneePubli BETWEEN 1920 AND 1950 ; \n",
    "reponse_1"
   ]
  },
  {
   "cell_type": "code",
   "execution_count": 18,
   "metadata": {},
   "outputs": [
    {
     "name": "stdout",
     "output_type": "stream",
     "text": [
      " * sqlite:///livres_db\n",
      "Done.\n"
     ]
    },
    {
     "data": {
      "text/html": [
       "<table>\n",
       "    <tr>\n",
       "        <th>nbLivres</th>\n",
       "    </tr>\n",
       "    <tr>\n",
       "        <td>6</td>\n",
       "    </tr>\n",
       "</table>"
      ],
      "text/plain": [
       "[(6,)]"
      ]
     },
     "execution_count": 18,
     "metadata": {},
     "output_type": "execute_result"
    }
   ],
   "source": [
    "reponse_2 = %sql SELECT COUNT(*) As nbLivres FROM Livres WHERE AnneePubli BETWEEN 1920 AND 1950; \n",
    "reponse_2"
   ]
  },
  {
   "cell_type": "code",
   "execution_count": 19,
   "metadata": {},
   "outputs": [],
   "source": [
    "# Vérification des réponses\n",
    "\n",
    "assert reponse_1[3][0] == 'Les Robots'\n",
    "assert reponse_2[0][0] == 6"
   ]
  },
  {
   "cell_type": "markdown",
   "metadata": {},
   "source": [
    "## Requêtes portant sur plusieurs tables\n",
    "\n",
    "Jusqu'à présent, nos requêtes ne portaient que sur une seule table. Néanmoins notre liste de livres comporte des donées en provenance de plusieurs tables simultanément. Nous allons voir comment effectuer des requêtes pour croiser des données en provenance de plusieurs tables."
   ]
  },
  {
   "cell_type": "code",
   "execution_count": null,
   "metadata": {},
   "outputs": [],
   "source": [
    "%sql SELECT * FROM Langues, Auteurs"
   ]
  },
  {
   "cell_type": "markdown",
   "metadata": {},
   "source": [
    "Comme on peut le constater cette requête est peu pertinente car elle affiche toutes les données de chacune des tables sans effectuer de correspondances. La **clé de jointure** apparaît pourtant ici clairement : il s'agit de **id_langue** qui doit permettre de recouper les informations entre les deux tables : il est en effet inutile d'afficher les données pour lesquelles les langues ne correspondent pas entre les deux tables.\n",
    "\n",
    "### Jointure\n",
    "\n",
    "La **jonture** consiste à croiser les données de plusieurs tables pour les présenter sous forme d'un seul tableau. On va utiliser ce mécanisme pour afficher clairement la langue de l'auteur plutôt qu'un numéro qui n'est pas forcément très parlant. Nous utiliserons pour cela l'opérateur **JOIN ... ON** :"
   ]
  },
  {
   "cell_type": "code",
   "execution_count": null,
   "metadata": {},
   "outputs": [],
   "source": [
    "%sql SELECT NomAuteur, PrenomAuteur, Langue, AnneeNaissance FROM Auteurs JOIN Langues ON Auteurs.IdLangue = Langues.IdLangue"
   ]
  },
  {
   "cell_type": "markdown",
   "metadata": {},
   "source": [
    "Les champs sur lesquels faire la jointure **ayant les mêmes noms dans les 2 tables**, cette requête peut aussi être écrite plus simplement en utilisant le mot-clé **USING** ainsi : "
   ]
  },
  {
   "cell_type": "code",
   "execution_count": null,
   "metadata": {},
   "outputs": [],
   "source": [
    "%sql SELECT NomAuteur, PrenomAuteur, Langue, AnneeNaissance  FROM Auteurs JOIN Langues USING (IdLangue)"
   ]
  },
  {
   "cell_type": "markdown",
   "metadata": {},
   "source": [
    "### A vous de jouer\n",
    "En croisant la table **Livres** avec la table **Auteurs**\n",
    "\n",
    "1. récupérer dans la variable `reponse_1` une liste dont les attributs sont **Titre**, **PrenomAuteur**, **NomAuteur** et **AnneePubli**, triée du plus récent au plus ancien.\n",
    "1. récupérer dans la variable `reponse_2` une liste dont les attributs sont **Titre**, **PrenomAuteur**, **NomAuteur** et **AnneePubli** écrits en français."
   ]
  },
  {
   "cell_type": "code",
   "execution_count": 5,
   "metadata": {},
   "outputs": [
    {
     "name": "stdout",
     "output_type": "stream",
     "text": [
      " * sqlite:///livres_db\n",
      "Done.\n"
     ]
    },
    {
     "data": {
      "text/html": [
       "<table>\n",
       "    <tr>\n",
       "        <th>Titre</th>\n",
       "        <th>PrenomAuteur</th>\n",
       "        <th>NomAuteur</th>\n",
       "        <th>AnneePubli</th>\n",
       "    </tr>\n",
       "    <tr>\n",
       "        <td>De la Terre à la Lune</td>\n",
       "        <td>Jules</td>\n",
       "        <td>Verne</td>\n",
       "        <td>1865</td>\n",
       "    </tr>\n",
       "    <tr>\n",
       "        <td>Le meilleur des mondes</td>\n",
       "        <td>Aldous</td>\n",
       "        <td>Huxley</td>\n",
       "        <td>1931</td>\n",
       "    </tr>\n",
       "    <tr>\n",
       "        <td>Ravage</td>\n",
       "        <td>René</td>\n",
       "        <td>Barjavel</td>\n",
       "        <td>1943</td>\n",
       "    </tr>\n",
       "    <tr>\n",
       "        <td>Le monde des A</td>\n",
       "        <td>Alfred Elton</td>\n",
       "        <td>Van Vogt</td>\n",
       "        <td>1945</td>\n",
       "    </tr>\n",
       "    <tr>\n",
       "        <td>1984</td>\n",
       "        <td>George</td>\n",
       "        <td>Orwell</td>\n",
       "        <td>1949</td>\n",
       "    </tr>\n",
       "    <tr>\n",
       "        <td>Chroniques martiennes</td>\n",
       "        <td>Ray</td>\n",
       "        <td>Bradbury</td>\n",
       "        <td>1950</td>\n",
       "    </tr>\n",
       "    <tr>\n",
       "        <td>Les Robots</td>\n",
       "        <td>Isaac</td>\n",
       "        <td>Asimov</td>\n",
       "        <td>1950</td>\n",
       "    </tr>\n",
       "    <tr>\n",
       "        <td>Fondation</td>\n",
       "        <td>Isaac</td>\n",
       "        <td>Asimov</td>\n",
       "        <td>1951</td>\n",
       "    </tr>\n",
       "    <tr>\n",
       "        <td>Fahrenheit 451</td>\n",
       "        <td>Ray</td>\n",
       "        <td>Bradbury</td>\n",
       "        <td>1953</td>\n",
       "    </tr>\n",
       "    <tr>\n",
       "        <td>La Fin de l’éternité</td>\n",
       "        <td>Isaac</td>\n",
       "        <td>Asimov</td>\n",
       "        <td>1955</td>\n",
       "    </tr>\n",
       "    <tr>\n",
       "        <td>Le Maître du Haut Château</td>\n",
       "        <td>Philip</td>\n",
       "        <td>K. Dick</td>\n",
       "        <td>1962</td>\n",
       "    </tr>\n",
       "    <tr>\n",
       "        <td>La Planète des singes</td>\n",
       "        <td>Pierre</td>\n",
       "        <td>Boulle</td>\n",
       "        <td>1963</td>\n",
       "    </tr>\n",
       "    <tr>\n",
       "        <td>Dune</td>\n",
       "        <td>Frank</td>\n",
       "        <td>Herbert</td>\n",
       "        <td>1965</td>\n",
       "    </tr>\n",
       "    <tr>\n",
       "        <td>La nuit des temps</td>\n",
       "        <td>René</td>\n",
       "        <td>Barjavel</td>\n",
       "        <td>1968</td>\n",
       "    </tr>\n",
       "    <tr>\n",
       "        <td>Blade Runner</td>\n",
       "        <td>Philip</td>\n",
       "        <td>K. Dick</td>\n",
       "        <td>1968</td>\n",
       "    </tr>\n",
       "    <tr>\n",
       "        <td>Ubik</td>\n",
       "        <td>Philip</td>\n",
       "        <td>K. Dick</td>\n",
       "        <td>1969</td>\n",
       "    </tr>\n",
       "</table>"
      ],
      "text/plain": [
       "[('De la Terre à la Lune', 'Jules', 'Verne', 1865),\n",
       " ('Le meilleur des mondes', 'Aldous', 'Huxley', 1931),\n",
       " ('Ravage', 'René', 'Barjavel', 1943),\n",
       " ('Le monde des A', 'Alfred Elton', 'Van Vogt', 1945),\n",
       " ('1984', 'George', 'Orwell', 1949),\n",
       " ('Chroniques martiennes', 'Ray', 'Bradbury', 1950),\n",
       " ('Les Robots', 'Isaac', 'Asimov', 1950),\n",
       " ('Fondation', 'Isaac', 'Asimov', 1951),\n",
       " ('Fahrenheit 451', 'Ray', 'Bradbury', 1953),\n",
       " ('La Fin de l’éternité', 'Isaac', 'Asimov', 1955),\n",
       " ('Le Maître du Haut Château', 'Philip', 'K. Dick', 1962),\n",
       " ('La Planète des singes', 'Pierre', 'Boulle', 1963),\n",
       " ('Dune', 'Frank', 'Herbert', 1965),\n",
       " ('La nuit des temps', 'René', 'Barjavel', 1968),\n",
       " ('Blade Runner', 'Philip', 'K. Dick', 1968),\n",
       " ('Ubik', 'Philip', 'K. Dick', 1969)]"
      ]
     },
     "execution_count": 5,
     "metadata": {},
     "output_type": "execute_result"
    }
   ],
   "source": [
    "reponse_1 = %sql SELECT Titre, PrenomAuteur, NomAuteur, AnneePubli FROM Livres INNER JOIN Auteurs ON LIvres.IdAuteur=Auteurs.IdAuteur ORDER BY AnneePubli ASC ; \n",
    "reponse_1"
   ]
  },
  {
   "cell_type": "code",
   "execution_count": null,
   "metadata": {},
   "outputs": [],
   "source": [
    "%sql SELECT Titre, Intitule FROM Livres JOIN RelationsLivreTheme USING (IdLivre) JOIN Themes USING (IdTheme)"
   ]
  },
  {
   "cell_type": "markdown",
   "metadata": {},
   "source": [
    "### A vous de jouer\n",
    "\n",
    "Ecrire une requête permettant d'obtenir une liste dont les attributs sont **Titre**, **NomAuteur** et **Langue** triée par ordre croissant de date de naissance de l'auteur.\n",
    "\n",
    "Vous stockerez le résultat dans une variable `result`"
   ]
  },
  {
   "cell_type": "code",
   "execution_count": 14,
   "metadata": {},
   "outputs": [
    {
     "name": "stdout",
     "output_type": "stream",
     "text": [
      " * sqlite:///livres_db\n",
      "Done.\n"
     ]
    },
    {
     "data": {
      "text/html": [
       "<table>\n",
       "    <tr>\n",
       "        <th>Titre</th>\n",
       "        <th>NomAuteur</th>\n",
       "        <th>Langue</th>\n",
       "    </tr>\n",
       "    <tr>\n",
       "        <td>De la Terre à la Lune</td>\n",
       "        <td>Verne</td>\n",
       "        <td>Français</td>\n",
       "    </tr>\n",
       "    <tr>\n",
       "        <td>Le meilleur des mondes</td>\n",
       "        <td>Huxley</td>\n",
       "        <td>Anglais</td>\n",
       "    </tr>\n",
       "    <tr>\n",
       "        <td>1984</td>\n",
       "        <td>Orwell</td>\n",
       "        <td>Anglais</td>\n",
       "    </tr>\n",
       "    <tr>\n",
       "        <td>La nuit des temps</td>\n",
       "        <td>Barjavel</td>\n",
       "        <td>Français</td>\n",
       "    </tr>\n",
       "    <tr>\n",
       "        <td>Ravage</td>\n",
       "        <td>Barjavel</td>\n",
       "        <td>Français</td>\n",
       "    </tr>\n",
       "    <tr>\n",
       "        <td>La Planète des singes</td>\n",
       "        <td>Boulle</td>\n",
       "        <td>Français</td>\n",
       "    </tr>\n",
       "    <tr>\n",
       "        <td>Le monde des A</td>\n",
       "        <td>Van Vogt</td>\n",
       "        <td>Anglais</td>\n",
       "    </tr>\n",
       "    <tr>\n",
       "        <td>Dune</td>\n",
       "        <td>Herbert</td>\n",
       "        <td>Anglais</td>\n",
       "    </tr>\n",
       "    <tr>\n",
       "        <td>Fondation</td>\n",
       "        <td>Asimov</td>\n",
       "        <td>Anglais</td>\n",
       "    </tr>\n",
       "    <tr>\n",
       "        <td>Fahrenheit 451</td>\n",
       "        <td>Bradbury</td>\n",
       "        <td>Anglais</td>\n",
       "    </tr>\n",
       "    <tr>\n",
       "        <td>Chroniques martiennes</td>\n",
       "        <td>Bradbury</td>\n",
       "        <td>Anglais</td>\n",
       "    </tr>\n",
       "    <tr>\n",
       "        <td>Les Robots</td>\n",
       "        <td>Asimov</td>\n",
       "        <td>Anglais</td>\n",
       "    </tr>\n",
       "    <tr>\n",
       "        <td>La Fin de l’éternité</td>\n",
       "        <td>Asimov</td>\n",
       "        <td>Anglais</td>\n",
       "    </tr>\n",
       "    <tr>\n",
       "        <td>Ubik</td>\n",
       "        <td>K. Dick</td>\n",
       "        <td>Anglais</td>\n",
       "    </tr>\n",
       "    <tr>\n",
       "        <td>Blade Runner</td>\n",
       "        <td>K. Dick</td>\n",
       "        <td>Anglais</td>\n",
       "    </tr>\n",
       "    <tr>\n",
       "        <td>Le Maître du Haut Château</td>\n",
       "        <td>K. Dick</td>\n",
       "        <td>Anglais</td>\n",
       "    </tr>\n",
       "</table>"
      ],
      "text/plain": [
       "[('De la Terre à la Lune', 'Verne', 'Français'),\n",
       " ('Le meilleur des mondes', 'Huxley', 'Anglais'),\n",
       " ('1984', 'Orwell', 'Anglais'),\n",
       " ('La nuit des temps', 'Barjavel', 'Français'),\n",
       " ('Ravage', 'Barjavel', 'Français'),\n",
       " ('La Planète des singes', 'Boulle', 'Français'),\n",
       " ('Le monde des A', 'Van Vogt', 'Anglais'),\n",
       " ('Dune', 'Herbert', 'Anglais'),\n",
       " ('Fondation', 'Asimov', 'Anglais'),\n",
       " ('Fahrenheit 451', 'Bradbury', 'Anglais'),\n",
       " ('Chroniques martiennes', 'Bradbury', 'Anglais'),\n",
       " ('Les Robots', 'Asimov', 'Anglais'),\n",
       " ('La Fin de l’éternité', 'Asimov', 'Anglais'),\n",
       " ('Ubik', 'K. Dick', 'Anglais'),\n",
       " ('Blade Runner', 'K. Dick', 'Anglais'),\n",
       " ('Le Maître du Haut Château', 'K. Dick', 'Anglais')]"
      ]
     },
     "execution_count": 14,
     "metadata": {},
     "output_type": "execute_result"
    }
   ],
   "source": [
    "result = %sql SELECT Titre, NomAuteur, Langue FROM Livres INNER JOIN Auteurs ON LIvres.IdAuteur=Auteurs.IdAuteur INNER JOIN Langues ON Langues.IdLangue=Auteurs.IdLangue ORDER BY AnneeNaissance ASC;\n",
    "result"
   ]
  },
  {
   "cell_type": "code",
   "execution_count": 16,
   "metadata": {},
   "outputs": [],
   "source": [
    "assert result[0] == ('De la Terre à la Lune', 'Verne', 'Français')"
   ]
  }
 ],
 "metadata": {
  "kernelspec": {
   "display_name": "Python 3",
   "language": "python",
   "name": "python3"
  },
  "language_info": {
   "codemirror_mode": {
    "name": "ipython",
    "version": 3
   },
   "file_extension": ".py",
   "mimetype": "text/x-python",
   "name": "python",
   "nbconvert_exporter": "python",
   "pygments_lexer": "ipython3",
   "version": "3.8.3"
  }
 },
 "nbformat": 4,
 "nbformat_minor": 4
}
