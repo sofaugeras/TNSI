{
 "cells": [
  {
   "cell_type": "markdown",
   "metadata": {},
   "source": [
    "# Exploiter un vrai jeu de donnée\n",
    "\n",
    "> Cours NSI Terminale - Thème 2."
   ]
  },
  {
   "cell_type": "markdown",
   "metadata": {},
   "source": [
    "# Mise en pratique sur une vraie base\n",
    "\n",
    "A partir de maintenant, vous avez les connaissances pour réaliser une application s'appuyant sur une base de données. Il  ne reste plus qu'à les appliquer dans le cadre d'un projet ou un mini projet. Un exemple de mini-projet possible dans le domaine du *BigData* consiste à récupérer des données officielles et à s'aider du langage SQL pour les exploiter.\n",
    "\n",
    "## Exemple de jeu de données\n",
    "\n",
    "Une source intéressante pour récupérer des données est **data.gouv.fr**. Voici un exemple de jeu de données : https://www.data.gouv.fr/fr/datasets/resultats-du-controle-sanitaire-de-leau-distribuee-commune-par-commune/#_\n",
    "\n",
    "La description de chacun des fichiers se trouve ici : https://static.data.gouv.fr/resources/resultats-du-controle-sanitaire-de-leau-distribuee-commune-par-commune/20190710-030936/20190708-eau-distrib-documentation-v4.pdf\n",
    "\n",
    "0. Téléchargez le fichier dis-* le plus récent. Décompressez le et analysez sa structure.\n",
    "0. Créez une nouvelle base de données et 3 tables à l'intérieur :\n",
    "    - Communes\n",
    "    - Prelevements\n",
    "    - Resultats\n",
    "0. Créez dans chacune des tables une clé primaire nommée Id*NomTable* ainsi que des attributs correspondants aux intitulés de colonne\n",
    "0. A l'aide de Python, lisez chacun des fichiers et peuplez les tables correspondantes.\n",
    "0. Créez des requêtes SQL afin de vous renseigner sur la qualité de l'eau dans les communes proches de chez vous."
   ]
  },
  {
   "cell_type": "markdown",
   "metadata": {},
   "source": [
    "### Création des tables"
   ]
  },
  {
   "cell_type": "code",
   "execution_count": 24,
   "metadata": {},
   "outputs": [],
   "source": [
    "import sqlite3\n",
    "bdd = sqlite3.connect(\"dis_db\")\n",
    "curseur = bdd.cursor()"
   ]
  },
  {
   "cell_type": "code",
   "execution_count": null,
   "metadata": {},
   "outputs": [],
   "source": [
    "# Creation table Communes\n",
    "requete = \"\"\"\n",
    "CREATE TABLE Communes\n",
    "(\n",
    "    IdCommune INTEGER  PRIMARY KEY,\n",
    "    inseecommune TEXT,\n",
    "    nomcommune TEXT,\n",
    "    quartier TEXT,\n",
    "    cdreseau TEXT,\n",
    "    nomreseau TEXT,\n",
    "    debutalim DATE\n",
    ");\"\"\"\n",
    "curseur.execute(requete)\n",
    "\n",
    "# Creation des tables Prelevements et Resultats\n",
    "\n",
    "# YOUR CODE HERE\n",
    "\n",
    "\n",
    "bdd.commit()"
   ]
  },
  {
   "cell_type": "code",
   "execution_count": null,
   "metadata": {},
   "outputs": [],
   "source": [
    "# Creation table Prélèvements\n",
    "requete = \"\"\"\n",
    "CREATE TABLE prlv\n",
    "(\n",
    "    idprlv INTEGER PRIMARY KEY,\n",
    "    cddept TEXT,\n",
    "    cdreseau TEXT,\n",
    "    inseecommuneprinc TEXT ,\n",
    "    nomcommuneprinc TEXT,\n",
    "    cdreseauamont TEXT,\n",
    "    nomreseauamont TEXT,\n",
    "    pourcentdebit TEXT,\n",
    "    referenceprel TEXT,\n",
    "    dateprel DATE,\n",
    "    heureprel TEXT,\n",
    "    conclusionprel TEXT,\n",
    "    ugelib TEXT,\n",
    "    distrlib TEXT,\n",
    "    moalib TEXT,\n",
    "    plvconformitebacterio TEXT,\n",
    "    plvconformitechimique TEXT,\n",
    "    plvconformitereferencebact TEXT,\n",
    "    plvconformitereferencechim TEXT\n",
    ");\"\"\"\n",
    "curseur.execute(requete)\n",
    "bdd.commit()"
   ]
  },
  {
   "cell_type": "code",
   "execution_count": null,
   "metadata": {},
   "outputs": [],
   "source": [
    "# Creation table Resultats\n",
    "requete = \"\"\"\n",
    "CREATE TABLE resu\n",
    "(\n",
    "    idresu INTEGER PRIMARY KEY,\n",
    "    ddept TEXT,\n",
    "    Referencepre TEXT,\n",
    "    Cdparametre INTEGER ,\n",
    "    Cdparametresiseeaux TEXT,\n",
    "    libMAJparametre TEXT, \n",
    "    libMINparametre TEXT,\n",
    "    libWEBparametre TEXT,\n",
    "    Insituana TEXT,\n",
    "    Rqana TEXT,\n",
    "    cdunitereferencesiseeaux TEXT,\n",
    "    Cdunitereference TEXT,\n",
    "    Qualitparam BOOLEAN,\n",
    "    Casparam INTEGER,\n",
    "    Limitequal TEXT,\n",
    "    Refqual TEXT\n",
    ");\"\"\"\n",
    "curseur.execute(requete)\n",
    "bdd.commit()"
   ]
  },
  {
   "cell_type": "markdown",
   "metadata": {},
   "source": [
    "### Alimentation de la base de données"
   ]
  },
  {
   "cell_type": "code",
   "execution_count": null,
   "metadata": {},
   "outputs": [],
   "source": [
    "# Exemple d'import d'un fichier CSV dans une BDD\n",
    "\n",
    "import csv\n",
    "\n",
    "with open('DIS_PLV_2020.txt', encoding='utf-8') as csvfile:\n",
    "    nb_lignes = 0\n",
    "    lignes = csv.reader(csvfile)\n",
    "    entete = True\n",
    "    for l in lignes:\n",
    "        if entete:\n",
    "            entete = False\n",
    "        else:\n",
    "            nb_lignes += 1\n",
    "            requete = f\"\"\"\n",
    "            INSERT INTO prlv\n",
    "                (cddept,\n",
    "                cdreseau,\n",
    "                inseecommuneprinc,\n",
    "                nomcommuneprinc,\n",
    "                cdreseauamont,\n",
    "                nomreseauamont ,\n",
    "                pourcentdebit ,\n",
    "                referenceprel ,\n",
    "                dateprel ,\n",
    "                heureprel ,\n",
    "                conclusionprel ,\n",
    "                ugelib ,\n",
    "                distrlib ,\n",
    "                moalib ,\n",
    "                plvconformitebacterio ,\n",
    "                plvconformitechimique ,\n",
    "                plvconformitereferencebact ,\n",
    "                plvconformitereferencechim )\n",
    "            VALUES\n",
    "                (?, ?, ?, ?, ?, ?, ?, ?, ?, ?, ?, ?, ?, ?, ?, ?, ?, ?)\n",
    "            \"\"\"\n",
    "            curseur.execute(requete, l)\n",
    "    bdd.commit()\n",
    "    print(f\"{nb_lignes} enregistrements créés\")"
   ]
  },
  {
   "cell_type": "code",
   "execution_count": null,
   "metadata": {},
   "outputs": [],
   "source": [
    "# Exemple d'import d'un fichier CSV dans une BDD\n",
    "\n",
    "import csv\n",
    "\n",
    "with open('DIS_COM_UDI_2020.txt', encoding='utf-8') as csvfile:\n",
    "    nb_lignes = 0\n",
    "    lignes = csv.reader(csvfile)\n",
    "    entete = True\n",
    "    for l in lignes:\n",
    "        if entete:\n",
    "            entete = False\n",
    "        else:\n",
    "            nb_lignes += 1\n",
    "            requete = f\"\"\"\n",
    "            INSERT INTO Communes\n",
    "                (inseecommune,nomcommune,quartier,cdreseau,nomreseau,debutalim)\n",
    "            VALUES\n",
    "                (?, ?, ?, ?, ?, ?)\n",
    "            \"\"\"\n",
    "            curseur.execute(requete, l)\n",
    "    bdd.commit()\n",
    "    print(f\"{nb_lignes} enregistrements créés\")\n"
   ]
  },
  {
   "cell_type": "code",
   "execution_count": 4,
   "metadata": {},
   "outputs": [
    {
     "name": "stdout",
     "output_type": "stream",
     "text": [
      "312096\n"
     ]
    }
   ],
   "source": [
    "curseur.execute(\"SELECT COUNT(*) FROM prlv;\")\n",
    "print(curseur.fetchone()[0])\n",
    "#assert curseur.fetchone()[0] == 126730"
   ]
  },
  {
   "cell_type": "code",
   "execution_count": null,
   "metadata": {},
   "outputs": [],
   "source": [
    "# Exemple d'import d'un fichier CSV dans une BDD\n",
    "\n",
    "import csv\n",
    "\n",
    "with open('DIS_RESULT_2020.txt', encoding='utf-8') as csvfile:\n",
    "    nb_lignes = 0\n",
    "    lignes = csv.reader(csvfile)\n",
    "    entete = True\n",
    "    for l in lignes:\n",
    "        if entete:\n",
    "            entete = False\n",
    "        else:\n",
    "            nb_lignes += 1\n",
    "            requete = f\"\"\"\n",
    "            INSERT INTO resu\n",
    "                (ddept ,\n",
    "                Referencepre ,\n",
    "                Cdparametre  ,\n",
    "                Cdparametresiseeaux ,\n",
    "                libMAJparametre , \n",
    "                libMINparametre ,\n",
    "                libWEBparametre ,\n",
    "                Insituana ,\n",
    "                Rqana ,\n",
    "                cdunitereferencesiseeaux ,\n",
    "                Cdunitereference ,\n",
    "                Qualitparam ,\n",
    "                Limitequal ,\n",
    "                Refqual \n",
    "                )\n",
    "             VALUES\n",
    "                (?, ?, ?, ?, ?, ?, ?, ?, ?, ?, ?, ?, ?, ?)\n",
    "            \"\"\"\n",
    "            curseur.execute(requete, l)\n",
    "    bdd.commit()\n",
    "    print(f\"{nb_lignes} enregistrements créés\")\n"
   ]
  },
  {
   "cell_type": "code",
   "execution_count": null,
   "metadata": {},
   "outputs": [],
   "source": [
    "curseur.execute(\"SELECT COUNT(*) FROM resu;\")\n",
    "assert curseur.fetchone()[0] == 3683342"
   ]
  },
  {
   "cell_type": "markdown",
   "metadata": {},
   "source": [
    "### Interrogation de la base de données\n",
    "\n",
    "Nous avons à présent une vraie base de données avec de vraies données, en nombre conséquent. Une petite requête sur la table Resultats suffit pour s'en convaincre : Plus de 3 millions et demi d'enregistrements !\n",
    "\n",
    "### Quelques idées de fonctions à créer ! \n",
    "\n",
    "- une fonction **liste_communes** prenant en entrée un curseur et un numéro de département et renvoyant la liste des communes dans de département présentes dans la base.\n",
    "    - La fonction ne renverra pas plusieurs fois la même commune\n",
    "    - Attention, pour un numéro de département inférieur à 10, if faut penser à ajouter \"0\"...\n",
    "    - Le champ *numeroinsee* commence par le numéro du département mais est différent du code postal.\n",
    "\n",
    "- une fonction **anomalies()** prenant un curseur et un nom de commune et qui renvoie la date et la conclusion du prélévement (champ *conclusionprel* dans **Prelevements** dans la commune) et la référence du prélèvement (champ *referenceprel* dans **Prelevements**) en cas d'anomalie. Vous repèrerez dans la base la phrase type lorsque tout va bien !\n",
    "\n",
    "- une fonction **resultat()** prenant en paramètres un curseur et une référence de prélèvement et qui renvoie les résultats détaillés de l'analyse avec les informations suivantes :\n",
    "    - libellé associé à chaque code paramètre, composant la dénomination du paramètre sous forme de texte libre\n",
    "    - Le résultat de l’analyse physico-chimique ou microbiologique du paramètre\n",
    "    - L'unité de mesure du paramètre\n",
    "    - La limite(s) de qualité du paramètre concerné en vigueur  au moment du prélèvement\n"
   ]
  },
  {
   "cell_type": "code",
   "execution_count": 11,
   "metadata": {},
   "outputs": [],
   "source": [
    "def liste_communes(c, cdep):\n",
    "    #requete = f'SELECT DISTINCT IdCommune, nomcommune FROM Communes WHERE inseecommune LIKE \"{}\";'.format(cdep)\n",
    "    requete = f\"SELECT DISTINCT nomcommune FROM Communes WHERE inseecommune LIKE '{cdep}%';\".format(cdep)\n",
    "    c.execute(requete)\n",
    "    r = c.fetchall()\n",
    "    if len(r) == 0:\n",
    "        return None\n",
    "    elif len(r) >= 1:\n",
    "        liste = []\n",
    "        for i in range(len(r)) :\n",
    "            liste.append(r[i][0])\n",
    "        return liste"
   ]
  },
  {
   "cell_type": "code",
   "execution_count": 19,
   "metadata": {},
   "outputs": [],
   "source": [
    "listeCom = liste_communes(curseur, 1)"
   ]
  },
  {
   "cell_type": "code",
   "execution_count": 20,
   "metadata": {},
   "outputs": [
    {
     "name": "stdout",
     "output_type": "stream",
     "text": [
      "AILLEVILLE\n"
     ]
    }
   ],
   "source": [
    "print(listeCom[0])"
   ]
  },
  {
   "cell_type": "code",
   "execution_count": 21,
   "metadata": {},
   "outputs": [],
   "source": [
    "assert \"CAEN\" in liste_communes(curseur, 14)"
   ]
  },
  {
   "cell_type": "code",
   "execution_count": 27,
   "metadata": {},
   "outputs": [],
   "source": [
    "%load_ext sql\n",
    "\n",
    "%sql sqlite:///dis_db"
   ]
  },
  {
   "cell_type": "code",
   "execution_count": 47,
   "metadata": {},
   "outputs": [
    {
     "name": "stdout",
     "output_type": "stream",
     "text": [
      " * sqlite:///dis_db\n",
      "Done.\n"
     ]
    },
    {
     "data": {
      "text/html": [
       "<table>\n",
       "    <tr>\n",
       "        <th>COUNT(*)</th>\n",
       "    </tr>\n",
       "    <tr>\n",
       "        <td>14</td>\n",
       "    </tr>\n",
       "</table>"
      ],
      "text/plain": [
       "[(14,)]"
      ]
     },
     "execution_count": 47,
     "metadata": {},
     "output_type": "execute_result"
    }
   ],
   "source": [
    "%%sql\n",
    "SELECT COUNT(*)\n",
    "FROM prlv\n",
    "WHERE conclusionprel <> 'Eau d''alimentation conforme aux exigences de qualité en vigueur pour l''ensemble des paramètres mesurés.'\n",
    "AND nomcommuneprinc = 'HEROUVILLE-SAINT-CLAIR';"
   ]
  },
  {
   "cell_type": "code",
   "execution_count": 44,
   "metadata": {},
   "outputs": [],
   "source": [
    "\"\"\"\n",
    "une fonction anomalies() prenant un curseur et un nom de commune \n",
    "et qui renvoie la date et la conclusion du prélévement \n",
    "(champ conclusionprel dans Prelevements dans la commune) \n",
    "et la référence du prélèvement (champ referenceprel dans Prelevements) en cas d'anomalie. \n",
    "Vous repèrerez dans la base la phrase type lorsque tout va bien !\n",
    "\n",
    "Eau d'alimentation conforme aux exigences de qualité en vigueur pour l'ensemble des paramètres mesurés.\n",
    "\"\"\"\n",
    "def anomalies(c, com):\n",
    "    #requete = f'SELECT DISTINCT IdCommune, nomcommune FROM Communes WHERE inseecommune LIKE \"{}\";'.format(cdep)\n",
    "    requete = f\"SELECT dateprel, conclusionprel, referenceprel FROM prlv WHERE conclusionprel <> 'Eau d''alimentation conforme aux exigences de qualité en vigueur pour l''ensemble des paramètres mesurés.' AND nomcommuneprinc LIKE '{com}%';\".format(com)\n",
    "    c.execute(requete)\n",
    "    r = c.fetchall()\n",
    "    if len(r) == 0:\n",
    "        return None\n",
    "    elif len(r) >= 1:\n",
    "        liste = []\n",
    "        for i in range(len(r)) :\n",
    "            liste.append((r[i][0],r[i][1],r[i][2]))\n",
    "        return liste"
   ]
  },
  {
   "cell_type": "code",
   "execution_count": null,
   "metadata": {},
   "outputs": [],
   "source": [
    "anomalies(curseur, \"HEROUVILLE-SAINT-CLAIR\")"
   ]
  },
  {
   "cell_type": "code",
   "execution_count": null,
   "metadata": {},
   "outputs": [],
   "source": [
    "# YOUR CODE HERE"
   ]
  },
  {
   "cell_type": "code",
   "execution_count": null,
   "metadata": {},
   "outputs": [],
   "source": [
    "resultats(curseur, \"01400207768\")"
   ]
  },
  {
   "cell_type": "markdown",
   "metadata": {},
   "source": [
    "### Amusez vous\n",
    "\n",
    "Interrogez la base de données pour rechercher des anomalies dans votre commune ou les environs, et récupérez les résultats détaillés des analyses en cas de problème pour identifier la source de l'anomalie.\n",
    "\n",
    "Au fil de votre parcours de la base, vous pouvez avoir envie de créer d'autres fonctions pour afficher d'autres informations. Ne vous privez pas !!!"
   ]
  },
  {
   "cell_type": "code",
   "execution_count": null,
   "metadata": {},
   "outputs": [],
   "source": [
    "# Amusez vous !\n",
    "liste_communes(curseur,14)"
   ]
  },
  {
   "cell_type": "code",
   "execution_count": null,
   "metadata": {},
   "outputs": [],
   "source": []
  },
  {
   "cell_type": "code",
   "execution_count": null,
   "metadata": {},
   "outputs": [],
   "source": []
  },
  {
   "cell_type": "markdown",
   "metadata": {},
   "source": [
    "\n",
    "### Pour aller plus loin\n",
    "\n",
    "Vous avez les outils à présent pout construire une application graphique (avec TKInter par exemple) ou bien un site web (avec PHP ou Flask par exemple) mettant à disposition ces résultats. Cela peut faire l'objet d'un projet.\n",
    "\n",
    "## Fin du travail\n",
    "\n",
    "On n'oublie pas de fermer l'accès à la base de données :)\n",
    "\n",
    "Vous aurez pu constater au cours de vos requêtes que les réponses de la base de données sont immédiates malgré les millions d'enregistrement que celle-ci contient !!\n",
    "\n",
    "Voici un petit aperçu de l'utilisation d'une base de donnée dans le monde réel."
   ]
  },
  {
   "cell_type": "code",
   "execution_count": null,
   "metadata": {},
   "outputs": [],
   "source": [
    "bdd.close()"
   ]
  }
 ],
 "metadata": {
  "kernelspec": {
   "display_name": "Python 3",
   "language": "python",
   "name": "python3"
  },
  "language_info": {
   "codemirror_mode": {
    "name": "ipython",
    "version": 3
   },
   "file_extension": ".py",
   "mimetype": "text/x-python",
   "name": "python",
   "nbconvert_exporter": "python",
   "pygments_lexer": "ipython3",
   "version": "3.8.3"
  }
 },
 "nbformat": 4,
 "nbformat_minor": 4
}
