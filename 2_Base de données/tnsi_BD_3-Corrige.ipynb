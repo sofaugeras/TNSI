{
 "cells": [
  {
   "cell_type": "markdown",
   "metadata": {},
   "source": [
    "# SQL 3/3\n",
    "> Cours NSI Terminale - Thème 2."
   ]
  },
  {
   "cell_type": "markdown",
   "metadata": {},
   "source": [
    "# Manipuler les données avec SQL\n",
    "\n",
    "Dans ce dernier TP, nous allons voir comment insérer, mettre à jour ou supprimer des enregistrements dans des tables.\n",
    "\n",
    "Commencez par valider les cellules suivantes afin d'activer la fonctionnalité SQL de Jupyter et de charger la base du TP précédent."
   ]
  },
  {
   "cell_type": "code",
   "execution_count": 1,
   "metadata": {},
   "outputs": [],
   "source": [
    "%load_ext sql\n",
    "\n",
    "%sql sqlite:///livres_db"
   ]
  },
  {
   "cell_type": "markdown",
   "metadata": {},
   "source": [
    "## Insérer un enregistrement dans une table\n",
    "\n",
    "Nous avons déjà rencontré cerre requète **INSERT**. Elle s'applique que la table soit vide ou nom. On peut très bien ajouter par exemple une troisième langue dans notre table **Langues**"
   ]
  },
  {
   "cell_type": "code",
   "execution_count": 2,
   "metadata": {},
   "outputs": [
    {
     "name": "stdout",
     "output_type": "stream",
     "text": [
      " * sqlite:///livres_db\n",
      "1 rows affected.\n"
     ]
    },
    {
     "data": {
      "text/plain": [
       "[]"
      ]
     },
     "execution_count": 2,
     "metadata": {},
     "output_type": "execute_result"
    }
   ],
   "source": [
    "%sql INSERT INTO Langues (Langue) VALUES('Klingon');"
   ]
  },
  {
   "cell_type": "code",
   "execution_count": 3,
   "metadata": {},
   "outputs": [
    {
     "name": "stdout",
     "output_type": "stream",
     "text": [
      " * sqlite:///livres_db\n",
      "Done.\n"
     ]
    },
    {
     "data": {
      "text/html": [
       "<table>\n",
       "    <tr>\n",
       "        <th>IdLangue</th>\n",
       "        <th>Langue</th>\n",
       "    </tr>\n",
       "    <tr>\n",
       "        <td>1</td>\n",
       "        <td>Anglais</td>\n",
       "    </tr>\n",
       "    <tr>\n",
       "        <td>2</td>\n",
       "        <td>Français</td>\n",
       "    </tr>\n",
       "    <tr>\n",
       "        <td>3</td>\n",
       "        <td>Klingon</td>\n",
       "    </tr>\n",
       "</table>"
      ],
      "text/plain": [
       "[(1, 'Anglais'), (2, 'Français'), (3, 'Klingon')]"
      ]
     },
     "execution_count": 3,
     "metadata": {},
     "output_type": "execute_result"
    }
   ],
   "source": [
    "# Vérifions :\n",
    "%sql SELECT * FROM Langues;"
   ]
  },
  {
   "cell_type": "markdown",
   "metadata": {},
   "source": [
    "## Mise a jour, effacement : UPDATE et DELETE\n",
    "\n",
    "Les requêtes **UPDATE** et **DELETE** fonctionnent sur le même modèle que les requêtes **SELECT**.  Attention, on a vite fait d'effacer toutes ses données si on ne configure pas bien sa requête. Une bonne habitude à prendre est de tester d'abord ses critères à l'aide d'un **SELECT**.\n",
    "\n",
    "Observez les exemples ci-dessous :"
   ]
  },
  {
   "cell_type": "code",
   "execution_count": 4,
   "metadata": {},
   "outputs": [
    {
     "name": "stdout",
     "output_type": "stream",
     "text": [
      " * sqlite:///livres_db\n",
      "Done.\n"
     ]
    },
    {
     "data": {
      "text/html": [
       "<table>\n",
       "    <tr>\n",
       "        <th>NomAuteur</th>\n",
       "    </tr>\n",
       "    <tr>\n",
       "        <td>Verne</td>\n",
       "    </tr>\n",
       "</table>"
      ],
      "text/plain": [
       "[('Verne',)]"
      ]
     },
     "execution_count": 4,
     "metadata": {},
     "output_type": "execute_result"
    }
   ],
   "source": [
    "%sql SELECT NomAuteur FROM Auteurs WHERE IdAuteur = 10;"
   ]
  },
  {
   "cell_type": "markdown",
   "metadata": {},
   "source": [
    "C'est bien lui !!\n",
    "\n",
    "Modifions le nom de l'auteur grâce à une requête de mise à jour : \n",
    "\n",
    "**UPDATE** *table* <br>\n",
    "**SET**  *attribut1* = *valeur1*, *attribut2* = *valeur2*, ...<br>\n",
    "**WHERE** *critère*;"
   ]
  },
  {
   "cell_type": "code",
   "execution_count": 5,
   "metadata": {},
   "outputs": [
    {
     "name": "stdout",
     "output_type": "stream",
     "text": [
      " * sqlite:///livres_db\n",
      "1 rows affected.\n",
      "Done.\n"
     ]
    },
    {
     "data": {
      "text/html": [
       "<table>\n",
       "    <tr>\n",
       "        <th>IdAuteur</th>\n",
       "        <th>NomAuteur</th>\n",
       "        <th>PrenomAuteur</th>\n",
       "        <th>IdLangue</th>\n",
       "        <th>AnneeNaissance</th>\n",
       "    </tr>\n",
       "    <tr>\n",
       "        <td>1</td>\n",
       "        <td>Orwell</td>\n",
       "        <td>George</td>\n",
       "        <td>1</td>\n",
       "        <td>1903</td>\n",
       "    </tr>\n",
       "    <tr>\n",
       "        <td>2</td>\n",
       "        <td>Herbert</td>\n",
       "        <td>Frank</td>\n",
       "        <td>1</td>\n",
       "        <td>1920</td>\n",
       "    </tr>\n",
       "    <tr>\n",
       "        <td>3</td>\n",
       "        <td>Asimov</td>\n",
       "        <td>Isaac</td>\n",
       "        <td>1</td>\n",
       "        <td>1920</td>\n",
       "    </tr>\n",
       "    <tr>\n",
       "        <td>4</td>\n",
       "        <td>Huxley</td>\n",
       "        <td>Aldous</td>\n",
       "        <td>1</td>\n",
       "        <td>1894</td>\n",
       "    </tr>\n",
       "    <tr>\n",
       "        <td>5</td>\n",
       "        <td>Bradbury</td>\n",
       "        <td>Ray</td>\n",
       "        <td>1</td>\n",
       "        <td>1920</td>\n",
       "    </tr>\n",
       "    <tr>\n",
       "        <td>6</td>\n",
       "        <td>K. Dick</td>\n",
       "        <td>Philip</td>\n",
       "        <td>1</td>\n",
       "        <td>1928</td>\n",
       "    </tr>\n",
       "    <tr>\n",
       "        <td>7</td>\n",
       "        <td>Barjavel</td>\n",
       "        <td>René</td>\n",
       "        <td>2</td>\n",
       "        <td>1911</td>\n",
       "    </tr>\n",
       "    <tr>\n",
       "        <td>8</td>\n",
       "        <td>Boulle</td>\n",
       "        <td>Pierre</td>\n",
       "        <td>2</td>\n",
       "        <td>1912</td>\n",
       "    </tr>\n",
       "    <tr>\n",
       "        <td>9</td>\n",
       "        <td>Van Vogt</td>\n",
       "        <td>Alfred Elton</td>\n",
       "        <td>1</td>\n",
       "        <td>1912</td>\n",
       "    </tr>\n",
       "    <tr>\n",
       "        <td>10</td>\n",
       "        <td>Ze Djloule</td>\n",
       "        <td>Juju</td>\n",
       "        <td>2</td>\n",
       "        <td>1828</td>\n",
       "    </tr>\n",
       "</table>"
      ],
      "text/plain": [
       "[(1, 'Orwell', 'George', 1, 1903),\n",
       " (2, 'Herbert', 'Frank', 1, 1920),\n",
       " (3, 'Asimov', 'Isaac', 1, 1920),\n",
       " (4, 'Huxley', 'Aldous', 1, 1894),\n",
       " (5, 'Bradbury', 'Ray', 1, 1920),\n",
       " (6, 'K. Dick', 'Philip', 1, 1928),\n",
       " (7, 'Barjavel', 'René', 2, 1911),\n",
       " (8, 'Boulle', 'Pierre', 2, 1912),\n",
       " (9, 'Van Vogt', 'Alfred Elton', 1, 1912),\n",
       " (10, 'Ze Djloule', 'Juju', 2, 1828)]"
      ]
     },
     "execution_count": 5,
     "metadata": {},
     "output_type": "execute_result"
    }
   ],
   "source": [
    "%%sql \n",
    "\n",
    "UPDATE Auteurs \n",
    "SET NomAuteur = \"Ze Djloule\", PrenomAuteur = \"Juju\"\n",
    "WHERE IdAuteur=10;\n",
    "\n",
    "SELECT * FROM Auteurs ;"
   ]
  },
  {
   "cell_type": "markdown",
   "metadata": {},
   "source": [
    "supprimons vite cette entrée ! Nous utiliserons une requête\n",
    "**DELETE FROM** *table* **WHERE** *critere*\n",
    "\n",
    "**Attention** : soyez bien sûr de votre critère sous peine de perdre des données importantes !"
   ]
  },
  {
   "cell_type": "code",
   "execution_count": 6,
   "metadata": {},
   "outputs": [
    {
     "name": "stdout",
     "output_type": "stream",
     "text": [
      " * sqlite:///livres_db\n",
      "1 rows affected.\n",
      "Done.\n"
     ]
    },
    {
     "data": {
      "text/html": [
       "<table>\n",
       "    <tr>\n",
       "        <th>IdAuteur</th>\n",
       "        <th>NomAuteur</th>\n",
       "        <th>PrenomAuteur</th>\n",
       "        <th>IdLangue</th>\n",
       "        <th>AnneeNaissance</th>\n",
       "    </tr>\n",
       "    <tr>\n",
       "        <td>1</td>\n",
       "        <td>Orwell</td>\n",
       "        <td>George</td>\n",
       "        <td>1</td>\n",
       "        <td>1903</td>\n",
       "    </tr>\n",
       "    <tr>\n",
       "        <td>2</td>\n",
       "        <td>Herbert</td>\n",
       "        <td>Frank</td>\n",
       "        <td>1</td>\n",
       "        <td>1920</td>\n",
       "    </tr>\n",
       "    <tr>\n",
       "        <td>3</td>\n",
       "        <td>Asimov</td>\n",
       "        <td>Isaac</td>\n",
       "        <td>1</td>\n",
       "        <td>1920</td>\n",
       "    </tr>\n",
       "    <tr>\n",
       "        <td>4</td>\n",
       "        <td>Huxley</td>\n",
       "        <td>Aldous</td>\n",
       "        <td>1</td>\n",
       "        <td>1894</td>\n",
       "    </tr>\n",
       "    <tr>\n",
       "        <td>5</td>\n",
       "        <td>Bradbury</td>\n",
       "        <td>Ray</td>\n",
       "        <td>1</td>\n",
       "        <td>1920</td>\n",
       "    </tr>\n",
       "    <tr>\n",
       "        <td>6</td>\n",
       "        <td>K. Dick</td>\n",
       "        <td>Philip</td>\n",
       "        <td>1</td>\n",
       "        <td>1928</td>\n",
       "    </tr>\n",
       "    <tr>\n",
       "        <td>7</td>\n",
       "        <td>Barjavel</td>\n",
       "        <td>René</td>\n",
       "        <td>2</td>\n",
       "        <td>1911</td>\n",
       "    </tr>\n",
       "    <tr>\n",
       "        <td>8</td>\n",
       "        <td>Boulle</td>\n",
       "        <td>Pierre</td>\n",
       "        <td>2</td>\n",
       "        <td>1912</td>\n",
       "    </tr>\n",
       "    <tr>\n",
       "        <td>9</td>\n",
       "        <td>Van Vogt</td>\n",
       "        <td>Alfred Elton</td>\n",
       "        <td>1</td>\n",
       "        <td>1912</td>\n",
       "    </tr>\n",
       "</table>"
      ],
      "text/plain": [
       "[(1, 'Orwell', 'George', 1, 1903),\n",
       " (2, 'Herbert', 'Frank', 1, 1920),\n",
       " (3, 'Asimov', 'Isaac', 1, 1920),\n",
       " (4, 'Huxley', 'Aldous', 1, 1894),\n",
       " (5, 'Bradbury', 'Ray', 1, 1920),\n",
       " (6, 'K. Dick', 'Philip', 1, 1928),\n",
       " (7, 'Barjavel', 'René', 2, 1911),\n",
       " (8, 'Boulle', 'Pierre', 2, 1912),\n",
       " (9, 'Van Vogt', 'Alfred Elton', 1, 1912)]"
      ]
     },
     "execution_count": 6,
     "metadata": {},
     "output_type": "execute_result"
    }
   ],
   "source": [
    "%%sql \n",
    "\n",
    "DELETE  FROM Auteurs  WHERE IdAuteur=10;\n",
    "\n",
    "SELECT * FROM Auteurs;"
   ]
  },
  {
   "cell_type": "markdown",
   "metadata": {},
   "source": [
    "### Attention à la cohérence des données\n",
    "\n",
    "Dans une base de données relationnelle il faut être vigilant lors de la suppression d'enregistrements : en effet la suppression d'un enregistrement entraîne la suppression de sa clé primaire qui peut être utilisée en tant que clé externe dans une autre table. Cela entraîne la corruption des données. Observez l'exemple ci-dessous dans lequel je me suis attribué un livre célèbre sans toucher à la table **Livres**\n",
    "\n",
    "Il existe en SQL des moyens pour se prémunir de ce type de problèmes mais cela dépasse le cadre de ce cours."
   ]
  },
  {
   "cell_type": "code",
   "execution_count": 7,
   "metadata": {},
   "outputs": [
    {
     "name": "stdout",
     "output_type": "stream",
     "text": [
      " * sqlite:///livres_db\n",
      "1 rows affected.\n",
      "Done.\n"
     ]
    },
    {
     "data": {
      "text/html": [
       "<table>\n",
       "    <tr>\n",
       "        <th>Titre</th>\n",
       "        <th>NomAuteur</th>\n",
       "    </tr>\n",
       "    <tr>\n",
       "        <td>1984</td>\n",
       "        <td>Orwell</td>\n",
       "    </tr>\n",
       "    <tr>\n",
       "        <td>Dune</td>\n",
       "        <td>Herbert</td>\n",
       "    </tr>\n",
       "    <tr>\n",
       "        <td>Fondation</td>\n",
       "        <td>Asimov</td>\n",
       "    </tr>\n",
       "    <tr>\n",
       "        <td>Le meilleur des mondes</td>\n",
       "        <td>Huxley</td>\n",
       "    </tr>\n",
       "    <tr>\n",
       "        <td>Fahrenheit 451</td>\n",
       "        <td>Bradbury</td>\n",
       "    </tr>\n",
       "    <tr>\n",
       "        <td>Ubik</td>\n",
       "        <td>K. Dick</td>\n",
       "    </tr>\n",
       "    <tr>\n",
       "        <td>Chroniques martiennes</td>\n",
       "        <td>Bradbury</td>\n",
       "    </tr>\n",
       "    <tr>\n",
       "        <td>La nuit des temps</td>\n",
       "        <td>Barjavel</td>\n",
       "    </tr>\n",
       "    <tr>\n",
       "        <td>Blade Runner</td>\n",
       "        <td>K. Dick</td>\n",
       "    </tr>\n",
       "    <tr>\n",
       "        <td>Les Robots</td>\n",
       "        <td>Asimov</td>\n",
       "    </tr>\n",
       "    <tr>\n",
       "        <td>La Planète des singes</td>\n",
       "        <td>Boulle</td>\n",
       "    </tr>\n",
       "    <tr>\n",
       "        <td>Ravage</td>\n",
       "        <td>Barjavel</td>\n",
       "    </tr>\n",
       "    <tr>\n",
       "        <td>Le Maître du Haut Château</td>\n",
       "        <td>K. Dick</td>\n",
       "    </tr>\n",
       "    <tr>\n",
       "        <td>Le monde des A</td>\n",
       "        <td>Van Vogt</td>\n",
       "    </tr>\n",
       "    <tr>\n",
       "        <td>La Fin de l’éternité</td>\n",
       "        <td>Asimov</td>\n",
       "    </tr>\n",
       "    <tr>\n",
       "        <td>De la Terre à la Lune</td>\n",
       "        <td>Lecluse</td>\n",
       "    </tr>\n",
       "</table>"
      ],
      "text/plain": [
       "[('1984', 'Orwell'),\n",
       " ('Dune', 'Herbert'),\n",
       " ('Fondation', 'Asimov'),\n",
       " ('Le meilleur des mondes', 'Huxley'),\n",
       " ('Fahrenheit 451', 'Bradbury'),\n",
       " ('Ubik', 'K. Dick'),\n",
       " ('Chroniques martiennes', 'Bradbury'),\n",
       " ('La nuit des temps', 'Barjavel'),\n",
       " ('Blade Runner', 'K. Dick'),\n",
       " ('Les Robots', 'Asimov'),\n",
       " ('La Planète des singes', 'Boulle'),\n",
       " ('Ravage', 'Barjavel'),\n",
       " ('Le Maître du Haut Château', 'K. Dick'),\n",
       " ('Le monde des A', 'Van Vogt'),\n",
       " ('La Fin de l’éternité', 'Asimov'),\n",
       " ('De la Terre à la Lune', 'Lecluse')]"
      ]
     },
     "execution_count": 7,
     "metadata": {},
     "output_type": "execute_result"
    }
   ],
   "source": [
    "%%sql\n",
    "INSERT INTO Auteurs \n",
    "    (NomAuteur, PrenomAuteur, IdLangue, AnneeNaissance) \n",
    "VALUES\n",
    "    (\"Lecluse\", \"Olivier\", 2, 1850);\n",
    "    \n",
    "SELECT Titre, NomAuteur from Livres JOIN Auteurs USING (IdAuteur);"
   ]
  },
  {
   "cell_type": "markdown",
   "metadata": {},
   "source": [
    "### A vous de jouer\n",
    "\n",
    "1. Réinsérez l'auteur Jules Verne à sa place !\n",
    "1. Supprimez tous les livres écrits au 19e sciecle"
   ]
  },
  {
   "cell_type": "code",
   "execution_count": 8,
   "metadata": {},
   "outputs": [
    {
     "name": "stdout",
     "output_type": "stream",
     "text": [
      " * sqlite:///livres_db\n",
      "1 rows affected.\n",
      "1 rows affected.\n"
     ]
    },
    {
     "data": {
      "text/plain": [
       "[]"
      ]
     },
     "execution_count": 8,
     "metadata": {},
     "output_type": "execute_result"
    }
   ],
   "source": [
    "%%sql\n",
    "\n",
    "DELETE  FROM Auteurs  WHERE IdAuteur=10;\n",
    "INSERT INTO Auteurs \n",
    "    (NomAuteur, PrenomAuteur, IdLangue, AnneeNaissance) \n",
    "VALUES\n",
    "    (\"Verne\", \"Jules\", 2, 1850);"
   ]
  },
  {
   "cell_type": "code",
   "execution_count": 12,
   "metadata": {},
   "outputs": [
    {
     "name": "stdout",
     "output_type": "stream",
     "text": [
      " * sqlite:///livres_db\n",
      "Done.\n"
     ]
    },
    {
     "data": {
      "text/html": [
       "<table>\n",
       "    <tr>\n",
       "        <th>Titre</th>\n",
       "        <th>AnneePubli</th>\n",
       "    </tr>\n",
       "    <tr>\n",
       "        <td>1984</td>\n",
       "        <td>Orwell</td>\n",
       "    </tr>\n",
       "    <tr>\n",
       "        <td>Dune</td>\n",
       "        <td>Herbert</td>\n",
       "    </tr>\n",
       "    <tr>\n",
       "        <td>Fondation</td>\n",
       "        <td>Asimov</td>\n",
       "    </tr>\n",
       "    <tr>\n",
       "        <td>Le meilleur des mondes</td>\n",
       "        <td>Huxley</td>\n",
       "    </tr>\n",
       "    <tr>\n",
       "        <td>Fahrenheit 451</td>\n",
       "        <td>Bradbury</td>\n",
       "    </tr>\n",
       "    <tr>\n",
       "        <td>Ubik</td>\n",
       "        <td>K. Dick</td>\n",
       "    </tr>\n",
       "    <tr>\n",
       "        <td>Chroniques martiennes</td>\n",
       "        <td>Bradbury</td>\n",
       "    </tr>\n",
       "    <tr>\n",
       "        <td>La nuit des temps</td>\n",
       "        <td>Barjavel</td>\n",
       "    </tr>\n",
       "    <tr>\n",
       "        <td>Blade Runner</td>\n",
       "        <td>K. Dick</td>\n",
       "    </tr>\n",
       "    <tr>\n",
       "        <td>Les Robots</td>\n",
       "        <td>Asimov</td>\n",
       "    </tr>\n",
       "    <tr>\n",
       "        <td>La Planète des singes</td>\n",
       "        <td>Boulle</td>\n",
       "    </tr>\n",
       "    <tr>\n",
       "        <td>Ravage</td>\n",
       "        <td>Barjavel</td>\n",
       "    </tr>\n",
       "    <tr>\n",
       "        <td>Le Maître du Haut Château</td>\n",
       "        <td>K. Dick</td>\n",
       "    </tr>\n",
       "    <tr>\n",
       "        <td>Le monde des A</td>\n",
       "        <td>Van Vogt</td>\n",
       "    </tr>\n",
       "    <tr>\n",
       "        <td>La Fin de l’éternité</td>\n",
       "        <td>Asimov</td>\n",
       "    </tr>\n",
       "    <tr>\n",
       "        <td>De la Terre à la Lune</td>\n",
       "        <td>Verne</td>\n",
       "    </tr>\n",
       "</table>"
      ],
      "text/plain": [
       "[('1984', 'Orwell'),\n",
       " ('Dune', 'Herbert'),\n",
       " ('Fondation', 'Asimov'),\n",
       " ('Le meilleur des mondes', 'Huxley'),\n",
       " ('Fahrenheit 451', 'Bradbury'),\n",
       " ('Ubik', 'K. Dick'),\n",
       " ('Chroniques martiennes', 'Bradbury'),\n",
       " ('La nuit des temps', 'Barjavel'),\n",
       " ('Blade Runner', 'K. Dick'),\n",
       " ('Les Robots', 'Asimov'),\n",
       " ('La Planète des singes', 'Boulle'),\n",
       " ('Ravage', 'Barjavel'),\n",
       " ('Le Maître du Haut Château', 'K. Dick'),\n",
       " ('Le monde des A', 'Van Vogt'),\n",
       " ('La Fin de l’éternité', 'Asimov'),\n",
       " ('De la Terre à la Lune', 'Verne')]"
      ]
     },
     "execution_count": 12,
     "metadata": {},
     "output_type": "execute_result"
    }
   ],
   "source": [
    "result = %sql SELECT Titre, NomAuteur AnneePubli from Livres JOIN Auteurs USING (IdAuteur);\n",
    "result"
   ]
  },
  {
   "cell_type": "code",
   "execution_count": 13,
   "metadata": {},
   "outputs": [],
   "source": [
    "assert len(result) == 16"
   ]
  },
  {
   "cell_type": "code",
   "execution_count": null,
   "metadata": {},
   "outputs": [],
   "source": []
  }
 ],
 "metadata": {
  "kernelspec": {
   "display_name": "Python 3",
   "language": "python",
   "name": "python3"
  },
  "language_info": {
   "codemirror_mode": {
    "name": "ipython",
    "version": 3
   },
   "file_extension": ".py",
   "mimetype": "text/x-python",
   "name": "python",
   "nbconvert_exporter": "python",
   "pygments_lexer": "ipython3",
   "version": "3.8.3"
  }
 },
 "nbformat": 4,
 "nbformat_minor": 4
}
