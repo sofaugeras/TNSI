{
 "cells": [
  {
   "cell_type": "markdown",
   "metadata": {},
   "source": [
    "# Bases de données avec Python\n",
    "\n",
    "> Cours NSI Terminale - Thème 2."
   ]
  },
  {
   "cell_type": "markdown",
   "metadata": {},
   "source": [
    "# Exploiter une base de données avec Python\n",
    "\n",
    "Dans ce TP, nous allons reprendre notre base de données d'exemples sur les livres, mais nous allons utiliser Python pour exécuter et exploiter les requêtes SQL. \n",
    "\n",
    "Notre SGBD sera toujours SQLite : le module python que nous utiliserons se nomme **sqlite3**.\n",
    "\n",
    "Si vous ne possédez pas cette base des TP précédents, vous pouvez la récupérer [ici](https://www.lecluse.fr/nsi/NSI_T/bdd/livres_db)."
   ]
  },
  {
   "cell_type": "code",
   "execution_count": 2,
   "metadata": {},
   "outputs": [],
   "source": [
    "import sqlite3"
   ]
  },
  {
   "cell_type": "markdown",
   "metadata": {},
   "source": [
    "Le module étant importé, nous devons réaliser deux actions pour pouvoir commencer à utiliser notre base :\n",
    "- ouvrir le fichier de base de données\n",
    "- créer un curseur\n",
    "\n",
    "Le *curseur* est un objet python offrant des méthodes pour exécuter des requêtes et récupérer le ou les résultats de ces requêtes."
   ]
  },
  {
   "cell_type": "code",
   "execution_count": 6,
   "metadata": {},
   "outputs": [],
   "source": [
    "bdd = sqlite3.connect(\"livres_db\")\n",
    "curseur = bdd.cursor()"
   ]
  },
  {
   "cell_type": "markdown",
   "metadata": {},
   "source": [
    "*livres_db* est le nom du fichier contenant la base de donnéees SQLite que nous allons exploiter. Si le fichier n'existe pas, une nouvelle base de données sera créée.\n",
    "\n",
    "## Exécuter des requêtes de sélection\n",
    "\n",
    "### Le principe\n",
    "\n",
    "Reste ensuite à exécuter notre première requête. Pour cela, nous utiliserons la méthode **execute()** du curseur, la requête étant une chaîne de caractères passée en paramètre."
   ]
  },
  {
   "cell_type": "code",
   "execution_count": 7,
   "metadata": {},
   "outputs": [
    {
     "data": {
      "text/plain": [
       "<sqlite3.Cursor at 0x2b5bca9b0a0>"
      ]
     },
     "execution_count": 7,
     "metadata": {},
     "output_type": "execute_result"
    }
   ],
   "source": [
    "requete = \"SELECT * FROM Livres;\"\n",
    "curseur.execute(requete)"
   ]
  },
  {
   "cell_type": "markdown",
   "metadata": {},
   "source": [
    "Pour visualiser le résultat de notre requête, nous utiliserons encore notre curseur. Deux méthodes permettent principalement de le faire :\n",
    "- **fetchone()** pour récupérer un résultat puis avancer le curseur d'un cran\n",
    "- **fetchall()** pour récupérer d'un coup tous les résultats. \n",
    "\n",
    "Regardez les exemples ci-dessous pour mieux comprendre comment fonctionne le curseur : il s'agit littéralement d'un curseur que l'on déplace de résultat en résultat. Vous vous en rendrez compte en exécutant plusieurs fois la cellule ci-dessous."
   ]
  },
  {
   "cell_type": "code",
   "execution_count": 8,
   "metadata": {},
   "outputs": [
    {
     "data": {
      "text/plain": [
       "(1, '1984', 1, 1949)"
      ]
     },
     "execution_count": 8,
     "metadata": {},
     "output_type": "execute_result"
    }
   ],
   "source": [
    "curseur.fetchone()"
   ]
  },
  {
   "cell_type": "markdown",
   "metadata": {},
   "source": [
    "Vous constatez que le résultat est un *tuple*  dont les éléments correspondent aux attributs sélectionnés : ici c'est \\*. Il n'est pas facile de se rappeler de l'ordre des attributs. Pour cela vous pouvez faire appel à la propriété :"
   ]
  },
  {
   "cell_type": "code",
   "execution_count": 9,
   "metadata": {},
   "outputs": [
    {
     "data": {
      "text/plain": [
       "(('IdLivre', None, None, None, None, None, None),\n",
       " ('Titre', None, None, None, None, None, None),\n",
       " ('IdAuteur', None, None, None, None, None, None),\n",
       " ('AnneePubli', None, None, None, None, None, None))"
      ]
     },
     "execution_count": 9,
     "metadata": {},
     "output_type": "execute_result"
    }
   ],
   "source": [
    "curseur.description"
   ]
  },
  {
   "cell_type": "markdown",
   "metadata": {},
   "source": [
    "et pour rendre la réponse plus lisible, une petite liste en compréhension ;). Et voilà les attributs de colonne en clair dans l'ordre ou ils apparaissent dans le résultat de la requête !"
   ]
  },
  {
   "cell_type": "code",
   "execution_count": 7,
   "metadata": {},
   "outputs": [
    {
     "data": {
      "text/plain": [
       "['IdLivre', 'Titre', 'IdAuteur', 'AnneePubli']"
      ]
     },
     "execution_count": 7,
     "metadata": {},
     "output_type": "execute_result"
    }
   ],
   "source": [
    "[d[0] for d in curseur.description]"
   ]
  },
  {
   "cell_type": "markdown",
   "metadata": {},
   "source": [
    "A présent, le fonctionnement de **fetchall()** ne devrait pas vous étonner : on récupère logiquement un tuple avec tous les résultats."
   ]
  },
  {
   "cell_type": "code",
   "execution_count": 8,
   "metadata": {},
   "outputs": [
    {
     "data": {
      "text/plain": [
       "[(2, 'Dune', 2, 1965),\n",
       " (3, 'Fondation', 3, 1951),\n",
       " (4, 'Le meilleur des mondes', 4, 1931),\n",
       " (5, 'Fahrenheit 451', 5, 1953),\n",
       " (6, 'Ubik', 6, 1969),\n",
       " (7, 'Chroniques martiennes', 5, 1950),\n",
       " (8, 'La nuit des temps', 7, 1968),\n",
       " (9, 'Blade Runner', 6, 1968),\n",
       " (10, 'Les Robots', 3, 1950),\n",
       " (11, 'La Planète des singes', 8, 1963),\n",
       " (12, 'Ravage', 7, 1943),\n",
       " (13, 'Le Maître du Haut Château', 6, 1962),\n",
       " (14, 'Le monde des A', 9, 1945),\n",
       " (15, 'La Fin de l’éternité', 3, 1955),\n",
       " (16, 'De la Terre à la Lune', 10, 1865)]"
      ]
     },
     "execution_count": 8,
     "metadata": {},
     "output_type": "execute_result"
    }
   ],
   "source": [
    "curseur.fetchall()"
   ]
  },
  {
   "cell_type": "markdown",
   "metadata": {},
   "source": [
    "Si vous avez suivi les instructions précédentes, vous devriez constater qu'il manque des enregistrements. Pourquoi ?\n",
    "Un indice : si vous réexécutez une nouvelle fois la méthode **fetchall()** du curseur, celle-ci ne renverra rien !\n",
    "\n",
    "Et oui, c'est la notion de curseur qui se déplace au fur à mesure qu'unb résultat est donné : les précédents appels de **fetchone()** ont fait avancer le curseur, et de même, **fetchall()** positionne le curseur à la toute fin.\n",
    "\n",
    "Pour retrouver tous les résultats à nouveau, il faut réexécuter la requête. Evitez donc de mélanger **fetchone()** et **fetchall()** sous peine de ne plus trop savoir ou en est le curseur et ce que vous récupérez.\n",
    "\n",
    "Voici donc le moyen le plus simple de récupérer tous les résultats d'une requête d'un coup."
   ]
  },
  {
   "cell_type": "code",
   "execution_count": 9,
   "metadata": {},
   "outputs": [
    {
     "data": {
      "text/plain": [
       "[(1, '1984', 1, 1949),\n",
       " (2, 'Dune', 2, 1965),\n",
       " (3, 'Fondation', 3, 1951),\n",
       " (4, 'Le meilleur des mondes', 4, 1931),\n",
       " (5, 'Fahrenheit 451', 5, 1953),\n",
       " (6, 'Ubik', 6, 1969),\n",
       " (7, 'Chroniques martiennes', 5, 1950),\n",
       " (8, 'La nuit des temps', 7, 1968),\n",
       " (9, 'Blade Runner', 6, 1968),\n",
       " (10, 'Les Robots', 3, 1950),\n",
       " (11, 'La Planète des singes', 8, 1963),\n",
       " (12, 'Ravage', 7, 1943),\n",
       " (13, 'Le Maître du Haut Château', 6, 1962),\n",
       " (14, 'Le monde des A', 9, 1945),\n",
       " (15, 'La Fin de l’éternité', 3, 1955),\n",
       " (16, 'De la Terre à la Lune', 10, 1865)]"
      ]
     },
     "execution_count": 9,
     "metadata": {},
     "output_type": "execute_result"
    }
   ],
   "source": [
    "curseur.execute(requete)\n",
    "resultats = curseur.fetchall()\n",
    "resultats"
   ]
  },
  {
   "cell_type": "markdown",
   "metadata": {},
   "source": [
    "### Construire des requêtes à partir de variables python\n",
    "\n",
    "Nous allons dans l'exemple suivant écrire une fonction **prenom()** \n",
    "- qui prend en paramètre un curseur et un nom d'auteur\n",
    "- qui renvoie son prénom\n",
    "\n",
    "Si le nom de l'auteur ne figure pas dans la table *Auteurs*, la fonction renverra **None**."
   ]
  },
  {
   "cell_type": "code",
   "execution_count": 56,
   "metadata": {},
   "outputs": [],
   "source": [
    "def prenom(c, nom):\n",
    "    requete = \"SELECT PrenomAuteur FROM Auteurs WHERE NomAuteur = ?\"\n",
    "    c.execute(requete, [nom])\n",
    "    r = c.fetchall()\n",
    "    if len(r) == 0:\n",
    "        return None\n",
    "    elif len(r) == 1:\n",
    "        return r[0][0]"
   ]
  },
  {
   "cell_type": "code",
   "execution_count": 57,
   "metadata": {},
   "outputs": [
    {
     "data": {
      "text/plain": [
       "'Jules'"
      ]
     },
     "execution_count": 57,
     "metadata": {},
     "output_type": "execute_result"
    }
   ],
   "source": [
    "prenom(curseur, \"Verne\")"
   ]
  },
  {
   "cell_type": "markdown",
   "metadata": {},
   "source": [
    "### Explications\n",
    "\n",
    "Dans cet exemple, nous construisons une requête à partir d'une variable Python. SQLite propose un mécanisme de substitution sécurisé permettant d'injecter une ou plusieurs variables à l'intérieur d'une requête. **C'est ce mécanisme que vous devez utiliser** : ne construisez pas vous même la chaîne de caractère contenant la requête complète, c'est une mauvaise pratique qui vous conduira inévitablement à des problèmes.\n",
    "\n",
    "Pour utiliser ce mécanisme de substitution, vous devez\n",
    "- mettre des **?** dans votre requête à l'emplacement de la variable à insérer\n",
    "- passer en second paramètre la liste des valeurs à substituer dans la requête\n",
    "\n",
    "C'est simple, fiable et sécurisé, en particulier contre les [injections SQL](https://xkcd.com/327/) !"
   ]
  },
  {
   "cell_type": "markdown",
   "metadata": {},
   "source": [
    "### A vous de jouer\n",
    "\n",
    "Ecrivez une fonction **romans()** \n",
    "- qui prend en paramètre un curseur et un nom d'auteur\n",
    "- qui renvoie une liste de *Titres* de romans écrits par cet auteur\n",
    "\n",
    "Si le nom de l'auteur ne figure pas dans la table *Auteurs*, la fonction renverra **None**."
   ]
  },
  {
   "cell_type": "code",
   "execution_count": 69,
   "metadata": {},
   "outputs": [],
   "source": [
    "def romans(c, nom):\n",
    "    requete = \"SELECT Titre FROM Livres JOIN Auteurs USING(idAuteur) WHERE NomAuteur = ? ;\"\n",
    "    c.execute(requete, [nom])\n",
    "    r = c.fetchall()\n",
    "    if len(r) == 0:\n",
    "        return None\n",
    "    elif len(r) >= 1:\n",
    "        liste = []\n",
    "        for i in range(len(r)) :\n",
    "            liste.append(r[i][0])\n",
    "        return liste"
   ]
  },
  {
   "cell_type": "code",
   "execution_count": 70,
   "metadata": {},
   "outputs": [],
   "source": [
    "assert romans(curseur, \"Asimov\") == ['Fondation', 'Les Robots', 'La Fin de l’éternité']\n",
    "assert romans(curseur, \"Verne\") == ['De la Terre à la Lune']"
   ]
  },
  {
   "cell_type": "markdown",
   "metadata": {},
   "source": [
    "## Insérer de nouveaux enregistrements\n",
    "\n",
    "Les requêtes de modification sur la base se font de la même manière que les requêtes de sélection, à une petite subtilité près : après exécution de la requête, il faudra faire appel à la méthode **commit()** de l'objet *bdd* (issu de la connexion) afin que les modifications soient prises en compte dans le fichier de base de données. \n",
    "\n",
    "**Attention** : Si vous oubliez l'appel à commit, vos modifications seront perdues lorsque vous quitterez votre programme car elles ne seront pas inscrites dans le fichier de la base de données."
   ]
  },
  {
   "cell_type": "code",
   "execution_count": 71,
   "metadata": {},
   "outputs": [],
   "source": [
    "requete = \"\"\"\n",
    "INSERT INTO Auteurs \n",
    "  (NomAuteur, PrenomAuteur, IdLangue, AnneeNaissance)\n",
    "VALUES\n",
    "  ('Lecluse', 'Olivier', 2, 1870);\n",
    "\"\"\"\n",
    "\n",
    "curseur.execute(requete)\n",
    "bdd.commit()"
   ]
  },
  {
   "cell_type": "markdown",
   "metadata": {},
   "source": [
    "la propriété **lastrowid** peut être intéressante car elle donne accès à la clé primaire créée automatiquement pour notre nouvel enregistrement. En voici une utilisation :"
   ]
  },
  {
   "cell_type": "code",
   "execution_count": 72,
   "metadata": {},
   "outputs": [
    {
     "data": {
      "text/plain": [
       "11"
      ]
     },
     "execution_count": 72,
     "metadata": {},
     "output_type": "execute_result"
    }
   ],
   "source": [
    "last_id = curseur.lastrowid\n",
    "last_id "
   ]
  },
  {
   "cell_type": "code",
   "execution_count": 73,
   "metadata": {},
   "outputs": [
    {
     "data": {
      "text/plain": [
       "(11, 'Lecluse', 'Olivier', 2, 1870)"
      ]
     },
     "execution_count": 73,
     "metadata": {},
     "output_type": "execute_result"
    }
   ],
   "source": [
    "requete = \"SELECT * FROM Auteurs WHERE IdAuteur = ?\"\n",
    "curseur.execute(requete, [last_id])\n",
    "curseur.fetchone()"
   ]
  },
  {
   "cell_type": "markdown",
   "metadata": {},
   "source": [
    "### A vous de jouer\n",
    "Effacez de la table auteur ce dernier enregistrement que nous avons créé."
   ]
  },
  {
   "cell_type": "code",
   "execution_count": 74,
   "metadata": {},
   "outputs": [],
   "source": [
    "requete = \"DELETE FROM Auteurs WHERE IdAuteur = ?\"\n",
    "curseur.execute(requete, [last_id])\n",
    "curseur.fetchone()"
   ]
  },
  {
   "cell_type": "code",
   "execution_count": 77,
   "metadata": {},
   "outputs": [],
   "source": [
    "requete = \"SELECT COUNT(*) from Auteurs\"\n",
    "curseur.execute(requete)\n",
    "assert curseur.fetchone()[0] == 11"
   ]
  },
  {
   "cell_type": "code",
   "execution_count": 78,
   "metadata": {},
   "outputs": [
    {
     "data": {
      "text/plain": [
       "[(0, 'Lecluse', 'Olivier', 2, 1870),\n",
       " (1, 'Orwell', 'George', 1, 1903),\n",
       " (2, 'Herbert', 'Frank', 1, 1920),\n",
       " (3, 'Asimov', 'Isaac', 1, 1920),\n",
       " (4, 'Huxley', 'Aldous', 1, 1894),\n",
       " (5, 'Bradbury', 'Ray', 1, 1920),\n",
       " (6, 'K. Dick', 'Philip', 1, 1928),\n",
       " (7, 'Barjavel', 'René', 2, 1911),\n",
       " (8, 'Boulle', 'Pierre', 2, 1912),\n",
       " (9, 'Van Vogt', 'Alfred Elton', 1, 1912),\n",
       " (10, 'Verne', 'Jules', 2, 1828)]"
      ]
     },
     "execution_count": 78,
     "metadata": {},
     "output_type": "execute_result"
    }
   ],
   "source": [
    "curseur.execute(\"SELECT * FROM Auteurs\")\n",
    "curseur.fetchall()"
   ]
  },
  {
   "cell_type": "markdown",
   "metadata": {},
   "source": [
    "## Pour Finir\n",
    "\n",
    "Notre travail sur la BDD exemple est à présent terminé. Afin de fermer le fichier proprement et de s'assurer que les données saisies seront bien inscrites dans le fichier, il faut *impérativement* appeler la méthode **close()** sur l'objet *bdd* :"
   ]
  },
  {
   "cell_type": "code",
   "execution_count": 79,
   "metadata": {},
   "outputs": [],
   "source": [
    "bdd.close()"
   ]
  },
  {
   "cell_type": "code",
   "execution_count": 80,
   "metadata": {},
   "outputs": [
    {
     "data": {
      "text/plain": [
       "<sqlite3.Cursor at 0x2b5bca9b0a0>"
      ]
     },
     "execution_count": 80,
     "metadata": {},
     "output_type": "execute_result"
    }
   ],
   "source": [
    "curseur"
   ]
  },
  {
   "cell_type": "markdown",
   "metadata": {},
   "source": [
    "A partir de ce moment là, plus acune opération n'est possible sur la base de données comme le montre la cellule suivante :"
   ]
  },
  {
   "cell_type": "code",
   "execution_count": null,
   "metadata": {},
   "outputs": [],
   "source": [
    "requete = \"SELECT COUNT(*) from Auteurs\"\n",
    "curseur.execute(requete)"
   ]
  }
 ],
 "metadata": {
  "kernelspec": {
   "display_name": "Python 3",
   "language": "python",
   "name": "python3"
  },
  "language_info": {
   "codemirror_mode": {
    "name": "ipython",
    "version": 3
   },
   "file_extension": ".py",
   "mimetype": "text/x-python",
   "name": "python",
   "nbconvert_exporter": "python",
   "pygments_lexer": "ipython3",
   "version": "3.8.3"
  }
 },
 "nbformat": 4,
 "nbformat_minor": 4
}
