{
 "cells": [
  {
   "cell_type": "markdown",
   "metadata": {},
   "source": [
    "# SQL 3/3\n",
    "> Cours NSI Terminale - Thème 2."
   ]
  },
  {
   "cell_type": "markdown",
   "metadata": {},
   "source": [
    "# Manipuler les données avec SQL\n",
    "\n",
    "Dans ce dernier TP, nous allons voir comment insérer, mettre à jour ou supprimer des enregistrements dans des tables.\n",
    "\n",
    "Commencez par valider les cellules suivantes afin d'activer la fonctionnalité SQL de Jupyter et de charger la base du TP précédent."
   ]
  },
  {
   "cell_type": "code",
   "execution_count": null,
   "metadata": {},
   "outputs": [],
   "source": [
    "%load_ext sql\n",
    "\n",
    "%sql sqlite:///livres_db"
   ]
  },
  {
   "cell_type": "markdown",
   "metadata": {},
   "source": [
    "## Insérer un enregistrement dans une table\n",
    "\n",
    "Nous avons déjà rencontré cerre requète **INSERT**. Elle s'applique que la table soit vide ou nom. On peut très bien ajouter par exemple une troisième langue dans notre table **Langues**"
   ]
  },
  {
   "cell_type": "code",
   "execution_count": null,
   "metadata": {},
   "outputs": [],
   "source": [
    "%sql INSERT INTO Langues (Langue) VALUES('Klingon');"
   ]
  },
  {
   "cell_type": "code",
   "execution_count": null,
   "metadata": {},
   "outputs": [],
   "source": [
    "# Vérifions :\n",
    "%sql SELECT * FROM Langues;"
   ]
  },
  {
   "cell_type": "markdown",
   "metadata": {},
   "source": [
    "## Mise a jour, effacement : UPDATE et DELETE\n",
    "\n",
    "Les requêtes **UPDATE** et **DELETE** fonctionnent sur le même modèle que les requêtes **SELECT**.  Attention, on a vite fait d'effacer toutes ses données si on ne configure pas bien sa requête. Une bonne habitude à prendre est de tester d'abord ses critères à l'aide d'un **SELECT**.\n",
    "\n",
    "Observez les exemples ci-dessous :"
   ]
  },
  {
   "cell_type": "code",
   "execution_count": null,
   "metadata": {},
   "outputs": [],
   "source": [
    "%sql SELECT NomAuteur FROM Auteurs WHERE IdAuteur = 10;"
   ]
  },
  {
   "cell_type": "markdown",
   "metadata": {},
   "source": [
    "C'est bien lui !!\n",
    "\n",
    "Modifions le nom de l'auteur grâce à une requête de mise à jour : \n",
    "\n",
    "**UPDATE** *table* <br>\n",
    "**SET**  *attribut1* = *valeur1*, *attribut2* = *valeur2*, ...<br>\n",
    "**WHERE** *critère*;"
   ]
  },
  {
   "cell_type": "code",
   "execution_count": null,
   "metadata": {},
   "outputs": [],
   "source": [
    "%%sql \n",
    "\n",
    "UPDATE Auteurs \n",
    "SET NomAuteur = \"Ze Djloule\", PrenomAuteur = \"Juju\"\n",
    "WHERE IdAuteur=10;\n",
    "\n",
    "SELECT * FROM Auteurs ;"
   ]
  },
  {
   "cell_type": "markdown",
   "metadata": {},
   "source": [
    "supprimons vite cette entrée ! Nous utiliserons une requête\n",
    "**DELETE FROM** *table* **WHERE** *critere*\n",
    "\n",
    "**Attention** : soyez bien sûr de votre critère sous peine de perdre des données importantes !"
   ]
  },
  {
   "cell_type": "code",
   "execution_count": null,
   "metadata": {},
   "outputs": [],
   "source": [
    "%%sql \n",
    "\n",
    "DELETE  FROM Auteurs  WHERE IdAuteur=10;\n",
    "\n",
    "SELECT * FROM Auteurs;"
   ]
  },
  {
   "cell_type": "markdown",
   "metadata": {},
   "source": [
    "### Attention à la cohérence des données\n",
    "\n",
    "Dans une base de données relationnelle il faut être vigilant lors de la suppression d'enregistrements : en effet la suppression d'un enregistrement entraîne la suppression de sa clé primaire qui peut être utilisée en tant que clé externe dans une autre table. Cela entraîne la corruption des données. Observez l'exemple ci-dessous dans lequel je me suis attribué un livre célèbre sans toucher à la table **Livres**\n",
    "\n",
    "Il existe en SQL des moyens pour se prémunir de ce type de problèmes mais cela dépasse le cadre de ce cours."
   ]
  },
  {
   "cell_type": "code",
   "execution_count": null,
   "metadata": {},
   "outputs": [],
   "source": [
    "%%sql\n",
    "INSERT INTO Auteurs \n",
    "    (NomAuteur, PrenomAuteur, IdLangue, AnneeNaissance) \n",
    "VALUES\n",
    "    (\"Lecluse\", \"Olivier\", 2, 1850);\n",
    "    \n",
    "SELECT Titre, NomAuteur from Livres JOIN Auteurs USING (IdAuteur);"
   ]
  },
  {
   "cell_type": "markdown",
   "metadata": {},
   "source": [
    "### A vous de jouer\n",
    "\n",
    "1. Réinsérez l'auteur Jules Verne à sa place !\n",
    "1. Supprimez tous les livres écrits au 19e sciecle"
   ]
  },
  {
   "cell_type": "code",
   "execution_count": null,
   "metadata": {},
   "outputs": [],
   "source": [
    "%%sql\n",
    "\n",
    "/* \n",
    "# YOUR CODE HERE\n",
    "\n",
    "*/"
   ]
  },
  {
   "cell_type": "markdown",
   "metadata": {},
   "source": [
    "result = %sql SELECT Titre, NomAuteur AnneePubli from Livres JOIN Auteurs USING (IdAuteur);"
   ]
  },
  {
   "cell_type": "code",
   "execution_count": null,
   "metadata": {},
   "outputs": [],
   "source": [
    "assert len(result) == 15"
   ]
  },
  {
   "cell_type": "code",
   "execution_count": null,
   "metadata": {},
   "outputs": [],
   "source": []
  }
 ],
 "metadata": {
  "kernelspec": {
   "display_name": "Python 3",
   "language": "python",
   "name": "python3"
  },
  "language_info": {
   "codemirror_mode": {
    "name": "ipython",
    "version": 3
   },
   "file_extension": ".py",
   "mimetype": "text/x-python",
   "name": "python",
   "nbconvert_exporter": "python",
   "pygments_lexer": "ipython3",
   "version": "3.8.3"
  }
 },
 "nbformat": 4,
 "nbformat_minor": 4
}
