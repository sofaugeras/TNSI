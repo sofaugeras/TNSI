{
 "cells": [
  {
   "cell_type": "markdown",
   "metadata": {},
   "source": [
    "<center> <h1> Remise en route </h1></center>"
   ]
  },
  {
   "cell_type": "markdown",
   "metadata": {},
   "source": [
    "## 0 _ Memo Python\n",
    "[Lien vers le memo](https://isn-icn-ljm.pagesperso-orange.fr/NSI-TLE/res/res_memo_python.pdf)\n",
    "\n",
    "## Lien vers le dépôt des cours de Première \n",
    "[Lien vers github](https://github.com/sofaugeras/1NSI)\n"
   ]
  },
  {
   "cell_type": "markdown",
   "metadata": {},
   "source": [
    "## Ajouter ici les sites de références que vous utilisez pour Python"
   ]
  },
  {
   "cell_type": "markdown",
   "metadata": {},
   "source": [
    "ici ..."
   ]
  },
  {
   "cell_type": "markdown",
   "metadata": {},
   "source": [
    "# Pour bien commencer ...\n",
    "\n",
    "## Quelques exercices ;-)"
   ]
  },
  {
   "cell_type": "markdown",
   "metadata": {},
   "source": [
    "### Exercice 1 :\n",
    "Écrire une fonction somme(L), qui prend en paramètre une liste d'entiers et qui retourne la somme de ses éléments."
   ]
  },
  {
   "cell_type": "code",
   "execution_count": null,
   "metadata": {},
   "outputs": [],
   "source": [
    "\"\"\" Exercice 1\"\"\"\n",
    "# import de la bibliothèque random\n",
    "from random import*\n",
    "# remplissage d'une liste avec des entiers\n",
    "L=[randint(0,100) for i in range(20)]\n",
    "\n",
    "def somme(L):\n",
    "  # écrire votre code ici"
   ]
  },
  {
   "cell_type": "markdown",
   "metadata": {},
   "source": [
    "## Exercice 2 : \n",
    "Écrire une fonction maxi(L), qui prend en paramètre une liste d'entiers et qui retourne le plus grand de ses éléments."
   ]
  },
  {
   "cell_type": "code",
   "execution_count": null,
   "metadata": {},
   "outputs": [],
   "source": []
  },
  {
   "cell_type": "markdown",
   "metadata": {},
   "source": [
    "## Exercice 3 : \n",
    "Écrire une fonction mini(L), qui prend en paramètre une liste d'entiers et qui retourne le plus petit de ses éléments."
   ]
  },
  {
   "cell_type": "code",
   "execution_count": null,
   "metadata": {},
   "outputs": [],
   "source": []
  },
  {
   "cell_type": "markdown",
   "metadata": {},
   "source": [
    "## Exercice 4 :\n",
    "Écrire une fonction inverse(mot) qui prend en paramètre un mot et qui renvoie le mot écrit à l'envers.\n",
    "exemple : mot = bonjour ---> roujnob"
   ]
  },
  {
   "cell_type": "code",
   "execution_count": null,
   "metadata": {},
   "outputs": [],
   "source": []
  },
  {
   "cell_type": "markdown",
   "metadata": {},
   "source": [
    "## Exercice 5 : \n",
    "Implémenter l'algorithme de tri par insertion ci -dessous :\n",
    "![Algo du tri par insertion](data/image_tri_insertion.png)"
   ]
  },
  {
   "cell_type": "code",
   "execution_count": null,
   "metadata": {},
   "outputs": [],
   "source": []
  },
  {
   "cell_type": "markdown",
   "metadata": {},
   "source": [
    "## Exercice 6 :\n",
    "![Algo mystere](data/image_conversion.png)\n",
    "La réaliser en rajoutant une spécification."
   ]
  },
  {
   "cell_type": "code",
   "execution_count": null,
   "metadata": {},
   "outputs": [],
   "source": []
  },
  {
   "cell_type": "markdown",
   "metadata": {},
   "source": [
    "## Exercice 7 :\n",
    "Écrire une fonction deconvers(mot,b) qui fait le contraire de la fonction de l'exercice 7.\n",
    "\n",
    "Aide : l'instruction print(signes.index(\"A\")) affiche 10.\n",
    "\n",
    "Par exemple : Si mot = \"FA3 \" , signes.index(mot[1]) renvoie 10"
   ]
  },
  {
   "cell_type": "code",
   "execution_count": null,
   "metadata": {},
   "outputs": [],
   "source": []
  },
  {
   "cell_type": "markdown",
   "metadata": {},
   "source": [
    "## Exercice 8 :\n",
    "1. Faire une recherche sur la suite de Fibonacci\n",
    "2. Ecrire une fonction qui affiche les n premiers termes de la suite de Fibonacci."
   ]
  },
  {
   "cell_type": "markdown",
   "metadata": {},
   "source": [
    "# Premier DM "
   ]
  },
  {
   "cell_type": "markdown",
   "metadata": {},
   "source": [
    "**Sujet :** \n",
    "En vous inspirant de l'algorithme de tri par sélection et de [cette page](https://isn-icn-ljm.pagesperso-orange.fr/tri2/index.html) et/ou de [cette vidéo](https://www.youtube.com/watch?v=lyZQPjUT5B4)\n",
    ", réaliser un algorithme et son implémentation en Python du tri à bulle.\n",
    "Vous produirez un notebook pour le rendu de ce DM.\n",
    "\n",
    "Vous veillerez à utiliser une docstring pour spécifier vos fonctions. Vous veillerez également à tester chacune de vos fonctions en utilisant les assertations.\n",
    "\n",
    "__A rendre pour **Lundi 7 septembre** sur ED ou par mail.__"
   ]
  },
  {
   "cell_type": "code",
   "execution_count": null,
   "metadata": {},
   "outputs": [],
   "source": []
  }
 ],
 "metadata": {
  "kernelspec": {
   "display_name": "Python 3",
   "language": "python",
   "name": "python3"
  },
  "language_info": {
   "codemirror_mode": {
    "name": "ipython",
    "version": 3
   },
   "file_extension": ".py",
   "mimetype": "text/x-python",
   "name": "python",
   "nbconvert_exporter": "python",
   "pygments_lexer": "ipython3",
   "version": "3.7.6"
  }
 },
 "nbformat": 4,
 "nbformat_minor": 4
}
