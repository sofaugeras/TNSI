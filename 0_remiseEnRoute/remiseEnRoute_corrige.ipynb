{
 "cells": [
  {
   "cell_type": "markdown",
   "metadata": {},
   "source": [
    "<center> <h1> Remise en route </h1></center>"
   ]
  },
  {
   "cell_type": "markdown",
   "metadata": {},
   "source": [
    "## 0 _ Memo Python\n",
    "[Lien vers le memo](https://isn-icn-ljm.pagesperso-orange.fr/NSI-TLE/res/res_memo_python.pdf)\n",
    "\n",
    "## Lien vers le dépôt des cours de Première \n",
    "[Lien vers github](https://github.com/sofaugeras/1NSI)\n"
   ]
  },
  {
   "cell_type": "markdown",
   "metadata": {},
   "source": [
    "## Ajouter ici les sites de références que vous utilisez pour Python"
   ]
  },
  {
   "cell_type": "markdown",
   "metadata": {},
   "source": [
    "ici ..."
   ]
  },
  {
   "cell_type": "markdown",
   "metadata": {},
   "source": [
    "# Pour bien commencer ...\n",
    "\n",
    "## Quelques exercices ;-)"
   ]
  },
  {
   "cell_type": "markdown",
   "metadata": {},
   "source": [
    "### Exercice 1 :\n",
    "Écrire une fonction somme(L), qui prend en paramètre une liste d'entiers et qui retourne la somme de ses éléments."
   ]
  },
  {
   "cell_type": "code",
   "execution_count": 15,
   "metadata": {},
   "outputs": [],
   "source": [
    "\"\"\" Exercice 1\"\"\"\n",
    "# import de la bibliothèque random\n",
    "from random import*\n",
    "# remplissage d'une liste avec des entiers\n",
    "L=[randint(0,100) for i in range(20)]\n",
    "\n",
    "def somme(L):\n",
    "    somme = 0\n",
    "    for e in L :\n",
    "        somme = somme + e\n",
    "    return somme"
   ]
  },
  {
   "cell_type": "code",
   "execution_count": 16,
   "metadata": {},
   "outputs": [
    {
     "name": "stdout",
     "output_type": "stream",
     "text": [
      "935\n"
     ]
    }
   ],
   "source": [
    "print(somme(L))"
   ]
  },
  {
   "cell_type": "markdown",
   "metadata": {},
   "source": [
    "## Exercice 2 : \n",
    "Écrire une fonction maxi(L), qui prend en paramètre une liste d'entiers et qui retourne le plus grand de ses éléments."
   ]
  },
  {
   "cell_type": "code",
   "execution_count": 42,
   "metadata": {},
   "outputs": [],
   "source": [
    "\"\"\" Exercice 2\"\"\"\n",
    "# import de la bibliothèque random\n",
    "from random import*\n",
    "# remplissage d'une liste avec des entiers\n",
    "L=[randint(0,100) for i in range(20)]\n",
    "\n",
    "def maximum(L):\n",
    "    max = L[0]\n",
    "    for i in range(len(L)-1) :\n",
    "        if L[i+1] > max :\n",
    "            max = L[i+1]\n",
    "    return max"
   ]
  },
  {
   "cell_type": "code",
   "execution_count": 43,
   "metadata": {},
   "outputs": [
    {
     "name": "stdout",
     "output_type": "stream",
     "text": [
      "94\n",
      "94\n"
     ]
    }
   ],
   "source": [
    "print(maximum(L))\n",
    "print(max(L))"
   ]
  },
  {
   "cell_type": "markdown",
   "metadata": {},
   "source": [
    "## Exercice 3 : \n",
    "Écrire une fonction mini(L), qui prend en paramètre une liste d'entiers et qui retourne le plus petit de ses éléments."
   ]
  },
  {
   "cell_type": "code",
   "execution_count": 47,
   "metadata": {},
   "outputs": [],
   "source": [
    "\"\"\" Exercice 3\"\"\"\n",
    "# import de la bibliothèque random\n",
    "from random import*\n",
    "# remplissage d'une liste avec des entiers\n",
    "L=[randint(0,100) for i in range(20)]\n",
    "\n",
    "def minimum(L):\n",
    "    mini = L[0]\n",
    "    for i in range(len(L)-1) :\n",
    "        if L[i+1] < mini :\n",
    "            mini = L[i+1]\n",
    "    return mini"
   ]
  },
  {
   "cell_type": "code",
   "execution_count": 48,
   "metadata": {},
   "outputs": [
    {
     "name": "stdout",
     "output_type": "stream",
     "text": [
      "1\n",
      "1\n"
     ]
    }
   ],
   "source": [
    "print(minimum(L))\n",
    "print(min(L))"
   ]
  },
  {
   "cell_type": "markdown",
   "metadata": {},
   "source": [
    "## Exercice 4 :\n",
    "Écrire une fonction inverse(mot) qui prend en paramètre un mot et qui renvoie le mot écrit à l'envers.\n",
    "exemple : mot = bonjour ---> roujnob"
   ]
  },
  {
   "cell_type": "code",
   "execution_count": 65,
   "metadata": {},
   "outputs": [],
   "source": [
    "\"\"\" Exercice 4\"\"\"\n",
    "def inverse(mot):\n",
    "    inverse = \"\"\n",
    "    inverse= mot[len(mot)-1]\n",
    "    for i in range(2,len(mot)+1):\n",
    "        inverse = inverse + mot[-i]\n",
    "    return inverse"
   ]
  },
  {
   "cell_type": "code",
   "execution_count": 69,
   "metadata": {},
   "outputs": [
    {
     "name": "stdout",
     "output_type": "stream",
     "text": [
      "gfedcba\n"
     ]
    }
   ],
   "source": [
    "print(inverse(\"abcdefg\"))"
   ]
  },
  {
   "cell_type": "markdown",
   "metadata": {},
   "source": [
    "## Exercice 5 : \n",
    "Implémenter l'algorithme de tri par insertion ci -dessous :\n",
    "![Algo du tri par insertion](data/image_tri_insertion.png)"
   ]
  },
  {
   "cell_type": "code",
   "execution_count": 70,
   "metadata": {},
   "outputs": [],
   "source": [
    "def tri(l) :\n",
    "    for k in range(1,len(l)):\n",
    "        cle = l[k]\n",
    "        i = k-1\n",
    "        while  i>=0 and l[i] > cle :\n",
    "            l[i+1] = l[i]\n",
    "            i = i -1\n",
    "        l[i+1] = cle"
   ]
  },
  {
   "cell_type": "code",
   "execution_count": 71,
   "metadata": {},
   "outputs": [
    {
     "name": "stdout",
     "output_type": "stream",
     "text": [
      "[1, 2, 4, 5, 7, 8]\n"
     ]
    }
   ],
   "source": [
    "a = [7, 5, 2, 8, 1, 4]\n",
    "tri(a)\n",
    "print(a)"
   ]
  },
  {
   "cell_type": "markdown",
   "metadata": {},
   "source": [
    "## Exercice 6 :\n",
    "![Algo mystere](data/image_conversion.png)\n",
    "La réaliser en rajoutant une spécification, ainsi que les assertions nécessaires pour bien tester cette fonction."
   ]
  },
  {
   "cell_type": "code",
   "execution_count": 72,
   "metadata": {},
   "outputs": [],
   "source": [
    "def conversion(n,b) :\n",
    "    signes = \"0123456789ABCDEFGHIJKLMNOPQRSTUVWXYZ\"\n",
    "    mot = \"\"\n",
    "    while n!=0:\n",
    "        mot = signes[n%b] + mot\n",
    "        n = n//b\n",
    "    return mot"
   ]
  },
  {
   "cell_type": "code",
   "execution_count": 77,
   "metadata": {},
   "outputs": [
    {
     "name": "stdout",
     "output_type": "stream",
     "text": [
      "30\n"
     ]
    }
   ],
   "source": [
    "print(conversion(15,5))"
   ]
  },
  {
   "cell_type": "markdown",
   "metadata": {},
   "source": [
    "## Exercice 7 :\n",
    "Écrire une fonction deconvers(mot,b) qui fait le contraire de la fonction de l'exercice 7.\n",
    "\n",
    "Aide : l'instruction print(signes.index(\"A\")) affiche 10.\n",
    "\n",
    "Par exemple : Si mot = \"FA3 \" , signes.index(mot[1]) renvoie 10"
   ]
  },
  {
   "cell_type": "code",
   "execution_count": 113,
   "metadata": {},
   "outputs": [],
   "source": [
    "def deconvers(mot,b):\n",
    "    signes = \"0123456789ABCDEFGHIJKLMNOPQRSTUVWXYZ\"\n",
    "    n = 0\n",
    "    for i in range(len(mot)):\n",
    "        n = n + (signes.index(mot[i])*(b**(len(mot)-1-i)))\n",
    "    return n"
   ]
  },
  {
   "cell_type": "code",
   "execution_count": 115,
   "metadata": {},
   "outputs": [
    {
     "name": "stdout",
     "output_type": "stream",
     "text": [
      "9\n"
     ]
    }
   ],
   "source": [
    "print(deconvers(\"30\",3))"
   ]
  },
  {
   "cell_type": "markdown",
   "metadata": {},
   "source": [
    "## Exercice 8 :\n",
    "1. Faire une recherche sur la suite de Fibonacci\n",
    "2. Ecrire une fonction qui affiche les n premiers termes de la suite de Fibonacci."
   ]
  },
  {
   "cell_type": "markdown",
   "metadata": {},
   "source": [
    "La suite de Fibonacci est une suites de nombres entiers de 0, 1, 1, 2, 3, 5, 8 ….\n",
    "\n",
    "Les deux premiers termes sont 0 et 1. Tous les autres termes sont obtenus en ajoutant les deux termes précédents. Cela signifie que le nième terme est la somme des (n-1)ème et (n-2)ème terme.\n",
    "\n",
    "source : (https://waytolearnx.com/2019/04/programme-python-pour-afficher-la-suite-de-fibonacci.html)"
   ]
  },
  {
   "cell_type": "code",
   "execution_count": 125,
   "metadata": {},
   "outputs": [],
   "source": [
    " def Fibo(n) :\n",
    "    n1 = 0\n",
    "    n2 = 1\n",
    " \n",
    "    print(\"\\n la suite fibonacci est :\")\n",
    "    print(n1, \",\", n2, end=\", \")\n",
    " \n",
    "    for i in range(2, n):\n",
    "        suivant = n1 + n2\n",
    "        print(suivant, end=\", \")\n",
    "        n1 = n2\n",
    "        n2 = suivant"
   ]
  },
  {
   "cell_type": "code",
   "execution_count": 126,
   "metadata": {},
   "outputs": [
    {
     "name": "stdout",
     "output_type": "stream",
     "text": [
      "\n",
      " la suite fibonacci est :\n",
      "0 , 1, 1, None\n"
     ]
    }
   ],
   "source": [
    "print(Fibo(3))"
   ]
  },
  {
   "cell_type": "markdown",
   "metadata": {},
   "source": [
    "# Premier DM "
   ]
  },
  {
   "cell_type": "markdown",
   "metadata": {},
   "source": [
    "**Sujet :** \n",
    "En vous inspirant de l'algorithme de tri par sélection et de [cette page](https://isn-icn-ljm.pagesperso-orange.fr/tri2/index.html) et/ou de [cette vidéo](https://www.youtube.com/watch?v=lyZQPjUT5B4)\n",
    ", réaliser un algorithme et son implémentation en Python du tri à bulle.\n",
    "Vous produirez un notebook pour le rendu de ce DM.\n",
    "\n",
    "__A rendre pour **Lundi 7 septembre** sur ED ou par mail.__"
   ]
  },
  {
   "cell_type": "code",
   "execution_count": null,
   "metadata": {},
   "outputs": [],
   "source": []
  }
 ],
 "metadata": {
  "kernelspec": {
   "display_name": "Python 3",
   "language": "python",
   "name": "python3"
  },
  "language_info": {
   "codemirror_mode": {
    "name": "ipython",
    "version": 3
   },
   "file_extension": ".py",
   "mimetype": "text/x-python",
   "name": "python",
   "nbconvert_exporter": "python",
   "pygments_lexer": "ipython3",
   "version": "3.7.6"
  }
 },
 "nbformat": 4,
 "nbformat_minor": 4
}
