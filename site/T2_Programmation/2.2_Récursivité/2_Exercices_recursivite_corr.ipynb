{
  "nbformat": 4,
  "nbformat_minor": 0,
  "metadata": {
    "kernelspec": {
      "display_name": "Python 3.6.9 64-bit",
      "language": "python",
      "name": "python36964bit9f899ef1f6144dc3be0f32d67042f5ff"
    },
    "language_info": {
      "codemirror_mode": {
        "name": "ipython",
        "version": 3
      },
      "file_extension": ".py",
      "mimetype": "text/x-python",
      "name": "python",
      "nbconvert_exporter": "python",
      "pygments_lexer": "ipython3",
      "version": "3.6.9"
    },
    "colab": {
      "name": "Copie de 2_Exercices_recursivite.ipynb",
      "provenance": [],
      "collapsed_sections": []
    }
  },
  "cells": [
    {
      "cell_type": "markdown",
      "metadata": {
        "id": "dGNQCbpqMhmn"
      },
      "source": [
        "## Exercice 1\n",
        "Écrire une fonction récursive ```puissance(x,n)``` qui calcule le nombre $x^n$."
      ]
    },
    {
      "cell_type": "code",
      "metadata": {
        "id": "MvsA5N4hPaLn"
      },
      "source": [
        "def puissance(x,n):\n",
        "  if n == 0 :\n",
        "    return 1\n",
        "  else :\n",
        "    return x*puissance(x,n-1)"
      ],
      "execution_count": null,
      "outputs": []
    },
    {
      "cell_type": "code",
      "metadata": {
        "id": "ndYiurtuMhmq",
        "outputId": "b4c0a3f6-2d6f-4e6b-8471-6f0a2db0e9b8",
        "colab": {
          "base_uri": "https://localhost:8080/",
          "height": 34
        }
      },
      "source": [
        "puissance(2,10)"
      ],
      "execution_count": null,
      "outputs": [
        {
          "output_type": "execute_result",
          "data": {
            "text/plain": [
              "1024"
            ]
          },
          "metadata": {
            "tags": []
          },
          "execution_count": 4
        }
      ]
    },
    {
      "cell_type": "markdown",
      "metadata": {
        "id": "BaNdVEm-Mhm2"
      },
      "source": [
        "## Exercice 2\n",
        "Écrire une fonction récursive ```boucle(i,k)``` qui affiche les entiers entre ```i``` et ```k```. Par exemple, ```boucle(2,5)``` doit afficher ```2 3 4 5```"
      ]
    },
    {
      "cell_type": "code",
      "metadata": {
        "id": "Bjcp81EXMhm9"
      },
      "source": [
        "def boucle(i,k):\n",
        "  if i == k :\n",
        "    print(i)\n",
        "  else :\n",
        "    print(i)\n",
        "    boucle(i+1,k)"
      ],
      "execution_count": 10,
      "outputs": []
    },
    {
      "cell_type": "code",
      "metadata": {
        "id": "x7vS9QxU39Ur",
        "outputId": "6a2dcefe-f223-4f00-dc28-7f48d47fac7a",
        "colab": {
          "base_uri": "https://localhost:8080/",
          "height": 89
        }
      },
      "source": [
        "boucle(2,5)"
      ],
      "execution_count": 11,
      "outputs": [
        {
          "output_type": "stream",
          "text": [
            "2\n",
            "3\n",
            "4\n",
            "5\n"
          ],
          "name": "stdout"
        }
      ]
    },
    {
      "cell_type": "code",
      "metadata": {
        "id": "zxMAMlXX392B"
      },
      "source": [
        ""
      ],
      "execution_count": null,
      "outputs": []
    },
    {
      "cell_type": "markdown",
      "metadata": {
        "id": "TGLb--xOMhnF"
      },
      "source": [
        "## Exercice 3\n",
        "On rappelle que le PGCD (plus grand diviseur commun de deux nombres) vérifie la propriété suivante : si la division euclidienne de $a$ par $b$ s'écrit $a = b \\times q + r$, alors $pgcd(a,b)=pgcd(b,r)$. \n",
        "\n",
        "Cette propriété est à la base de l'algorithme d'Euclide\n",
        "\n",
        "Exemple : $pgcd(24,18)=pgcd(18,6)=pgcd(6,0)$, donc $pgcd(24,18)=6$\n",
        "\n",
        "Écrire un algorithme récursif ```pgcd(a,b)```."
      ]
    },
    {
      "cell_type": "code",
      "metadata": {
        "id": "2aYdHPHvMhnI",
        "outputId": "53521249-77d9-4c1c-fb83-8e8d7aa32818",
        "colab": {
          "base_uri": "https://localhost:8080/",
          "height": 52
        }
      },
      "source": [
        "def pgcd(a,b):\n",
        "  if b == 0 :\n",
        "    return a\n",
        "  else :\n",
        "    return pgcd(b,a%b)\n",
        "\n",
        "def pgcd2(a,b):\n",
        "  return a if b == 0 else pgcd2(b,a%b)\n",
        "\n",
        "\n",
        "print(pgcd(18,12))\n",
        "print(pgcd2(18,12))"
      ],
      "execution_count": null,
      "outputs": [
        {
          "output_type": "stream",
          "text": [
            "6\n",
            "6\n"
          ],
          "name": "stdout"
        }
      ]
    },
    {
      "cell_type": "markdown",
      "metadata": {
        "id": "2F-MmoPiMhnO"
      },
      "source": [
        "## Exercice 4\n",
        "La conjecture de Syracuse (ou de Collatz) postule ceci :  \n",
        "\n",
        "*Prenons un nombre $n$ : si $n$ est pair, on le divise par 2, sinon on le multiplie par 3 puis on ajoute 1. On recommence cette opération tant que possible. Au bout d'un certain temps, on finira toujours par tomber sur le nombre 1.*\n",
        "\n",
        "Proposer un programme récursif ```syracuse(n)``` écrivant tous les termes de la suite de Syracuse, s'arrêtant (on l'espère) à la valeur 1."
      ]
    },
    {
      "cell_type": "code",
      "metadata": {
        "id": "jO1jarZ3MhnQ"
      },
      "source": [
        "def syracuse(n):\n",
        "  print(n)\n",
        "  if n == 1 :\n",
        "    return None\n",
        "  else :\n",
        "    if n % 2 == 0 :\n",
        "      return syracuse(n//2)\n",
        "    else :\n",
        "      return syracuse(3*n+1)"
      ],
      "execution_count": null,
      "outputs": []
    },
    {
      "cell_type": "code",
      "metadata": {
        "id": "2pT6qqligwZC",
        "outputId": "e273dab2-6ad4-4e4f-d761-64788a6c49f6",
        "colab": {
          "base_uri": "https://localhost:8080/",
          "height": 330
        }
      },
      "source": [
        "syracuse(14)"
      ],
      "execution_count": null,
      "outputs": [
        {
          "output_type": "stream",
          "text": [
            "14\n",
            "7\n",
            "22\n",
            "11\n",
            "34\n",
            "17\n",
            "52\n",
            "26\n",
            "13\n",
            "40\n",
            "20\n",
            "10\n",
            "5\n",
            "16\n",
            "8\n",
            "4\n",
            "2\n",
            "1\n"
          ],
          "name": "stdout"
        }
      ]
    },
    {
      "cell_type": "markdown",
      "metadata": {
        "id": "IsD_zVfKMhnX"
      },
      "source": [
        "## Exercice 5\n",
        "Reproduire le dessin suivant, à l'aide du module ```turtle```.  \n",
        "\n",
        "```turtle``` est un hommage au langage LOGO inventé par [Seymour Papert](https://fr.wikipedia.org/wiki/Seymour_Papert) au MIT à la fin des années 60.\n",
        "\n",
        "![](https://github.com/glassus/nsi/blob/master/Terminale/Theme_2_Programmation/2.2_Recursivite/data/carres_turtle.png?raw=1)"
      ]
    },
    {
      "cell_type": "code",
      "metadata": {
        "id": "OfJJBC4yMhnY"
      },
      "source": [
        "from turtle import *\n",
        "\n",
        "\n",
        "def carre(c):\n",
        "    for k in range(4):\n",
        "        forward(c)\n",
        "        right(90)\n",
        "\n",
        "def base(c):\n",
        "    carre(c)\n",
        "    forward(c/2)\n",
        "    right(45)\n",
        "\n",
        "def trace(c):\n",
        "    if c < 5 :\n",
        "        return None\n",
        "    else :\n",
        "        base(c)\n",
        "        return trace(c/(2**0.5))\n",
        "    \n",
        "trace(200)"
      ],
      "execution_count": null,
      "outputs": []
    },
    {
      "cell_type": "markdown",
      "metadata": {
        "id": "_ugjRbZGMhnh"
      },
      "source": [
        "## Exercice 6\n",
        "Proposer une nouvelle fonction récursive ```puissance(x,n)``` qui calcule le nombre $x^n$. Pour optimiser la fonction déjà construite à l'exercice 1, utiliser le fait que :\n",
        "- si $n$ est pair, $a^n=(a \\times a)^{n/2}$\n",
        "- sinon $a^n=a \\times (a \\times a)^{(n-1)/2}$"
      ]
    },
    {
      "cell_type": "code",
      "metadata": {
        "id": "-qdzcakQMhnj"
      },
      "source": [
        "def puissance(x,n):\n",
        "  if n == 0 :\n",
        "    return 1\n",
        "  else :\n",
        "    if n % 2 == 0:\n",
        "      return puissance(x*x,n//2)\n",
        "    else :\n",
        "      return x*puissance(x*x,(n-1)//2)"
      ],
      "execution_count": 1,
      "outputs": []
    },
    {
      "cell_type": "code",
      "metadata": {
        "id": "5QyJUDxc10kN",
        "outputId": "0ea51ef6-8859-4164-9165-2aa8e503b1e9",
        "colab": {
          "base_uri": "https://localhost:8080/",
          "height": 35
        }
      },
      "source": [
        "puissance(10,3)"
      ],
      "execution_count": 2,
      "outputs": [
        {
          "output_type": "execute_result",
          "data": {
            "text/plain": [
              "1000"
            ]
          },
          "metadata": {
            "tags": []
          },
          "execution_count": 2
        }
      ]
    },
    {
      "cell_type": "code",
      "metadata": {
        "id": "5_ZhZZsA14AB",
        "outputId": "86e95ccb-f7a7-4b1f-c402-2ccc89495001",
        "colab": {
          "base_uri": "https://localhost:8080/",
          "height": 35
        }
      },
      "source": [
        "puissance(10,6)"
      ],
      "execution_count": 3,
      "outputs": [
        {
          "output_type": "execute_result",
          "data": {
            "text/plain": [
              "1000000"
            ]
          },
          "metadata": {
            "tags": []
          },
          "execution_count": 3
        }
      ]
    },
    {
      "cell_type": "markdown",
      "metadata": {
        "id": "jCafsAS7Mhnp"
      },
      "source": [
        "## Exercice 7\n",
        "Écrire un algorithme récursif ```recherche(lst,m)``` qui recherche la présence de la valeur ```m``` dans une liste triée ```lst```. Cette fonction doit renvoyer un booléen."
      ]
    },
    {
      "cell_type": "code",
      "metadata": {
        "id": "YExGF0dKMhnq"
      },
      "source": [
        "lst=[5,6,9,12,17]"
      ],
      "execution_count": null,
      "outputs": []
    },
    {
      "cell_type": "code",
      "metadata": {
        "id": "fIDyoK9ZHAKd",
        "outputId": "060c0503-e5ed-40be-8c01-3e2cf55b9207",
        "colab": {
          "base_uri": "https://localhost:8080/",
          "height": 34
        }
      },
      "source": [
        "lst[:3]"
      ],
      "execution_count": null,
      "outputs": [
        {
          "output_type": "stream",
          "text": [
            "[5, 6, 9]\n"
          ],
          "name": "stdout"
        }
      ]
    },
    {
      "cell_type": "code",
      "metadata": {
        "id": "L_Yd1uXHIzyn",
        "outputId": "4c7299cb-ad7c-4b06-8392-26beca78ca22",
        "colab": {
          "base_uri": "https://localhost:8080/",
          "height": 34
        }
      },
      "source": [
        "lst[3:]"
      ],
      "execution_count": null,
      "outputs": [
        {
          "output_type": "execute_result",
          "data": {
            "text/plain": [
              "[12, 17]"
            ]
          },
          "metadata": {
            "tags": []
          },
          "execution_count": 9
        }
      ]
    },
    {
      "cell_type": "code",
      "metadata": {
        "id": "mFkiD6JYJ3DX",
        "outputId": "5b0c916e-e40a-4021-9480-2ff15646ceb7",
        "colab": {
          "base_uri": "https://localhost:8080/",
          "height": 107
        }
      },
      "source": [
        "def recherche(lst,m):\n",
        "  print(lst) # pour voir la taille de la liste diminuer\n",
        "  if len(lst) == 1 :  #cas de base\n",
        "    if lst[0] == m :\n",
        "      return True\n",
        "    else :\n",
        "      return False\n",
        "  else :              #cas récursif\n",
        "      mid = len(lst)//2\n",
        "      if lst[mid] > m :\n",
        "        return recherche(lst[:mid],m)\n",
        "      else :\n",
        "        return recherche(lst[mid:],m)\n",
        "lst=[5,6,9,12,17]\n",
        "\n",
        "recherche(lst,18)"
      ],
      "execution_count": 12,
      "outputs": [
        {
          "output_type": "stream",
          "text": [
            "[5, 6, 9, 12, 17]\n",
            "[9, 12, 17]\n",
            "[12, 17]\n",
            "[17]\n"
          ],
          "name": "stdout"
        },
        {
          "output_type": "execute_result",
          "data": {
            "text/plain": [
              "False"
            ]
          },
          "metadata": {
            "tags": []
          },
          "execution_count": 12
        }
      ]
    },
    {
      "cell_type": "markdown",
      "metadata": {
        "id": "6bsek83bMhnw"
      },
      "source": [
        "## Exercice 8\n",
        "On considère le jeu des **Tours de Hanoï**.\n",
        "Le but est de faire passer toutes les assiettes de A vers C, sachant qu'une assiette ne peut être déposée que sur une assiette de diamètre inférieur.\n",
        "![](https://github.com/glassus/nsi/blob/master/Terminale/Theme_2_Programmation/2.2_Recursivite/data/hanoi0.png?raw=1)\n",
        "\n",
        "Une version jouable en ligne peut être trouvée [ici](http://www.dynamicdrive.com/dynamicindex12/towerhanoi.htm).\n",
        "\n",
        "1. S'entraîner et essayer d'établir une stratégie de victoire.\n",
        "2. Observer les images ci-dessous :\n",
        "![](https://github.com/glassus/nsi/blob/master/Terminale/Theme_2_Programmation/2.2_Recursivite/data/hanoi1.png?raw=1)\n",
        "![](https://github.com/glassus/nsi/blob/master/Terminale/Theme_2_Programmation/2.2_Recursivite/data/hanoi2.png?raw=1)\n",
        "![](https://github.com/glassus/nsi/blob/master/Terminale/Theme_2_Programmation/2.2_Recursivite/data/hanoi3.png?raw=1)\n",
        "![](https://github.com/glassus/nsi/blob/master/Terminale/Theme_2_Programmation/2.2_Recursivite/data/hanoi4.png?raw=1)\n"
      ]
    },
    {
      "cell_type": "markdown",
      "metadata": {
        "id": "Ebe6-wz_Mhnx"
      },
      "source": [
        "Écrire une fonction récursive ```hanoi(n, A, B, C)``` qui donnera la suite d'instructions (sous la forme \" A vers C\") pour faire passer une pile de taille n de A vers C en prenant B comme intermédiaire."
      ]
    },
    {
      "cell_type": "code",
      "metadata": {
        "id": "LGqrE6qeMhnz",
        "outputId": "4e7e029b-d6d7-4cd9-ea59-5a04053c1ad5",
        "colab": {
          "base_uri": "https://localhost:8080/",
          "height": 555
        }
      },
      "source": [
        "def hanoi(n,A,B,C):\n",
        "  \"\"\" n : nombre d'assiettes dans la pile\n",
        "  # A : la pile de départ(\"A\", \"B\" ou \"C\")\n",
        "  # B : la pile intermédaire(\"A\", \"B\" ou \"C\")\n",
        "  # C : la pile d'arrivée (\"A\", \"B\" ou \"C\") \"\"\"\n",
        "\n",
        "  if n == 1 :\n",
        "    print(A + \" vers \" + C)\n",
        "  else :\n",
        "    hanoi(n-1,A,C,B) #de A vers B en passant par C\n",
        "    print(A + \" vers \" + C)\n",
        "    hanoi(n-1,B,A,C)\n",
        "\n",
        "hanoi(5,\"Tower1\",\"Tower2\",\"Tower3\")"
      ],
      "execution_count": null,
      "outputs": [
        {
          "output_type": "stream",
          "text": [
            "Tower1 vers Tower3\n",
            "Tower1 vers Tower2\n",
            "Tower3 vers Tower2\n",
            "Tower1 vers Tower3\n",
            "Tower2 vers Tower1\n",
            "Tower2 vers Tower3\n",
            "Tower1 vers Tower3\n",
            "Tower1 vers Tower2\n",
            "Tower3 vers Tower2\n",
            "Tower3 vers Tower1\n",
            "Tower2 vers Tower1\n",
            "Tower3 vers Tower2\n",
            "Tower1 vers Tower3\n",
            "Tower1 vers Tower2\n",
            "Tower3 vers Tower2\n",
            "Tower1 vers Tower3\n",
            "Tower2 vers Tower1\n",
            "Tower2 vers Tower3\n",
            "Tower1 vers Tower3\n",
            "Tower2 vers Tower1\n",
            "Tower3 vers Tower2\n",
            "Tower3 vers Tower1\n",
            "Tower2 vers Tower1\n",
            "Tower2 vers Tower3\n",
            "Tower1 vers Tower3\n",
            "Tower1 vers Tower2\n",
            "Tower3 vers Tower2\n",
            "Tower1 vers Tower3\n",
            "Tower2 vers Tower1\n",
            "Tower2 vers Tower3\n",
            "Tower1 vers Tower3\n"
          ],
          "name": "stdout"
        }
      ]
    },
    {
      "cell_type": "markdown",
      "metadata": {
        "id": "LRW5h37QMhn5"
      },
      "source": [
        "## Exercice 9\n",
        "\n",
        "Cet exercice a pour objectif le tracé du flocon de Von Koch.\n",
        "![](https://github.com/glassus/nsi/blob/master/Terminale/Theme_2_Programmation/2.2_Recursivite/data/floc.png?raw=1)\n",
        "\n",
        "\n",
        "L'idée est de répéter de manière récursive la transformation ci-dessous : chaque segment de longueur ```l``` donne naissance à 4 segments de longueur ```l/3```, en construisant une pointe de triangle équilatéral sur le deuxième tiers du segment.\n",
        "\n",
        "![](https://github.com/glassus/nsi/blob/master/Terminale/Theme_2_Programmation/2.2_Recursivite/data/ex2.png?raw=1)\n",
        "\n",
        "\n",
        "\n",
        "1) Créer une fonction récursive ```floc(n,l)``` qui trace à une «profondeur» ```n``` un segment de longueur ```l```.\n",
        "![](https://github.com/glassus/nsi/blob/master/Terminale/Theme_2_Programmation/2.2_Recursivite/data/ex3b.png?raw=1)\n",
        "\n",
        "**Indications**  \n",
        "    - l'instruction de tracé n'a lieu que quand ```n``` vaut 0.  \n",
        "    - l'étape ```n``` fait 4 appels sucessifs à l'étape ```n-1```.  \n",
        "\n",
        "2) Créer une fonction ```triangle(n,l)``` qui trace le flocon complet."
      ]
    },
    {
      "cell_type": "code",
      "metadata": {
        "id": "HTrhUb7WKxfZ"
      },
      "source": [
        "from turtle import *\n",
        "\n",
        "def floc(n,l):\n",
        "    if n == 0 :\n",
        "        forward(l)\n",
        "    else :\n",
        "        floc(n-1,l/3)\n",
        "        left(60)\n",
        "        floc(n-1,l/3)\n",
        "        right(120)\n",
        "        floc(n-1,l/3)\n",
        "        left(60)\n",
        "        floc(n-1,l/3)\n",
        "\n",
        "def triangle(n,l):\n",
        "    for _ in range(3):\n",
        "        floc(n,l)\n",
        "        right(120)\n",
        "\n",
        "speed(0)\n",
        "triangle(4,150)\n",
        "    \n"
      ],
      "execution_count": null,
      "outputs": []
    },
    {
      "cell_type": "markdown",
      "metadata": {
        "id": "BYqbOpkOKxQd"
      },
      "source": [
        ""
      ]
    },
    {
      "cell_type": "markdown",
      "metadata": {
        "id": "wwbi6kdXMhoC"
      },
      "source": [
        "\n",
        "\n",
        "---\n",
        "## Bibliographie\n",
        "- Numérique et Sciences Informatiques, Terminale, T. BALABONSKI, S. CONCHON, J.-C. FILLIATRE, K. NGUYEN, éditions ELLIPSES.\n",
        "- Prépabac NSI, Terminale, G.CONNAN, V.PETROV, G.ROZSAVOLGYI, L.SIGNAC, éditions HATIER.\n",
        "\n",
        "\n",
        "---\n",
        "\n",
        "![](data/ccbysa.png \"image\") G.Lassus, Lycée François Mauriac --  Bordeaux  \n"
      ]
    },
    {
      "cell_type": "code",
      "metadata": {
        "id": "9Qu-caNzMhoC"
      },
      "source": [
        ""
      ],
      "execution_count": null,
      "outputs": []
    }
  ]
}