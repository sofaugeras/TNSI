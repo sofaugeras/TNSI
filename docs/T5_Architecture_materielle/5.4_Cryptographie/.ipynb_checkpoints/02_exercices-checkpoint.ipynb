{
 "cells": [
  {
   "cell_type": "markdown",
   "metadata": {},
   "source": [
    "### Exercice 1\n",
    "\n",
    "**Utilisation des biblitohèques cryptographiques du module ```sympy```.**\n",
    "Documentation : [https://docs.sympy.org/latest/modules/crypto.html](https://docs.sympy.org/latest/modules/crypto.html)\n",
    "\n",
    "Décoder la phrase ```RYTVJKGCLJWRTZCVRMVTLEDFULCVHLZWRZKKFLKRMFKIVGCRTV```, sachant qu'elle a été chiffrée par décalage.\n",
    "\n"
   ]
  },
  {
   "cell_type": "code",
   "execution_count": null,
   "metadata": {},
   "outputs": [],
   "source": []
  },
  {
   "cell_type": "markdown",
   "metadata": {},
   "source": [
    "### Exercice 2\n",
    "**Chiffrage affine**\n",
    "\n",
    "Principe du chiffrage affine :\n",
    "- Chaque lettre est codée par son rang, en commençant à 0 (A->0, B->1, ..., Z->25)\n",
    "- On applique à chaque rang la transformation affine \n",
    "$$f(x) = ax+b \\,\\,\\, \\%26$$\n",
    "\n",
    "où $a$ et $b$ sont deux nombres entiers. Attention, *a* doit être premier avec 26.\n",
    "\n",
    "1. Codez votre fonction ```affine(msg, a, b)```\n",
    "2. Comparez vos résultats avec ceux obtenus par la fonction ```encipher_affine()``` de ```sympy```.\n",
    "3. Décodez la phrase ```UCGXLODCMOXPMFMSRJCFQOGTCRSUSXC```, sachant qu'elle contient le mot ```TRAVAIL``` et que $a$ et $b$ sont inférieurs à 20."
   ]
  },
  {
   "cell_type": "code",
   "execution_count": null,
   "metadata": {},
   "outputs": [],
   "source": []
  }
 ],
 "metadata": {
  "kernelspec": {
   "display_name": "Python 3.6.9 64-bit",
   "language": "python",
   "name": "python36964bit9f899ef1f6144dc3be0f32d67042f5ff"
  },
  "language_info": {
   "codemirror_mode": {
    "name": "ipython",
    "version": 3
   },
   "file_extension": ".py",
   "mimetype": "text/x-python",
   "name": "python",
   "nbconvert_exporter": "python",
   "pygments_lexer": "ipython3",
   "version": "3.6.9"
  }
 },
 "nbformat": 4,
 "nbformat_minor": 4
}
