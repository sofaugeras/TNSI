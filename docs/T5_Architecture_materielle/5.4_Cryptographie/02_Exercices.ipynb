{
 "cells": [
  {
   "cell_type": "markdown",
   "metadata": {},
   "source": [
    "### Exercice 1\n",
    "\n",
    "**Utilisation des biblitohèques cryptographiques du module ```sympy```.**\n",
    "Documentation : [https://docs.sympy.org/latest/modules/crypto.html](https://docs.sympy.org/latest/modules/crypto.html)\n",
    "\n",
    "Décoder la phrase ```RYTVJKGCLJWRTZCVRMVTLEDFULCVHLZWRZKKFLKRMFKIVGCRTV```, sachant qu'elle a été chiffrée par décalage.\n",
    "\n"
   ]
  },
  {
   "cell_type": "code",
   "execution_count": null,
   "metadata": {},
   "outputs": [],
   "source": []
  },
  {
   "cell_type": "markdown",
   "metadata": {},
   "source": [
    "### Exercice 2\n",
    "**Chiffrage affine**\n",
    "\n",
    "Principe du chiffrage affine :\n",
    "- Chaque lettre est codée par son rang, en commençant à 0 (A->0, B->1, ..., Z->25)\n",
    "- On applique à chaque rang la transformation affine \n",
    "$$f(x) = ax+b \\,\\,\\, \\%26$$\n",
    "\n",
    "où $a$ et $b$ sont deux nombres entiers. Attention, *a* doit être premier avec 26.\n",
    "\n",
    "1. Codez votre fonction ```affine(msg, a, b)```\n",
    "2. Comparez vos résultats avec ceux obtenus par la fonction ```encipher_affine()``` de ```sympy```.\n",
    "3. Décodez la phrase ```UCGXLODCMOXPMFMSRJCFQOGTCRSUSXC```, sachant qu'elle contient le mot ```TRAVAIL``` et que $a$ et $b$ sont inférieurs à 20."
   ]
  },
  {
   "cell_type": "code",
   "execution_count": null,
   "metadata": {},
   "outputs": [],
   "source": []
  },
  {
   "cell_type": "markdown",
   "metadata": {},
   "source": [
    "### Exercice 3\n",
    "**Cryptographie RSA** presque à la main\n"
   ]
  },
  {
   "cell_type": "code",
   "execution_count": null,
   "metadata": {},
   "outputs": [],
   "source": [
    "from Crypto.Util.number import bytes_to_long, long_to_bytes\n",
    "from Crypto.Random import get_random_bytes \n",
    "import Crypto\n",
    "import libnum\n",
    "\n",
    "bits = 128\n",
    "msg = \"en NSI on fait de la crypto\"\n",
    "\n",
    "p = Crypto.Util.number.getPrime(bits, randfunc=get_random_bytes)\n",
    "q = Crypto.Util.number.getPrime(bits, randfunc=get_random_bytes)\n",
    "\n",
    "n = p*q\n",
    "phi = (p-1)*(q-1)\n",
    "\n",
    "e = 65537  # 65537 est un nombre premier, donc forcément premier avec phi\n",
    "d = libnum.invmod(e,phi)  # on calcule l'inverse de e modulo phi\n",
    "\n",
    "m = bytes_to_long(msg.encode('utf-8'))\n",
    "\n",
    "c = pow(m,e, n)\n",
    "res = pow(c,d ,n)\n",
    "\n",
    "print(long_to_bytes(res))\n"
   ]
  },
  {
   "cell_type": "markdown",
   "metadata": {},
   "source": [
    "1. Analysez le programme ci-dessous pour y retrouver chaque étape du chiffrement RSA.\n",
    "2. Observez les deux lignes qui contiennent les opérations de chiffrement et de déchiffrement.\n",
    "3. Que faut-il changer pour chiffrer avec la clé privée et déchiffrer avec la clé publique ?"
   ]
  },
  {
   "cell_type": "markdown",
   "metadata": {},
   "source": [
    "### Exercice 4\n",
    "**module RSA** dans les règles de l'art\n"
   ]
  },
  {
   "cell_type": "code",
   "execution_count": null,
   "metadata": {},
   "outputs": [],
   "source": [
    "from Crypto.PublicKey import RSA\n",
    "from Crypto.Cipher import PKCS1_OAEP\n",
    "import binascii\n",
    "\n",
    "keyPair = RSA.generate(1024)\n",
    "\n",
    "pubKey = keyPair.publickey()\n",
    "\n",
    "pubKeyPEM = pubKey.exportKey()\n",
    "\n",
    "privKeyPEM = keyPair.exportKey()\n",
    "\n",
    "\n",
    "msg = b'vive la crypto en NSI !'\n",
    "encryptor = PKCS1_OAEP.new(pubKey)\n",
    "encrypted = encryptor.encrypt(msg)\n",
    "print(\"Encrypted:\", binascii.hexlify(encrypted))\n",
    "\n",
    "\n",
    "decryptor = PKCS1_OAEP.new(keyPair)\n",
    "decrypted = decryptor.decrypt(encrypted)\n",
    "print('Decrypted:', decrypted)"
   ]
  }
 ],
 "metadata": {
  "kernelspec": {
   "display_name": "Python 3.6.9 64-bit",
   "language": "python",
   "name": "python36964bit9f899ef1f6144dc3be0f32d67042f5ff"
  },
  "language_info": {
   "codemirror_mode": {
    "name": "ipython",
    "version": 3
   },
   "file_extension": ".py",
   "mimetype": "text/x-python",
   "name": "python",
   "nbconvert_exporter": "python",
   "pygments_lexer": "ipython3",
   "version": "3.6.9"
  }
 },
 "nbformat": 4,
 "nbformat_minor": 4
}
