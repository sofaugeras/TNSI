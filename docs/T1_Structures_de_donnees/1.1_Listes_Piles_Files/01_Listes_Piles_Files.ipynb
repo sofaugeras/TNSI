{
 "cells": [
  {
   "cell_type": "markdown",
   "metadata": {},
   "source": [
    "# Structures de données linéaires :  listes, piles, files"
   ]
  },
  {
   "cell_type": "markdown",
   "metadata": {},
   "source": [
    "## 0. Préambule : interface ≠ implémentation"
   ]
  },
  {
   "cell_type": "markdown",
   "metadata": {},
   "source": [
    "Les structures que nous allons voir peuvent s'envisager sous deux aspects :\n",
    "- le côté utilisateur, qui utilisera une **interface** pour manipuler les données.\n",
    "- le côté concepteur, qui aura choisi une **implémentation** pour construire la structure de données.\n",
    "\n",
    "Par exemple, le volant et les pédales constituent (une partie de) l'interface d'une voiture. L'implémentation va désigner tous les mécanismes techniques qui sont mis en œuvre pour que le mouvement de rotation du volant aboutisse à un changement de direction des roues. \n",
    "\n",
    "![](data/voiture.png)\n",
    "\n",
    "Nous avons déjà abordé ces deux aspects lors de la découverte de la Programmation Orientée Objet. Le principe d'**encapsulation** fait que l'utilisateur n'a qu'à connaître l'existence des méthodes disponibles, et non pas le contenu technique de celle-ci. Cela permet notamment de modifier le contenu technique (l'implémentation) sans que les habitudes de l'utilisateur (l'interface) ne soient changées."
   ]
  },
  {
   "cell_type": "markdown",
   "metadata": {},
   "source": [
    "## 1. Structures de données linéaires \n",
    "\n",
    "### 1.1 À chaque donnée sa structure\n",
    "En informatique comme dans la vie courante, il est conseillé d'adapter sa manière de stocker et de traiter des données en fonction de la nature de celles-ci :\n",
    "- Le serveur d'un café, chargé de transporter les boissons du comptoir aux tables des clients, n'utilisera pas un sac en plastique pour faire le transport : il préfèrera un plateau. \n",
    "- Le chercheur de champignons, lui, n'utilisera pas un plateau pour stocker ses trouvailles : il préfèrera un panier.\n",
    "- Pour stocker des chaussettes, on préfèrera les entasser dans un tiroir (après les avoir appairées), plutôt que de les suspendre à des cintres. \n",
    "\n",
    "De même en informatique, pour chaque type de données, pour chaque utilisation prévue, une structure particulière de données se revèlera (peut-être) plus adaptée qu'une autre.\n",
    "\n",
    "Intéressons nous par exemple aux **données linéaires**. Ce sont des données qui ne comportent pas de *hiérarchie* : toutes les données sont de la même nature et ont le même rôle. \n",
    "Par exemple, un relevé mensuel de températures, la liste des élèves d'une classe, un historique d'opérations bancaires... \n",
    "\n",
    "Ces données sont «plates», n'ont pas de sous-domaines : la structure de **liste** paraît parfaitement adaptée. \n",
    "\n",
    "Lorsque les données de cette liste sont en fait des couples (comme dans le cas d'une liste de noms/numéros de téléphone), alors la structure la plus adaptée est sans doute celle du **dictionnaire**.\n",
    "\n",
    "Les listes et les dictionnaires sont donc des exemples de structures de **données linéaires**.\n",
    "\n",
    "\n",
    "Même si ce n'est pas l'objet de ce cours, donnons des exemples de structures adaptées aux données non-linéaires :\n",
    "\n",
    "Si une liste de courses est subdivisée en \"rayon frais / bricolage / papeterie\" et que le rayon frais est lui-même séparé en \"laitages / viandes / fruits & légumes\", alors une structure d'**arbre** sera plus adaptée pour la représenter. Les structures arborescentes seront vues plus tard en Terminale.\n",
    "\n",
    "Enfin, si nos données à étudier sont les relations sur les réseaux sociaux des élèves d'une classe, alors la structure de **graphe** s'imposera d'elle-même. Cette structure sera elle-aussi étudiée plus tard cette année. "
   ]
  },
  {
   "cell_type": "markdown",
   "metadata": {},
   "source": [
    "### 1.2 Comment seront traitées ces données linéaires ? Listes, piles et files\n",
    "\n",
    "La nature des données ne fait pas tout. Il faut aussi s'intéresser à la manière dont on voudra les traiter : à quelle position les faire entrer dans notre structure ? À quel moment devront-elles en éventuellement en sortir ?\n",
    "\n",
    "Lorsque cette problématique d'entrée/sortie n'intervient pas, la structure «classique» de liste est adaptée. Mais lorsque celle-ci est importante, il convient de différencier la structure de **pile** de celle de **file**.\n",
    "\n",
    "#### 1.2.1 Les piles (*stack*)\n",
    "Une structure de **pile** (penser à une pile d'assiette) est associée à la méthode **LIFO** (Last In, First Out) :\n",
    "les éléments sont empilés les uns au-dessus des autres, et on ne peut toujours dépiler que l'élément du haut de la pile. Le dernier élément à être arrivé est donc le premier à être sorti.\n",
    "\n",
    "\n",
    "![](data/gifpile.webp)\n",
    "\n",
    "\n",
    "\n",
    "**Exemples de données stockées sous forme de pile :** \n",
    "- lors de l'exécution d'une fonction récursive, le processeur empile successivement les appels à traiter : seule l'instruction du haut de la pile peut être traitée.\n",
    "\n",
    "![Fibonacci](data/pile_fibo.webp)\n",
    "\n",
    "- dans un navigateur internet, la liste des pages parcourues est stockée sous forme de pile : la fonction «Back» permet de «dépiler» peu à peu les pages précédemment parcourues : ![](data/history.png)\n",
    "- lors d'un Devoir Surveillé, la dernière copie remise sur le bureau du professeur est (souvent) la première corrigée.\n",
    "\n",
    "\n",
    "#### 1.2.2 Les files (*queue*)\n",
    "Une structure de **file** (penser à une file d'attente) est associée à la méthode **FIFO** (First In, First Out) :\n",
    "les éléments sont enfilés les uns à la suite des autres, et on ne peut toujours défiler que l'élément du haut de la file. Le premier élément à être arrivé est donc le premier à en sortir. Sinon ça râle dans la file d'attente.\n",
    "![un bien joli gif](data/giffile.webp) \n",
    "\n",
    "**Exemples de données stockées sous forme de file :** \n",
    "- les documents envoyés à l'imprimante sont traitées dans une file d'impression.\n",
    "- la «queue» à la cantine est (normalement) traitée sous forme de file.\n",
    "\n",
    "#### 1.2.3 Le problème du stockage : transformer les piles en files\n",
    "Dans les entrepôts de stockage, comme dans les rayons d'un supermarché, la structure naturelle est celle de la **pile** : les gens attrapent l'élément situé devant eux («en haut de la pile»). Si les employés du supermarché remettent en rayon les produits plus récents sur le dessus de la pile, les produits au bas de la pile ne seront jamais choisis et périmeront.  \n",
    "Ils doivent donc transformer la pile en file : lors de la mise en rayon de nouveaux produits, ceux-ci seront placés derrière («au bas de la file») afin que partent en priorité les produits à date de péremption plus courte.\n",
    "On passe donc du LIFO au FIFO.  \n",
    "\n",
    "Certains dispositifs permettent de le faire naturellement :  \n",
    "Ci-dessous, une file... de piles (électriques). Le chargement par le haut du distributeur fait que celle qui sera sortie (en bas) sera celle qui aurait été rentrée en premier (par le haut). Ce FIFO est donc provoqué naturellement par la gravité (et un peu d'astuce).\n",
    "![](data/fifoimg.png)\n",
    "Cette problématique est universelle : voir par exemple [ce site](https://www.mecalux.fr/blog/methode-lifo-fifo-peps)."
   ]
  },
  {
   "cell_type": "markdown",
   "metadata": {},
   "source": [
    "Arrêtons-nous maintenant en détail sur les interfaces et implémentations possibles des listes, des piles et des files.\n",
    "\n",
    "\n",
    "\n",
    "## 2. Les listes"
   ]
  },
  {
   "cell_type": "markdown",
   "metadata": {},
   "source": [
    "### 2.1 Définition générale\n",
    "Une liste est un ensemble ordonné d'objets. Généralement, ces données seront de même type, mais ce n'est pas structurellement obligatoire.\n",
    "\n",
    "### 2.2 Les listes chaînées"
   ]
  },
  {
   "cell_type": "markdown",
   "metadata": {},
   "source": [
    "Lorsque l'implémentation de la liste fait apparaître une chaîne de valeurs, chacune pointant vers la suivante, on dit que la liste est une liste **chaînée**.\n",
    "\n",
    "![](data/listechainee.png)"
   ]
  },
  {
   "cell_type": "markdown",
   "metadata": {},
   "source": [
    "**Implémentation choisie :**\n",
    "- Une liste est caractérisée par un ensemble de cellules.\n",
    "- Le lien (on dira souvent le «pointeur») vers la variable est un lien vers la première cellule, qui renverra elle-même sur la deuxième, etc.\n",
    "- Chaque cellule contient donc une valeur et un lien vers la cellule suivante.\n",
    "- Une liste peut être vide (la liste vide est notée ```x``` ou bien ```None``` sur les schémas)"
   ]
  },
  {
   "cell_type": "markdown",
   "metadata": {},
   "source": [
    "Une conséquence de cette implémentation sous forme de liste chaînée est la non-constance du temps d'accès à un élément de liste : pour accéder au 3ème élément, il faut obligatoirement passer par les deux précédents.\n",
    "\n",
    "**À retenir :** dans une liste chaînée, le temps d'accès aux éléments n'est pas constant.\n"
   ]
  },
  {
   "cell_type": "markdown",
   "metadata": {},
   "source": [
    "### 2.3 Exemple d'implémentation minimale d'une liste chaînée"
   ]
  },
  {
   "cell_type": "code",
   "execution_count": 16,
   "metadata": {},
   "outputs": [],
   "source": [
    "class Cellule :\n",
    "    \n",
    "    def __init__(self, contenu, suivante):\n",
    "        self.contenu = contenu\n",
    "        self.suivante = suivante"
   ]
  },
  {
   "cell_type": "markdown",
   "metadata": {},
   "source": [
    "Cette implémentation rudimentaire permet bien la création d'une liste :"
   ]
  },
  {
   "cell_type": "code",
   "execution_count": 17,
   "metadata": {},
   "outputs": [],
   "source": [
    "lst = Cellule(3, Cellule(5, Cellule(1,None)))"
   ]
  },
  {
   "cell_type": "markdown",
   "metadata": {},
   "source": [
    "La liste créée est donc :  \n",
    "![](data/ex1.png) \n",
    "\n",
    "Mais plus précisément, on a :\n",
    "![](data/ex2.png)"
   ]
  },
  {
   "cell_type": "markdown",
   "metadata": {},
   "source": [
    "**Exercice :** retrouvez comment accéder aux éléments 3, 5 et 1."
   ]
  },
  {
   "cell_type": "code",
   "execution_count": 18,
   "metadata": {},
   "outputs": [
    {
     "data": {
      "text/plain": [
       "3"
      ]
     },
     "execution_count": 18,
     "metadata": {},
     "output_type": "execute_result"
    }
   ],
   "source": [
    "lst.contenu"
   ]
  },
  {
   "cell_type": "code",
   "execution_count": 19,
   "metadata": {},
   "outputs": [
    {
     "data": {
      "text/plain": [
       "5"
      ]
     },
     "execution_count": 19,
     "metadata": {},
     "output_type": "execute_result"
    }
   ],
   "source": [
    "lst.suivante.contenu"
   ]
  },
  {
   "cell_type": "code",
   "execution_count": 20,
   "metadata": {},
   "outputs": [
    {
     "data": {
      "text/plain": [
       "1"
      ]
     },
     "execution_count": 20,
     "metadata": {},
     "output_type": "execute_result"
    }
   ],
   "source": [
    "lst.suivante.suivante.contenu"
   ]
  },
  {
   "cell_type": "markdown",
   "metadata": {},
   "source": [
    "On pourra remarquer que l'interface proposée à l'utilisateur n'est pas des plus pratiques..."
   ]
  },
  {
   "cell_type": "markdown",
   "metadata": {},
   "source": [
    "### 2.4 Et les listes de Python ???"
   ]
  },
  {
   "cell_type": "markdown",
   "metadata": {},
   "source": [
    "Nous connaissons déjà les listes de Python :"
   ]
  },
  {
   "cell_type": "code",
   "execution_count": null,
   "metadata": {},
   "outputs": [],
   "source": [
    "maliste = [3,1,-1,42]"
   ]
  },
  {
   "cell_type": "markdown",
   "metadata": {},
   "source": [
    "Et nous connaissons aussi (un peu) l'interface de ce type ```list```, notamment avec les méthodes ```append()``` ou ```reverse()```.  \n",
    "Néanmoins, l'implémentation qui a été choisie par les concepteurs de Python de ce type ```list``` fait que le celui-ci se rapproche plus d'un **tableau dynamique**. \n",
    "\n",
    "**Dans un tableau dynamique :**\n",
    "- le temps d'accès à n'importe quel élément est rapide. Ce temps d'accès est constant quelque soit l'élément : on dit que l'accès est en $O(1)$.\n",
    "- l'insertion d'un élément au début ou au milieu de la liste est lente : cela oblige à décaler tous les éléments à droite de celui-ci. Le temps pris par l'insertion est proportionnel au nombre d'éléments à déplacer : on dit que l'insertion est en $O(n)$.\n",
    "\n",
    "**Dans une liste chaînée :**\n",
    "- le temps d'accès à n'importe quel élément peut être lent (proportionnel à la position de l'élément dans la liste). Le temps d'accès est en $O(n)$.\n",
    "- l'insertion d'un élément à l'intérieur de la liste est rapide : il y a simplement à modifier la valeur du lien de la cellule à gauche de l'endroit d'insertion. L'action d'insérer est donc en $O(1)$. Toutefois, avant d'arriver à l'endroit d'insertion, il faut avoir parcouru toutes les cellules précédentes ! Le temps total d'insertion est donc lui aussi linéaire, en $O(n)$.\n",
    "\n",
    "Nous nous servirons parfois du type ```list``` de Python dans la suite de ce cours, mais il ne faut pas oublier qu'il n'est pas un «vrai» type ```list```."
   ]
  },
  {
   "cell_type": "markdown",
   "metadata": {},
   "source": [
    "### 2.5 Un exemple d'interface pour les listes"
   ]
  },
  {
   "cell_type": "markdown",
   "metadata": {},
   "source": [
    "Imaginons que nous possédons une interface offrant les fonctionnalités suivantes :\n",
    "- ```Liste()``` : crée une liste vide.\n",
    "- ```est_vide()``` : indique si la liste est vide.\n",
    "- ```ajoute_tete()``` : insère un élément en tête de liste.\n",
    "- ```renvoie_tete()``` : renvoie la valeur de l'élément en tête de liste ET le supprime de la liste.\n"
   ]
  },
  {
   "cell_type": "markdown",
   "metadata": {},
   "source": [
    "**Exercice :**  \n",
    "On considère l'enchaînement d'opérations ci-dessous. Écrire à chaque étape l'état de la liste ```lst``` et la valeur éventuellement renvoyée."
   ]
  },
  {
   "cell_type": "code",
   "execution_count": null,
   "metadata": {},
   "outputs": [],
   "source": [
    "1. lst = Liste()      # lst = None\n",
    "2. lst.ajoute_tete(3) # lst = 3\n",
    "3. lst.ajoute_tete(5) # lst = 5 3 \n",
    "4. lst.ajoute_tete(1) # lst = 1 5 3\n",
    "5. lst.renvoie_tete() # lst = 5 3 valeur renvoyée : 1\n",
    "6. lst.est_vide()     # valeur renvoyée : False\n",
    "7. lst.ajoute_tete(2) # lst = 2 5 3\n",
    "8. lst.renvoie_tete() # lst = 5 3 valeur renvoyée : 2\n",
    "9. lst.renvoie_tete() # lst = 3 valeur renvoyée : 5\n",
    "10. lst.renvoie_tete()# lst = None valeur renvoyée : 3\n",
    "11. lst.est_vide()    #  valeur renvoyée : True"
   ]
  },
  {
   "cell_type": "markdown",
   "metadata": {},
   "source": [
    "## 3. Les piles"
   ]
  },
  {
   "cell_type": "markdown",
   "metadata": {},
   "source": [
    "![](data/gifpile.webp)\n",
    "\n",
    "Comme expliqué précédemment, une pile travaille en mode LIFO (Last In First Out).\n",
    "Pour être utilisée, l'interface d'une pile doit permettre a minima :\n",
    "- la création d'une pile vide\n",
    "- l'ajout d'un élément dans la pile (qui sera forcément au dessus). On dira qu'on **empile**.\n",
    "- le retrait d'un élément de la pile (qui sera forcément celui du dessus) et le renvoi de sa valeur. On dira qu'on **dépile**.\n",
    "\n"
   ]
  },
  {
   "cell_type": "markdown",
   "metadata": {},
   "source": [
    "### 3.1 Utilisation d'une interface de pile"
   ]
  },
  {
   "cell_type": "markdown",
   "metadata": {},
   "source": [
    "**Exercice :**  \n",
    "On considère l'enchaînement d'opérations ci-dessous. Écrire à chaque étape l'état de la pile ```p``` et la valeur éventuellement renvoyée.\n",
    "\n",
    "Bien comprendre que la classe ```Pile()``` et ses méthodes n'existent pas vraiment. Nous *jouons* avec son interface."
   ]
  },
  {
   "cell_type": "code",
   "execution_count": null,
   "metadata": {},
   "outputs": [],
   "source": [
    "1. p = Pile()  # p=None\n",
    "2. p.empile(3)   # p= 3\n",
    "3. p.empile(5)  # p= 3 5 par convention\n",
    "4. p.est_vide()  #  False\n",
    "4. p.empile(1)  # p= 3 5 1\n",
    "5. p.depile()  # p= 3 5    valeur renvoyée : 1\n",
    "6. p.depile()  # p= 3      valeur renvoyée : 5\n",
    "7. p.empile(9)  # p= 3 9\n",
    "8. p.depile()  # p= 3       valeur renvoyée :9\n",
    "9. p.depile()  # p= None      valeur renvoyée : 3\n",
    "10. p.est_vide() # True"
   ]
  },
  {
   "cell_type": "markdown",
   "metadata": {},
   "source": [
    "### 3.2 Implémentation(s) d'une pile\n",
    "\n",
    "L'objectif est de créer une classe ```Pile```. L'instruction  ```Pile()```  créera une pile vide. Chaque objet ```Pile``` disposera des méthodes suivantes :\n",
    "\n",
    "- ```est_vide()``` : indique si la pile est vide.\n",
    "- ```empile()``` : insère un élément en haut de la pile.\n",
    "- ```depile()``` : renvoie la valeur de l'élément en haut de la pile ET le supprime de la pile.\n",
    "- ```__str__()``` : permet d'afficher la pile sous forme agréable (par ex : ```|3|6|2|5|```) par ```print()```"
   ]
  },
  {
   "cell_type": "markdown",
   "metadata": {},
   "source": [
    "#### 3.2.1 À l'aide du type ```list``` de Python \n",
    "**Exercice :** créer la classe ci-dessus. Le type ```list``` de Python est parfaitement adapté. Des renseignement intéressants à son sujet peuvent être trouvés [ici](https://docs.python.org/fr/3/tutorial/datastructures.html#more-on-lists)."
   ]
  },
  {
   "cell_type": "code",
   "execution_count": 3,
   "metadata": {},
   "outputs": [],
   "source": [
    "class Pile:\n",
    "    def __init__(self):\n",
    "        self.data = []\n",
    "      \n",
    "    def est_vide(self):\n",
    "        return len(self.data) == 0 \n",
    "    \n",
    "  \n",
    "    def empile(self,x):\n",
    "        self.data.append(x)\n",
    "\n",
    "    def depile(self):\n",
    "        if self.est_vide() == True :\n",
    "            raise IndexError(\"Vous avez essayé de dépiler une pile vide !\")\n",
    "        else :\n",
    "            return self.data.pop() \n",
    "\n",
    "    def __str__(self):       # Hors-Programme : pour afficher \n",
    "        s = \"|\"              # convenablement la pile avec print(p)\n",
    "        for k in self.data :\n",
    "            s = s + str(k) + \"|\"\n",
    "        return s\n",
    "\n",
    "    def __repr__(self):       # Hors-Programme : pour afficher \n",
    "        s = \"|\"              # convenablement la pile avec p\n",
    "        for k in self.data :\n",
    "            s = s + str(k) + \"|\"\n",
    "        return s  \n",
    "    \n"
   ]
  },
  {
   "cell_type": "code",
   "execution_count": 4,
   "metadata": {},
   "outputs": [],
   "source": [
    "p = Pile()\n",
    "p.empile(5)\n",
    "p.empile(3)\n",
    "p.empile(7)"
   ]
  },
  {
   "cell_type": "code",
   "execution_count": 5,
   "metadata": {},
   "outputs": [
    {
     "data": {
      "text/plain": [
       "|5|3|7|"
      ]
     },
     "execution_count": 5,
     "metadata": {},
     "output_type": "execute_result"
    }
   ],
   "source": [
    "p"
   ]
  },
  {
   "cell_type": "markdown",
   "metadata": {},
   "source": [
    "#### 3.2.2 À l'aide d'une liste chaînée et de la classe  ```Cellule``` créée au 2.3\n",
    "\n",
    "Au **2.3** nous avons créé la classe  ```Cellule``` :\n"
   ]
  },
  {
   "cell_type": "code",
   "execution_count": 8,
   "metadata": {},
   "outputs": [],
   "source": [
    "class Cellule :\n",
    "    \n",
    "    def __init__(self, contenu, suivante):\n",
    "        self.contenu = contenu\n",
    "        self.suivante = suivante"
   ]
  },
  {
   "cell_type": "markdown",
   "metadata": {},
   "source": [
    "**Exercice :** à l'aide cette classe, re-créer une classe ```Pile``` disposant exactement de la même interface que dans l'exercice précédent."
   ]
  },
  {
   "cell_type": "code",
   "execution_count": 9,
   "metadata": {},
   "outputs": [],
   "source": [
    "class Pile:\n",
    "    def __init__(self):\n",
    "        self.data = None\n",
    "    \n",
    "    def est_vide(self):\n",
    "        return self.data == None\n",
    "    \n",
    "    def empile(self, x):\n",
    "        self.data = Cellule(x,self.data)\n",
    "    \n",
    "    def depile(self):\n",
    "        v = self.data.contenu #on récupère la valeur à renvoyer\n",
    "        self.data = self.data.suivante  # on supprime la 1ère cellule  \n",
    "        return v\n",
    "    \n",
    "    def __str__(self):\n",
    "        s = \"|\"\n",
    "        c = self.data\n",
    "        while c != None :\n",
    "            s += str(c.contenu)+\"|\"\n",
    "            c = c.suivante\n",
    "        return s\n"
   ]
  },
  {
   "cell_type": "code",
   "execution_count": 10,
   "metadata": {},
   "outputs": [],
   "source": [
    "p = Pile()\n",
    "p.empile(5)\n",
    "p.empile(3)\n",
    "p.empile(7)"
   ]
  },
  {
   "cell_type": "code",
   "execution_count": 11,
   "metadata": {},
   "outputs": [
    {
     "name": "stdout",
     "output_type": "stream",
     "text": [
      "|7|3|5|\n"
     ]
    }
   ],
   "source": [
    "print(p)"
   ]
  },
  {
   "cell_type": "markdown",
   "metadata": {},
   "source": [
    "**À retenir :** \n",
    "pour l'utilisateur, les interfaces du 3.2.1 et 3.2.2 sont strictement identiques. Il ne peut pas savoir, en les utilisant, l'implémentation qui est derrière. \n",
    "![](data/xkcd.png)"
   ]
  },
  {
   "cell_type": "markdown",
   "metadata": {},
   "source": [
    "### 3.3 Application des piles\n",
    "À l'aide de deux variables ```adresses``` et ```adresse_courante```, et de la classe ```Pile``` créée plus haut, simulez une gestion de l'historique de navigation internet.  \n",
    "Seules deux fonctions ```go_to(nouvelle_adresse)``` et ```back()``` sont à créer."
   ]
  },
  {
   "cell_type": "code",
   "execution_count": 13,
   "metadata": {},
   "outputs": [],
   "source": [
    "adresses = Pile()\n",
    "adresse_courante = \"\"\n",
    "\n",
    "def go_to(nouvelle_adresse) :\n",
    "    global adresse_courante\n",
    "    adresses.empile(nouvelle_adresse)\n",
    "    adresse_courante = nouvelle_adresse\n",
    "\n",
    "def back():\n",
    "    global adresse_courante\n",
    "    adresses.depile()\n",
    "    adresse_courante = adresses.depile()"
   ]
  },
  {
   "cell_type": "markdown",
   "metadata": {},
   "source": [
    "**Exemple d'utilisation :**"
   ]
  },
  {
   "cell_type": "code",
   "execution_count": 14,
   "metadata": {},
   "outputs": [],
   "source": [
    "go_to(\"google.fr\")\n",
    "go_to(\"lemonde.fr\")\n",
    "go_to(\"blabla.fr\")"
   ]
  },
  {
   "cell_type": "code",
   "execution_count": 15,
   "metadata": {},
   "outputs": [
    {
     "data": {
      "text/plain": [
       "'lemonde.fr'"
      ]
     },
     "execution_count": 15,
     "metadata": {},
     "output_type": "execute_result"
    }
   ],
   "source": [
    "back()\n",
    "adresse_courante"
   ]
  },
  {
   "cell_type": "markdown",
   "metadata": {},
   "source": [
    "## 4. Les files"
   ]
  },
  {
   "cell_type": "markdown",
   "metadata": {},
   "source": [
    "![](data/giffile.webp)\n",
    "\n",
    "Comme expliqué précédemment, une file travaille en mode FIFO (First In First Out).\n",
    "Pour être utilisée, une file doit permettre a minima :\n",
    "- la création d'une file vide\n",
    "- l'ajout d'un élément dans la file (qui sera forcément **au dessous**). On dira qu'on **enfile**.\n",
    "- le retrait d'un élément de la file (qui sera forcément celui du **dessus**) et le renvoi de sa valeur. On dira qu'on **défile**.\n",
    "\n"
   ]
  },
  {
   "cell_type": "markdown",
   "metadata": {},
   "source": [
    "### 4.1 Utilisation d'une interface de file"
   ]
  },
  {
   "cell_type": "markdown",
   "metadata": {},
   "source": [
    "**Exercice :**  \n",
    "On considère l'enchaînement d'opérations ci-dessous. Écrire à chaque étape l'état de la file ```f``` et la valeur éventuellement renvoyée."
   ]
  },
  {
   "cell_type": "code",
   "execution_count": null,
   "metadata": {
    "scrolled": false
   },
   "outputs": [],
   "source": [
    "1. f = File()\n",
    "2. f.enfile(3) # f = 3\n",
    "3. f.enfile(5) # f  = 5 3\n",
    "4. f.est_vide() # False\n",
    "4. f.enfile(1) # f  = 1 5 3\n",
    "5. f.defile() # val renvoyée : 3 , f =  1 5\n",
    "6. f.defile() # val renvoyée : 5 , f =  1 \n",
    "7. f.enfile(9) # f = 9 1\n",
    "8. f.defile() # val renvoyée : 1 , f =  9 \n",
    "9. f.defile()# val renvoyée : 9 , f =  \n",
    "10. f.est_vide() # True"
   ]
  },
  {
   "cell_type": "markdown",
   "metadata": {},
   "source": [
    "### 4.2 Implémentation d'une file\n",
    "L'objectif est de créer une classe ```File```, disposant des méthodes suivantes :\n",
    "- ```File()``` : crée une file vide.\n",
    "- ```est_vide()``` : indique si la file est vide.\n",
    "- ```enfile()``` : insère un élément en bas de la file.\n",
    "- ```defile()``` : renvoie la valeur de l'élément en haut de la file ET le supprime de la file.\n",
    "- ```__str__()``` : permet d'afficher la file sous forme agréable (par ex : ```|3|6|2|5|```) par ```print()```"
   ]
  },
  {
   "cell_type": "markdown",
   "metadata": {},
   "source": [
    "**Exercice :** créer la classe ci-dessus. Là encore, le type «list» de Python est peut être utilisé, voir [ici](https://docs.python.org/fr/3/tutorial/datastructures.html#more-on-lists). Néanmoins quelques remarques seront à apporter."
   ]
  },
  {
   "cell_type": "code",
   "execution_count": 1,
   "metadata": {},
   "outputs": [],
   "source": [
    "class File:\n",
    "    def __init__(self):\n",
    "        self.data = []\n",
    "      \n",
    "    def est_vide(self):\n",
    "        return len(self.data) == 0 \n",
    "    \n",
    "  \n",
    "    def enfile(self,x):\n",
    "        self.data.append(x)\n",
    "\n",
    "    def defile(self):\n",
    "        if self.est_vide() == True :\n",
    "            raise IndexError(\"Vous avez essayé de défiler une file vide !\")\n",
    "        else :\n",
    "            return self.data.pop(0) \n",
    "\n",
    "    def __str__(self):       # Hors-Programme : pour afficher \n",
    "        s = \"|\"              # convenablement la file avec print(p)\n",
    "        for k in self.data :\n",
    "            s = s + str(k) + \"|\"\n",
    "        return s"
   ]
  },
  {
   "cell_type": "code",
   "execution_count": 2,
   "metadata": {},
   "outputs": [
    {
     "name": "stdout",
     "output_type": "stream",
     "text": [
      "|5|8|\n"
     ]
    },
    {
     "data": {
      "text/plain": [
       "5"
      ]
     },
     "execution_count": 2,
     "metadata": {},
     "output_type": "execute_result"
    }
   ],
   "source": [
    "f = File()\n",
    "f.enfile(5)\n",
    "f.enfile(8)\n",
    "print(f)\n",
    "f.defile()"
   ]
  },
  {
   "cell_type": "markdown",
   "metadata": {},
   "source": [
    "**Remarque :**  \n",
    "Notre implémentation répond parfaitement à l'interface qui était demandée. Mais si le «cahier des charges» obligeait à ce que les opérations ```enfile()``` et ```defile()``` aient lieu en temps constant (en $O(1)$), notre implémentation ne conviendrait pas.  \n",
    "\n",
    "En cause : notre méthode ```defile()``` agit en temps linéaire  ($O(n)$) et non pas en temps constant. L'utilisation de la structure de «liste» de Python (les *tableaux dynamiques*) provoque, lors de l'instruction ```self.data.pop(0) ``` un redimensionnement de la liste, qui voit disparaître son premier élément. Chaque élément doit être recopié dans la case qui précède, avant de supprimer la dernière case. Ceci nous coûte un temps linéaire."
   ]
  },
  {
   "cell_type": "markdown",
   "metadata": {},
   "source": [
    "### 4.3 Implémentation d'une file avec deux piles"
   ]
  },
  {
   "cell_type": "markdown",
   "metadata": {},
   "source": [
    "Comment créer une file avec 2 piles ?  \n",
    "L'idée est la suivante : on crée une pile d'entrée et une pile de sortie. \n",
    "- quand on veut enfiler, on empile sur la pile d'entrée.\n",
    "- quand on veut défiler, on dépile sur la pile de sortie.\n",
    "- si celle-ci est vide, on dépile entièrement la pile d'entrée dans la pile de sortie.\n",
    "\n",
    "![](data/2piles1file.webp)"
   ]
  },
  {
   "cell_type": "code",
   "execution_count": 9,
   "metadata": {},
   "outputs": [],
   "source": [
    "# il est impératif de comprendre qu'on peut choisir l'implémentation\n",
    "# de la classe Pile qu'on préfère parmi les deux traitées plus haut.\n",
    "# Comme elles ont la MÊME INTERFACE et qu'on ne va se servir que\n",
    "# de cette interface, leur mécanisme interne n'a aucune influence\n",
    "# sur le code de la classe File que nous ferons ensuite.\n",
    "\n",
    "# au hasard, on choisit celle avec la liste chaînée :\n",
    "\n",
    "class Pile:\n",
    "    def __init__(self):\n",
    "        self.data = None\n",
    "    \n",
    "    def est_vide(self):\n",
    "        return self.data == None\n",
    "    \n",
    "    def empile(self, x):\n",
    "        self.data = Cellule(x,self.data)\n",
    "    \n",
    "    def depile(self):\n",
    "        v = self.data.contenu #on récupère la valeur à renvoyer\n",
    "        self.data = self.data.suivante  # on supprime la 1ère cellule  \n",
    "        return v\n",
    "    \n",
    "    def __str__(self):\n",
    "        s = \"|\"\n",
    "        c = self.data\n",
    "        while c != None :\n",
    "            s += str(c.contenu)+\"|\"\n",
    "            c = c.suivante\n",
    "        return s\n",
    "\n",
    "    \n",
    "# il ne faut pas oublier de remettre la classe Cellule qui intervient\n",
    "# dans notre classe Pile :\n",
    "\n",
    "class Cellule :\n",
    "    \n",
    "    def __init__(self, contenu, suivante):\n",
    "        self.contenu = contenu\n",
    "        self.suivante = suivante\n",
    "    \n"
   ]
  },
  {
   "cell_type": "code",
   "execution_count": 10,
   "metadata": {},
   "outputs": [],
   "source": [
    "class File:\n",
    "    def __init__(self):\n",
    "        self.entree = Pile()\n",
    "        self.sortie = Pile()\n",
    "   \n",
    "    def est_vide(self):\n",
    "        return self.entree.est_vide() and self.sortie.est_vide()\n",
    "\n",
    "    def enfile(self,x):\n",
    "        self.entree.empile(x)\n",
    "\n",
    "    def defile(self):\n",
    "        if self.est_vide():\n",
    "            raise IndexError(\"File vide !\")\n",
    "\n",
    "        if self.sortie.est_vide() == True :\n",
    "            while self.entree.est_vide() == False :\n",
    "                self.sortie.empile(self.entree.depile())\n",
    "\n",
    "        return self.sortie.depile()\n",
    "    \n",
    "    "
   ]
  },
  {
   "cell_type": "code",
   "execution_count": 11,
   "metadata": {},
   "outputs": [
    {
     "data": {
      "text/plain": [
       "5"
      ]
     },
     "execution_count": 11,
     "metadata": {},
     "output_type": "execute_result"
    }
   ],
   "source": [
    "f = File()\n",
    "f.enfile(5)\n",
    "f.enfile(8)\n",
    "\n",
    "f.defile()"
   ]
  },
  {
   "cell_type": "markdown",
   "metadata": {},
   "source": [
    "\n",
    "\n",
    "---\n",
    "## Bibliographie\n",
    "- Numérique et Sciences Informatiques, Terminale, T. BALABONSKI, S. CONCHON, J.-C. FILLIATRE, K. NGUYEN, éditions ELLIPSES.\n",
    "- Prépabac NSI, Terminale, G.CONNAN, V.PETROV, G.ROZSAVOLGYI, L.SIGNAC, éditions HATIER.\n",
    "- Cours du DIU-EIL, David RENAULT, Université de Bordeaux.\n",
    "\n",
    "\n",
    "---\n",
    "\n",
    "![](data/ccbysa.png \"image\") G.Lassus, Lycée François Mauriac --  Bordeaux  \n"
   ]
  },
  {
   "cell_type": "code",
   "execution_count": null,
   "metadata": {},
   "outputs": [],
   "source": []
  }
 ],
 "metadata": {
  "kernelspec": {
   "display_name": "Python 3",
   "language": "python",
   "name": "python3"
  },
  "language_info": {
   "codemirror_mode": {
    "name": "ipython",
    "version": 3
   },
   "file_extension": ".py",
   "mimetype": "text/x-python",
   "name": "python",
   "nbconvert_exporter": "python",
   "pygments_lexer": "ipython3",
   "version": "3.6.9"
  }
 },
 "nbformat": 4,
 "nbformat_minor": 4
}
